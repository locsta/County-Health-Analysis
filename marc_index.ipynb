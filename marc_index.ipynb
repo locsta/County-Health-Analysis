{
 "cells": [
  {
   "cell_type": "markdown",
   "metadata": {},
   "source": [
    "### Importing libraries"
   ]
  },
  {
   "cell_type": "code",
   "execution_count": 1,
   "metadata": {},
   "outputs": [],
   "source": [
    "import pandas as pd\n",
    "import numpy as np\n",
    "import matplotlib.pyplot as plt\n",
    "import seaborn as sns\n",
    "from functions import *\n",
    "from pprint import pprint\n",
    "from sklearn.preprocessing import scale\n",
    "from sklearn.linear_model import LinearRegression\n",
    "from sklearn.model_selection import KFold\n",
    "from sklearn.model_selection import cross_val_score\n",
    "from sklearn.preprocessing import PolynomialFeatures\n",
    "from sklearn.model_selection import train_test_split\n",
    "from sklearn.metrics import r2_score\n",
    "import statsmodels.api as sm\n",
    "\n",
    "%matplotlib inline"
   ]
  },
  {
   "cell_type": "markdown",
   "metadata": {},
   "source": [
    "#### Importing Dataset"
   ]
  },
  {
   "cell_type": "code",
   "execution_count": 2,
   "metadata": {},
   "outputs": [
    {
     "name": "stdout",
     "output_type": "stream",
     "text": [
      "\u001b[0m\u001b[01;32m'2019 County Health Rankings Data - v2.xls'\u001b[0m*   marc_index.ipynb\r\n",
      " \u001b[01;32manalytic_data2019.csv\u001b[0m*                        \u001b[01;34m__pycache__\u001b[0m/\r\n",
      " clean.csv                                     README.md\r\n",
      " \u001b[01;34mexternal_modules\u001b[0m/                             shuyu_index.ipynb\r\n",
      " functions.py\r\n"
     ]
    }
   ],
   "source": [
    "ls"
   ]
  },
  {
   "cell_type": "markdown",
   "metadata": {},
   "source": [
    "### If the cleaning process has already been done jump to import the cleaned csv later in the file"
   ]
  },
  {
   "cell_type": "code",
   "execution_count": 3,
   "metadata": {
    "scrolled": true
   },
   "outputs": [],
   "source": [
    "xls = pd.ExcelFile('2019 County Health Rankings Data - v2.xls')\n",
    "df = pd.read_excel(xls, 'Additional Measure Data',skiprows=1)"
   ]
  },
  {
   "cell_type": "code",
   "execution_count": 4,
   "metadata": {},
   "outputs": [
    {
     "data": {
      "text/html": [
       "<div>\n",
       "<style scoped>\n",
       "    .dataframe tbody tr th:only-of-type {\n",
       "        vertical-align: middle;\n",
       "    }\n",
       "\n",
       "    .dataframe tbody tr th {\n",
       "        vertical-align: top;\n",
       "    }\n",
       "\n",
       "    .dataframe thead th {\n",
       "        text-align: right;\n",
       "    }\n",
       "</style>\n",
       "<table border=\"1\" class=\"dataframe\">\n",
       "  <thead>\n",
       "    <tr style=\"text-align: right;\">\n",
       "      <th></th>\n",
       "      <th>FIPS</th>\n",
       "      <th>State</th>\n",
       "      <th>County</th>\n",
       "      <th>Life Expectancy</th>\n",
       "      <th>95% CI - Low</th>\n",
       "      <th>95% CI - High</th>\n",
       "      <th>Life Expectancy (Black)</th>\n",
       "      <th>Life Expectancy (Hispanic)</th>\n",
       "      <th>Life Expectancy (White)</th>\n",
       "      <th># Deaths</th>\n",
       "      <th>...</th>\n",
       "      <th>% Hispanic</th>\n",
       "      <th># Non-Hispanic White</th>\n",
       "      <th>% Non-Hispanic White</th>\n",
       "      <th># Not Proficient in English</th>\n",
       "      <th>% Not Proficient in English</th>\n",
       "      <th>95% CI - Low.16</th>\n",
       "      <th>95% CI - High.16</th>\n",
       "      <th>% Female</th>\n",
       "      <th># Rural</th>\n",
       "      <th>% Rural</th>\n",
       "    </tr>\n",
       "  </thead>\n",
       "  <tbody>\n",
       "    <tr>\n",
       "      <th>0</th>\n",
       "      <td>1001</td>\n",
       "      <td>Alabama</td>\n",
       "      <td>Autauga</td>\n",
       "      <td>76.330589</td>\n",
       "      <td>75.554117</td>\n",
       "      <td>77.107061</td>\n",
       "      <td>74.600628</td>\n",
       "      <td>NaN</td>\n",
       "      <td>76.337219</td>\n",
       "      <td>815.0</td>\n",
       "      <td>...</td>\n",
       "      <td>2.857452</td>\n",
       "      <td>41336</td>\n",
       "      <td>74.473912</td>\n",
       "      <td>430</td>\n",
       "      <td>0.828548</td>\n",
       "      <td>0.422472</td>\n",
       "      <td>1.234624</td>\n",
       "      <td>51.342246</td>\n",
       "      <td>22921.0</td>\n",
       "      <td>42.002162</td>\n",
       "    </tr>\n",
       "    <tr>\n",
       "      <th>1</th>\n",
       "      <td>1003</td>\n",
       "      <td>Alabama</td>\n",
       "      <td>Baldwin</td>\n",
       "      <td>78.599498</td>\n",
       "      <td>78.208357</td>\n",
       "      <td>78.990639</td>\n",
       "      <td>75.628919</td>\n",
       "      <td>98.039893</td>\n",
       "      <td>78.537003</td>\n",
       "      <td>2827.0</td>\n",
       "      <td>...</td>\n",
       "      <td>4.550200</td>\n",
       "      <td>176582</td>\n",
       "      <td>83.047388</td>\n",
       "      <td>872</td>\n",
       "      <td>0.454512</td>\n",
       "      <td>0.282144</td>\n",
       "      <td>0.626880</td>\n",
       "      <td>51.452772</td>\n",
       "      <td>77060.0</td>\n",
       "      <td>42.279099</td>\n",
       "    </tr>\n",
       "    <tr>\n",
       "      <th>2</th>\n",
       "      <td>1005</td>\n",
       "      <td>Alabama</td>\n",
       "      <td>Barbour</td>\n",
       "      <td>75.779457</td>\n",
       "      <td>74.639355</td>\n",
       "      <td>76.919559</td>\n",
       "      <td>74.240228</td>\n",
       "      <td>NaN</td>\n",
       "      <td>77.568384</td>\n",
       "      <td>451.0</td>\n",
       "      <td>...</td>\n",
       "      <td>4.206569</td>\n",
       "      <td>11613</td>\n",
       "      <td>45.955679</td>\n",
       "      <td>297</td>\n",
       "      <td>1.199273</td>\n",
       "      <td>0.580536</td>\n",
       "      <td>1.818011</td>\n",
       "      <td>47.229917</td>\n",
       "      <td>18613.0</td>\n",
       "      <td>67.789635</td>\n",
       "    </tr>\n",
       "    <tr>\n",
       "      <th>3</th>\n",
       "      <td>1007</td>\n",
       "      <td>Alabama</td>\n",
       "      <td>Bibb</td>\n",
       "      <td>73.928271</td>\n",
       "      <td>72.624611</td>\n",
       "      <td>75.231931</td>\n",
       "      <td>72.294686</td>\n",
       "      <td>NaN</td>\n",
       "      <td>74.109510</td>\n",
       "      <td>445.0</td>\n",
       "      <td>...</td>\n",
       "      <td>2.638080</td>\n",
       "      <td>16842</td>\n",
       "      <td>74.298571</td>\n",
       "      <td>84</td>\n",
       "      <td>0.394348</td>\n",
       "      <td>0.000000</td>\n",
       "      <td>0.933361</td>\n",
       "      <td>46.453150</td>\n",
       "      <td>15663.0</td>\n",
       "      <td>68.352607</td>\n",
       "    </tr>\n",
       "    <tr>\n",
       "      <th>4</th>\n",
       "      <td>1009</td>\n",
       "      <td>Alabama</td>\n",
       "      <td>Blount</td>\n",
       "      <td>74.597767</td>\n",
       "      <td>73.810999</td>\n",
       "      <td>75.384535</td>\n",
       "      <td>NaN</td>\n",
       "      <td>78.577094</td>\n",
       "      <td>74.098247</td>\n",
       "      <td>1050.0</td>\n",
       "      <td>...</td>\n",
       "      <td>9.565097</td>\n",
       "      <td>50439</td>\n",
       "      <td>86.944306</td>\n",
       "      <td>1013</td>\n",
       "      <td>1.870004</td>\n",
       "      <td>1.364180</td>\n",
       "      <td>2.375829</td>\n",
       "      <td>50.688639</td>\n",
       "      <td>51562.0</td>\n",
       "      <td>89.951502</td>\n",
       "    </tr>\n",
       "  </tbody>\n",
       "</table>\n",
       "<p>5 rows × 111 columns</p>\n",
       "</div>"
      ],
      "text/plain": [
       "   FIPS    State   County  Life Expectancy  95% CI - Low  95% CI - High  \\\n",
       "0  1001  Alabama  Autauga        76.330589     75.554117      77.107061   \n",
       "1  1003  Alabama  Baldwin        78.599498     78.208357      78.990639   \n",
       "2  1005  Alabama  Barbour        75.779457     74.639355      76.919559   \n",
       "3  1007  Alabama     Bibb        73.928271     72.624611      75.231931   \n",
       "4  1009  Alabama   Blount        74.597767     73.810999      75.384535   \n",
       "\n",
       "   Life Expectancy (Black)  Life Expectancy (Hispanic)  \\\n",
       "0                74.600628                         NaN   \n",
       "1                75.628919                   98.039893   \n",
       "2                74.240228                         NaN   \n",
       "3                72.294686                         NaN   \n",
       "4                      NaN                   78.577094   \n",
       "\n",
       "   Life Expectancy (White)  # Deaths  ...  % Hispanic  # Non-Hispanic White  \\\n",
       "0                76.337219     815.0  ...    2.857452                 41336   \n",
       "1                78.537003    2827.0  ...    4.550200                176582   \n",
       "2                77.568384     451.0  ...    4.206569                 11613   \n",
       "3                74.109510     445.0  ...    2.638080                 16842   \n",
       "4                74.098247    1050.0  ...    9.565097                 50439   \n",
       "\n",
       "   % Non-Hispanic White  # Not Proficient in English  \\\n",
       "0             74.473912                          430   \n",
       "1             83.047388                          872   \n",
       "2             45.955679                          297   \n",
       "3             74.298571                           84   \n",
       "4             86.944306                         1013   \n",
       "\n",
       "   % Not Proficient in English  95% CI - Low.16  95% CI - High.16   % Female  \\\n",
       "0                     0.828548         0.422472          1.234624  51.342246   \n",
       "1                     0.454512         0.282144          0.626880  51.452772   \n",
       "2                     1.199273         0.580536          1.818011  47.229917   \n",
       "3                     0.394348         0.000000          0.933361  46.453150   \n",
       "4                     1.870004         1.364180          2.375829  50.688639   \n",
       "\n",
       "   # Rural    % Rural  \n",
       "0  22921.0  42.002162  \n",
       "1  77060.0  42.279099  \n",
       "2  18613.0  67.789635  \n",
       "3  15663.0  68.352607  \n",
       "4  51562.0  89.951502  \n",
       "\n",
       "[5 rows x 111 columns]"
      ]
     },
     "execution_count": 4,
     "metadata": {},
     "output_type": "execute_result"
    }
   ],
   "source": [
    "df.head()"
   ]
  },
  {
   "cell_type": "code",
   "execution_count": 5,
   "metadata": {},
   "outputs": [
    {
     "data": {
      "text/html": [
       "<div>\n",
       "<style scoped>\n",
       "    .dataframe tbody tr th:only-of-type {\n",
       "        vertical-align: middle;\n",
       "    }\n",
       "\n",
       "    .dataframe tbody tr th {\n",
       "        vertical-align: top;\n",
       "    }\n",
       "\n",
       "    .dataframe thead th {\n",
       "        text-align: right;\n",
       "    }\n",
       "</style>\n",
       "<table border=\"1\" class=\"dataframe\">\n",
       "  <thead>\n",
       "    <tr style=\"text-align: right;\">\n",
       "      <th></th>\n",
       "      <th>State</th>\n",
       "      <th>County</th>\n",
       "      <th>Other PCP Ratio</th>\n",
       "    </tr>\n",
       "  </thead>\n",
       "  <tbody>\n",
       "    <tr>\n",
       "      <th>0</th>\n",
       "      <td>Alabama</td>\n",
       "      <td>Autauga</td>\n",
       "      <td>3265:1</td>\n",
       "    </tr>\n",
       "    <tr>\n",
       "      <th>1</th>\n",
       "      <td>Alabama</td>\n",
       "      <td>Baldwin</td>\n",
       "      <td>1916:1</td>\n",
       "    </tr>\n",
       "  </tbody>\n",
       "</table>\n",
       "</div>"
      ],
      "text/plain": [
       "     State   County Other PCP Ratio\n",
       "0  Alabama  Autauga          3265:1\n",
       "1  Alabama  Baldwin          1916:1"
      ]
     },
     "execution_count": 5,
     "metadata": {},
     "output_type": "execute_result"
    }
   ],
   "source": [
    "df.select_dtypes(include=['object'])[:2]"
   ]
  },
  {
   "cell_type": "markdown",
   "metadata": {},
   "source": [
    "### Exploratory Data Analysis"
   ]
  },
  {
   "cell_type": "markdown",
   "metadata": {},
   "source": [
    "#### Renaming columns"
   ]
  },
  {
   "cell_type": "code",
   "execution_count": 6,
   "metadata": {},
   "outputs": [
    {
     "name": "stdout",
     "output_type": "stream",
     "text": [
      "['FIPS', 'State', 'County', 'Life_Expectancy', '95%_CI_-_Low']\n"
     ]
    }
   ],
   "source": [
    "columns_name = df.columns\n",
    "new_column_names = []\n",
    "for column_name in columns_name:\n",
    "    new_column_names.append(column_name.replace(\" \", \"_\"))\n",
    "pprint(new_column_names[:5])\n",
    "df.columns = new_column_names"
   ]
  },
  {
   "cell_type": "markdown",
   "metadata": {},
   "source": [
    "#### Renaming counties"
   ]
  },
  {
   "cell_type": "code",
   "execution_count": 7,
   "metadata": {},
   "outputs": [],
   "source": [
    "county_names = df[\"County\"]\n",
    "new_county_names = []\n",
    "for county_name in county_names:\n",
    "    new_county_names.append(county_name.replace(\" \", \"_\"))\n",
    "df[\"County\"] = new_county_names"
   ]
  },
  {
   "cell_type": "markdown",
   "metadata": {},
   "source": [
    "#### Dropping ethnicies columns and columns with a lot of missing values"
   ]
  },
  {
   "cell_type": "code",
   "execution_count": 8,
   "metadata": {},
   "outputs": [],
   "source": [
    "to_drop = [\"Other_PCP_Ratio\", \"FIPS\", \"Segregation_index\", \"Segregation_Index\" , \"%_Free_or_Reduced_Lunch\", \"#_HIV_Cases\", \"HIV_Prevalence_Rate\"]\n",
    "#Data is missing for HIV only in South Dakota, replace it by country weighted average later or look at this column in depth\n",
    "containing = [\"CI_-_Low\", \"CI_-_High\", \"#_\",\"White\", \"Hispanic\", \"Black\", \"Asian\" ,\"Alaskan\", \"Indian\", \"Hawaiian\", \"African\"]\n",
    "for column in df.columns:\n",
    "    if (column in to_drop) or any(word in column for word in containing):\n",
    "        df = df.drop([column], axis=1)"
   ]
  },
  {
   "cell_type": "code",
   "execution_count": 9,
   "metadata": {},
   "outputs": [
    {
     "data": {
      "text/plain": [
       "Index(['State', 'County', 'Life_Expectancy', 'Age-Adjusted_Mortality',\n",
       "       'Child_Mortality_Rate', 'Infant_Mortality_Rate',\n",
       "       '%_Frequent_Physical_Distress', '%_Frequent_Mental_Distress',\n",
       "       '%_Diabetic', '%_Food_Insecure', '%_Limited_Access',\n",
       "       'Drug_Overdose_Mortality_Rate', 'MV_Mortality_Rate',\n",
       "       '%_Insufficient_Sleep', '%_Uninsured', '%_Uninsured.1',\n",
       "       'Other_PCP_Rate', '%_Disconnected_Youth', 'Household_Income',\n",
       "       'Homicide_Rate', 'Firearm_Fatalities_Rate', '%_Homeowners',\n",
       "       '%_Severe_Housing_Cost_Burden', 'Population', '%_<_18', '%_65_and_over',\n",
       "       '%_Not_Proficient_in_English', '%_Female', '%_Rural'],\n",
       "      dtype='object')"
      ]
     },
     "execution_count": 9,
     "metadata": {},
     "output_type": "execute_result"
    }
   ],
   "source": [
    "df.columns"
   ]
  },
  {
   "cell_type": "code",
   "execution_count": 10,
   "metadata": {},
   "outputs": [],
   "source": [
    "#Not necessary --> df[\"%_18_and_<_65\"] = 100 - (df[\"%_<_18\"] + df[\"%_65_and_over\"])"
   ]
  },
  {
   "cell_type": "code",
   "execution_count": 11,
   "metadata": {},
   "outputs": [],
   "source": [
    "ren_col = {\"Household_Income\": \"Household_Median_Income\",\n",
    "           \"%_Uninsured\": \"%_Uninsured_adults\",\n",
    "           \"%_Uninsured.1\" : \"%_Uninsured_children\",\n",
    "           \"%_Limited_Access\": \"%_Limited_Access_Healthy_Food\"}"
   ]
  },
  {
   "cell_type": "code",
   "execution_count": 12,
   "metadata": {},
   "outputs": [],
   "source": [
    "df.rename(columns=ren_col, inplace=True)"
   ]
  },
  {
   "cell_type": "markdown",
   "metadata": {},
   "source": [
    "#### Delete rows missing Life Expectancy"
   ]
  },
  {
   "cell_type": "code",
   "execution_count": 13,
   "metadata": {},
   "outputs": [],
   "source": [
    "df = df.dropna(subset=[\"Life_Expectancy\"])"
   ]
  },
  {
   "cell_type": "markdown",
   "metadata": {},
   "source": [
    "### Fill counties missing values using states weighted averages"
   ]
  },
  {
   "cell_type": "code",
   "execution_count": 14,
   "metadata": {},
   "outputs": [
    {
     "data": {
      "text/html": [
       "<div>\n",
       "<style scoped>\n",
       "    .dataframe tbody tr th:only-of-type {\n",
       "        vertical-align: middle;\n",
       "    }\n",
       "\n",
       "    .dataframe tbody tr th {\n",
       "        vertical-align: top;\n",
       "    }\n",
       "\n",
       "    .dataframe thead th {\n",
       "        text-align: right;\n",
       "    }\n",
       "</style>\n",
       "<table border=\"1\" class=\"dataframe\">\n",
       "  <thead>\n",
       "    <tr style=\"text-align: right;\">\n",
       "      <th></th>\n",
       "      <th>State</th>\n",
       "      <th>County</th>\n",
       "      <th>Life_Expectancy</th>\n",
       "      <th>Age-Adjusted_Mortality</th>\n",
       "      <th>Child_Mortality_Rate</th>\n",
       "      <th>Infant_Mortality_Rate</th>\n",
       "      <th>%_Frequent_Physical_Distress</th>\n",
       "      <th>%_Frequent_Mental_Distress</th>\n",
       "      <th>%_Diabetic</th>\n",
       "      <th>%_Food_Insecure</th>\n",
       "      <th>...</th>\n",
       "      <th>Homicide_Rate</th>\n",
       "      <th>Firearm_Fatalities_Rate</th>\n",
       "      <th>%_Homeowners</th>\n",
       "      <th>%_Severe_Housing_Cost_Burden</th>\n",
       "      <th>Population</th>\n",
       "      <th>%_&lt;_18</th>\n",
       "      <th>%_65_and_over</th>\n",
       "      <th>%_Not_Proficient_in_English</th>\n",
       "      <th>%_Female</th>\n",
       "      <th>%_Rural</th>\n",
       "    </tr>\n",
       "  </thead>\n",
       "  <tbody>\n",
       "    <tr>\n",
       "      <th>0</th>\n",
       "      <td>Alabama</td>\n",
       "      <td>Autauga</td>\n",
       "      <td>76.330589</td>\n",
       "      <td>438.7</td>\n",
       "      <td>53.279441</td>\n",
       "      <td>7.699275</td>\n",
       "      <td>12.824434</td>\n",
       "      <td>12.638357</td>\n",
       "      <td>14.2</td>\n",
       "      <td>13.4</td>\n",
       "      <td>...</td>\n",
       "      <td>5.2</td>\n",
       "      <td>17.7</td>\n",
       "      <td>73.287736</td>\n",
       "      <td>12.645206</td>\n",
       "      <td>55504</td>\n",
       "      <td>23.937014</td>\n",
       "      <td>15.119631</td>\n",
       "      <td>0.828548</td>\n",
       "      <td>51.342246</td>\n",
       "      <td>42.002162</td>\n",
       "    </tr>\n",
       "    <tr>\n",
       "      <th>1</th>\n",
       "      <td>Alabama</td>\n",
       "      <td>Baldwin</td>\n",
       "      <td>78.599498</td>\n",
       "      <td>348.4</td>\n",
       "      <td>47.000017</td>\n",
       "      <td>5.851337</td>\n",
       "      <td>12.622002</td>\n",
       "      <td>12.822558</td>\n",
       "      <td>11.3</td>\n",
       "      <td>12.3</td>\n",
       "      <td>...</td>\n",
       "      <td>2.9</td>\n",
       "      <td>14.4</td>\n",
       "      <td>72.859338</td>\n",
       "      <td>12.795922</td>\n",
       "      <td>212628</td>\n",
       "      <td>21.848487</td>\n",
       "      <td>19.947044</td>\n",
       "      <td>0.454512</td>\n",
       "      <td>51.452772</td>\n",
       "      <td>42.279099</td>\n",
       "    </tr>\n",
       "  </tbody>\n",
       "</table>\n",
       "<p>2 rows × 29 columns</p>\n",
       "</div>"
      ],
      "text/plain": [
       "     State   County  Life_Expectancy  Age-Adjusted_Mortality  \\\n",
       "0  Alabama  Autauga        76.330589                   438.7   \n",
       "1  Alabama  Baldwin        78.599498                   348.4   \n",
       "\n",
       "   Child_Mortality_Rate  Infant_Mortality_Rate  %_Frequent_Physical_Distress  \\\n",
       "0             53.279441               7.699275                     12.824434   \n",
       "1             47.000017               5.851337                     12.622002   \n",
       "\n",
       "   %_Frequent_Mental_Distress  %_Diabetic  %_Food_Insecure  ...  \\\n",
       "0                   12.638357        14.2             13.4  ...   \n",
       "1                   12.822558        11.3             12.3  ...   \n",
       "\n",
       "   Homicide_Rate  Firearm_Fatalities_Rate  %_Homeowners  \\\n",
       "0            5.2                     17.7     73.287736   \n",
       "1            2.9                     14.4     72.859338   \n",
       "\n",
       "   %_Severe_Housing_Cost_Burden  Population     %_<_18  %_65_and_over  \\\n",
       "0                     12.645206       55504  23.937014      15.119631   \n",
       "1                     12.795922      212628  21.848487      19.947044   \n",
       "\n",
       "   %_Not_Proficient_in_English   %_Female    %_Rural  \n",
       "0                     0.828548  51.342246  42.002162  \n",
       "1                     0.454512  51.452772  42.279099  \n",
       "\n",
       "[2 rows x 29 columns]"
      ]
     },
     "execution_count": 14,
     "metadata": {},
     "output_type": "execute_result"
    }
   ],
   "source": [
    "df.head(2)"
   ]
  },
  {
   "cell_type": "markdown",
   "metadata": {},
   "source": [
    "#### Calculate the weighted averages for each columns in each states"
   ]
  },
  {
   "cell_type": "code",
   "execution_count": 15,
   "metadata": {},
   "outputs": [],
   "source": [
    "states = list(df.State.unique())\n",
    "columns = [x for x in list(df.columns) if x not in [\"State\", \"County\"]]"
   ]
  },
  {
   "cell_type": "code",
   "execution_count": 16,
   "metadata": {},
   "outputs": [],
   "source": [
    "state_wv = {}\n",
    "for state in states:\n",
    "    df_state = df.loc[df[\"State\"] == state]\n",
    "    for column in columns:\n",
    "        values = df_state.dropna(subset=[column])[column]\n",
    "        population_value = df_state.dropna(subset=[column])[\"Population\"].astype(np.float64)\n",
    "        population = np.sum(df_state.dropna(subset=[column])[\"Population\"])\n",
    "        if population != 0:\n",
    "            wv = (values * population_value).sum() / population\n",
    "            if not state_wv.get(state):\n",
    "                state_wv[state] = {}\n",
    "            state_wv[state][column] = float(wv)\n",
    "        else:\n",
    "            print(f\"No data for {column} in {state}\")"
   ]
  },
  {
   "cell_type": "markdown",
   "metadata": {},
   "source": [
    "#### Fill each missing values by states weighted averages"
   ]
  },
  {
   "cell_type": "code",
   "execution_count": 17,
   "metadata": {},
   "outputs": [
    {
     "name": "stderr",
     "output_type": "stream",
     "text": [
      "/home/locsta/anaconda3/lib/python3.7/site-packages/ipykernel_launcher.py:6: SettingWithCopyWarning: \n",
      "A value is trying to be set on a copy of a slice from a DataFrame\n",
      "\n",
      "See the caveats in the documentation: http://pandas.pydata.org/pandas-docs/stable/indexing.html#indexing-view-versus-copy\n",
      "  \n"
     ]
    }
   ],
   "source": [
    "df_filled = df.copy()\n",
    "for index in df.index:\n",
    "    for column in df.columns:\n",
    "        if column not in [\"State\",\"County\"]:\n",
    "            if np.isnan(df[column][index]):\n",
    "                df_filled[column][index] = state_wv[df[\"State\"][index]][column]"
   ]
  },
  {
   "cell_type": "code",
   "execution_count": 18,
   "metadata": {},
   "outputs": [
    {
     "data": {
      "text/html": [
       "<div>\n",
       "<style scoped>\n",
       "    .dataframe tbody tr th:only-of-type {\n",
       "        vertical-align: middle;\n",
       "    }\n",
       "\n",
       "    .dataframe tbody tr th {\n",
       "        vertical-align: top;\n",
       "    }\n",
       "\n",
       "    .dataframe thead th {\n",
       "        text-align: right;\n",
       "    }\n",
       "</style>\n",
       "<table border=\"1\" class=\"dataframe\">\n",
       "  <thead>\n",
       "    <tr style=\"text-align: right;\">\n",
       "      <th></th>\n",
       "      <th>State</th>\n",
       "      <th>County</th>\n",
       "      <th>Life_Expectancy</th>\n",
       "      <th>Age-Adjusted_Mortality</th>\n",
       "      <th>Child_Mortality_Rate</th>\n",
       "      <th>Infant_Mortality_Rate</th>\n",
       "      <th>%_Frequent_Physical_Distress</th>\n",
       "      <th>%_Frequent_Mental_Distress</th>\n",
       "      <th>%_Diabetic</th>\n",
       "      <th>%_Food_Insecure</th>\n",
       "      <th>...</th>\n",
       "      <th>Homicide_Rate</th>\n",
       "      <th>Firearm_Fatalities_Rate</th>\n",
       "      <th>%_Homeowners</th>\n",
       "      <th>%_Severe_Housing_Cost_Burden</th>\n",
       "      <th>Population</th>\n",
       "      <th>%_&lt;_18</th>\n",
       "      <th>%_65_and_over</th>\n",
       "      <th>%_Not_Proficient_in_English</th>\n",
       "      <th>%_Female</th>\n",
       "      <th>%_Rural</th>\n",
       "    </tr>\n",
       "  </thead>\n",
       "  <tbody>\n",
       "    <tr>\n",
       "      <th>0</th>\n",
       "      <td>Alabama</td>\n",
       "      <td>Autauga</td>\n",
       "      <td>76.330589</td>\n",
       "      <td>438.7</td>\n",
       "      <td>53.279441</td>\n",
       "      <td>7.699275</td>\n",
       "      <td>12.824434</td>\n",
       "      <td>12.638357</td>\n",
       "      <td>14.2</td>\n",
       "      <td>13.4</td>\n",
       "      <td>...</td>\n",
       "      <td>5.2</td>\n",
       "      <td>17.7</td>\n",
       "      <td>73.287736</td>\n",
       "      <td>12.645206</td>\n",
       "      <td>55504</td>\n",
       "      <td>23.937014</td>\n",
       "      <td>15.119631</td>\n",
       "      <td>0.828548</td>\n",
       "      <td>51.342246</td>\n",
       "      <td>42.002162</td>\n",
       "    </tr>\n",
       "    <tr>\n",
       "      <th>1</th>\n",
       "      <td>Alabama</td>\n",
       "      <td>Baldwin</td>\n",
       "      <td>78.599498</td>\n",
       "      <td>348.4</td>\n",
       "      <td>47.000017</td>\n",
       "      <td>5.851337</td>\n",
       "      <td>12.622002</td>\n",
       "      <td>12.822558</td>\n",
       "      <td>11.3</td>\n",
       "      <td>12.3</td>\n",
       "      <td>...</td>\n",
       "      <td>2.9</td>\n",
       "      <td>14.4</td>\n",
       "      <td>72.859338</td>\n",
       "      <td>12.795922</td>\n",
       "      <td>212628</td>\n",
       "      <td>21.848487</td>\n",
       "      <td>19.947044</td>\n",
       "      <td>0.454512</td>\n",
       "      <td>51.452772</td>\n",
       "      <td>42.279099</td>\n",
       "    </tr>\n",
       "    <tr>\n",
       "      <th>2</th>\n",
       "      <td>Alabama</td>\n",
       "      <td>Barbour</td>\n",
       "      <td>75.779457</td>\n",
       "      <td>469.8</td>\n",
       "      <td>77.080027</td>\n",
       "      <td>8.444680</td>\n",
       "      <td>16.216160</td>\n",
       "      <td>14.632311</td>\n",
       "      <td>18.0</td>\n",
       "      <td>23.2</td>\n",
       "      <td>...</td>\n",
       "      <td>7.0</td>\n",
       "      <td>15.2</td>\n",
       "      <td>62.506800</td>\n",
       "      <td>13.586765</td>\n",
       "      <td>25270</td>\n",
       "      <td>20.763751</td>\n",
       "      <td>18.824693</td>\n",
       "      <td>1.199273</td>\n",
       "      <td>47.229917</td>\n",
       "      <td>67.789635</td>\n",
       "    </tr>\n",
       "    <tr>\n",
       "      <th>3</th>\n",
       "      <td>Alabama</td>\n",
       "      <td>Bibb</td>\n",
       "      <td>73.928271</td>\n",
       "      <td>563.7</td>\n",
       "      <td>111.749681</td>\n",
       "      <td>14.792899</td>\n",
       "      <td>13.162968</td>\n",
       "      <td>12.854036</td>\n",
       "      <td>14.9</td>\n",
       "      <td>15.8</td>\n",
       "      <td>...</td>\n",
       "      <td>8.2</td>\n",
       "      <td>21.3</td>\n",
       "      <td>75.361481</td>\n",
       "      <td>8.733889</td>\n",
       "      <td>22668</td>\n",
       "      <td>20.606141</td>\n",
       "      <td>16.022587</td>\n",
       "      <td>0.394348</td>\n",
       "      <td>46.453150</td>\n",
       "      <td>68.352607</td>\n",
       "    </tr>\n",
       "    <tr>\n",
       "      <th>4</th>\n",
       "      <td>Alabama</td>\n",
       "      <td>Blount</td>\n",
       "      <td>74.597767</td>\n",
       "      <td>501.8</td>\n",
       "      <td>76.032935</td>\n",
       "      <td>6.184688</td>\n",
       "      <td>13.720057</td>\n",
       "      <td>13.827943</td>\n",
       "      <td>14.3</td>\n",
       "      <td>11.0</td>\n",
       "      <td>...</td>\n",
       "      <td>7.4</td>\n",
       "      <td>19.7</td>\n",
       "      <td>78.521025</td>\n",
       "      <td>8.194495</td>\n",
       "      <td>58013</td>\n",
       "      <td>23.349939</td>\n",
       "      <td>17.842553</td>\n",
       "      <td>1.870004</td>\n",
       "      <td>50.688639</td>\n",
       "      <td>89.951502</td>\n",
       "    </tr>\n",
       "  </tbody>\n",
       "</table>\n",
       "<p>5 rows × 29 columns</p>\n",
       "</div>"
      ],
      "text/plain": [
       "     State   County  Life_Expectancy  Age-Adjusted_Mortality  \\\n",
       "0  Alabama  Autauga        76.330589                   438.7   \n",
       "1  Alabama  Baldwin        78.599498                   348.4   \n",
       "2  Alabama  Barbour        75.779457                   469.8   \n",
       "3  Alabama     Bibb        73.928271                   563.7   \n",
       "4  Alabama   Blount        74.597767                   501.8   \n",
       "\n",
       "   Child_Mortality_Rate  Infant_Mortality_Rate  %_Frequent_Physical_Distress  \\\n",
       "0             53.279441               7.699275                     12.824434   \n",
       "1             47.000017               5.851337                     12.622002   \n",
       "2             77.080027               8.444680                     16.216160   \n",
       "3            111.749681              14.792899                     13.162968   \n",
       "4             76.032935               6.184688                     13.720057   \n",
       "\n",
       "   %_Frequent_Mental_Distress  %_Diabetic  %_Food_Insecure  ...  \\\n",
       "0                   12.638357        14.2             13.4  ...   \n",
       "1                   12.822558        11.3             12.3  ...   \n",
       "2                   14.632311        18.0             23.2  ...   \n",
       "3                   12.854036        14.9             15.8  ...   \n",
       "4                   13.827943        14.3             11.0  ...   \n",
       "\n",
       "   Homicide_Rate  Firearm_Fatalities_Rate  %_Homeowners  \\\n",
       "0            5.2                     17.7     73.287736   \n",
       "1            2.9                     14.4     72.859338   \n",
       "2            7.0                     15.2     62.506800   \n",
       "3            8.2                     21.3     75.361481   \n",
       "4            7.4                     19.7     78.521025   \n",
       "\n",
       "   %_Severe_Housing_Cost_Burden  Population     %_<_18  %_65_and_over  \\\n",
       "0                     12.645206       55504  23.937014      15.119631   \n",
       "1                     12.795922      212628  21.848487      19.947044   \n",
       "2                     13.586765       25270  20.763751      18.824693   \n",
       "3                      8.733889       22668  20.606141      16.022587   \n",
       "4                      8.194495       58013  23.349939      17.842553   \n",
       "\n",
       "   %_Not_Proficient_in_English   %_Female    %_Rural  \n",
       "0                     0.828548  51.342246  42.002162  \n",
       "1                     0.454512  51.452772  42.279099  \n",
       "2                     1.199273  47.229917  67.789635  \n",
       "3                     0.394348  46.453150  68.352607  \n",
       "4                     1.870004  50.688639  89.951502  \n",
       "\n",
       "[5 rows x 29 columns]"
      ]
     },
     "execution_count": 18,
     "metadata": {},
     "output_type": "execute_result"
    }
   ],
   "source": [
    "df_filled.head()"
   ]
  },
  {
   "cell_type": "markdown",
   "metadata": {},
   "source": [
    "#### Saving cleaned DataFrame to csv file"
   ]
  },
  {
   "cell_type": "code",
   "execution_count": 19,
   "metadata": {},
   "outputs": [],
   "source": [
    "df_filled.to_csv(r\"/home/locsta/Documents/FlatIron/County-Health-Analysis/clean.csv\", index=False)"
   ]
  },
  {
   "cell_type": "markdown",
   "metadata": {},
   "source": [
    "### Importing Cleaned CSV"
   ]
  },
  {
   "cell_type": "code",
   "execution_count": 2,
   "metadata": {},
   "outputs": [
    {
     "data": {
      "text/html": [
       "<div>\n",
       "<style scoped>\n",
       "    .dataframe tbody tr th:only-of-type {\n",
       "        vertical-align: middle;\n",
       "    }\n",
       "\n",
       "    .dataframe tbody tr th {\n",
       "        vertical-align: top;\n",
       "    }\n",
       "\n",
       "    .dataframe thead th {\n",
       "        text-align: right;\n",
       "    }\n",
       "</style>\n",
       "<table border=\"1\" class=\"dataframe\">\n",
       "  <thead>\n",
       "    <tr style=\"text-align: right;\">\n",
       "      <th></th>\n",
       "      <th>State</th>\n",
       "      <th>County</th>\n",
       "      <th>Life_Expectancy</th>\n",
       "      <th>Age-Adjusted_Mortality</th>\n",
       "      <th>Child_Mortality_Rate</th>\n",
       "      <th>Infant_Mortality_Rate</th>\n",
       "      <th>%_Frequent_Physical_Distress</th>\n",
       "      <th>%_Frequent_Mental_Distress</th>\n",
       "      <th>%_Diabetic</th>\n",
       "      <th>%_Food_Insecure</th>\n",
       "      <th>...</th>\n",
       "      <th>Homicide_Rate</th>\n",
       "      <th>Firearm_Fatalities_Rate</th>\n",
       "      <th>%_Homeowners</th>\n",
       "      <th>%_Severe_Housing_Cost_Burden</th>\n",
       "      <th>Population</th>\n",
       "      <th>%_&lt;_18</th>\n",
       "      <th>%_65_and_over</th>\n",
       "      <th>%_Not_Proficient_in_English</th>\n",
       "      <th>%_Female</th>\n",
       "      <th>%_Rural</th>\n",
       "    </tr>\n",
       "  </thead>\n",
       "  <tbody>\n",
       "    <tr>\n",
       "      <th>0</th>\n",
       "      <td>Alabama</td>\n",
       "      <td>Autauga</td>\n",
       "      <td>76.330589</td>\n",
       "      <td>438.7</td>\n",
       "      <td>53.279441</td>\n",
       "      <td>7.699275</td>\n",
       "      <td>12.824434</td>\n",
       "      <td>12.638357</td>\n",
       "      <td>14.2</td>\n",
       "      <td>13.4</td>\n",
       "      <td>...</td>\n",
       "      <td>5.2</td>\n",
       "      <td>17.7</td>\n",
       "      <td>73.287736</td>\n",
       "      <td>12.645206</td>\n",
       "      <td>55504</td>\n",
       "      <td>23.937014</td>\n",
       "      <td>15.119631</td>\n",
       "      <td>0.828548</td>\n",
       "      <td>51.342246</td>\n",
       "      <td>42.002162</td>\n",
       "    </tr>\n",
       "    <tr>\n",
       "      <th>1</th>\n",
       "      <td>Alabama</td>\n",
       "      <td>Baldwin</td>\n",
       "      <td>78.599498</td>\n",
       "      <td>348.4</td>\n",
       "      <td>47.000017</td>\n",
       "      <td>5.851337</td>\n",
       "      <td>12.622002</td>\n",
       "      <td>12.822558</td>\n",
       "      <td>11.3</td>\n",
       "      <td>12.3</td>\n",
       "      <td>...</td>\n",
       "      <td>2.9</td>\n",
       "      <td>14.4</td>\n",
       "      <td>72.859338</td>\n",
       "      <td>12.795922</td>\n",
       "      <td>212628</td>\n",
       "      <td>21.848487</td>\n",
       "      <td>19.947044</td>\n",
       "      <td>0.454512</td>\n",
       "      <td>51.452772</td>\n",
       "      <td>42.279099</td>\n",
       "    </tr>\n",
       "    <tr>\n",
       "      <th>2</th>\n",
       "      <td>Alabama</td>\n",
       "      <td>Barbour</td>\n",
       "      <td>75.779457</td>\n",
       "      <td>469.8</td>\n",
       "      <td>77.080027</td>\n",
       "      <td>8.444680</td>\n",
       "      <td>16.216160</td>\n",
       "      <td>14.632311</td>\n",
       "      <td>18.0</td>\n",
       "      <td>23.2</td>\n",
       "      <td>...</td>\n",
       "      <td>7.0</td>\n",
       "      <td>15.2</td>\n",
       "      <td>62.506800</td>\n",
       "      <td>13.586765</td>\n",
       "      <td>25270</td>\n",
       "      <td>20.763751</td>\n",
       "      <td>18.824693</td>\n",
       "      <td>1.199273</td>\n",
       "      <td>47.229917</td>\n",
       "      <td>67.789635</td>\n",
       "    </tr>\n",
       "    <tr>\n",
       "      <th>3</th>\n",
       "      <td>Alabama</td>\n",
       "      <td>Bibb</td>\n",
       "      <td>73.928271</td>\n",
       "      <td>563.7</td>\n",
       "      <td>111.749681</td>\n",
       "      <td>14.792899</td>\n",
       "      <td>13.162968</td>\n",
       "      <td>12.854036</td>\n",
       "      <td>14.9</td>\n",
       "      <td>15.8</td>\n",
       "      <td>...</td>\n",
       "      <td>8.2</td>\n",
       "      <td>21.3</td>\n",
       "      <td>75.361481</td>\n",
       "      <td>8.733889</td>\n",
       "      <td>22668</td>\n",
       "      <td>20.606141</td>\n",
       "      <td>16.022587</td>\n",
       "      <td>0.394348</td>\n",
       "      <td>46.453150</td>\n",
       "      <td>68.352607</td>\n",
       "    </tr>\n",
       "    <tr>\n",
       "      <th>4</th>\n",
       "      <td>Alabama</td>\n",
       "      <td>Blount</td>\n",
       "      <td>74.597767</td>\n",
       "      <td>501.8</td>\n",
       "      <td>76.032935</td>\n",
       "      <td>6.184688</td>\n",
       "      <td>13.720057</td>\n",
       "      <td>13.827943</td>\n",
       "      <td>14.3</td>\n",
       "      <td>11.0</td>\n",
       "      <td>...</td>\n",
       "      <td>7.4</td>\n",
       "      <td>19.7</td>\n",
       "      <td>78.521025</td>\n",
       "      <td>8.194495</td>\n",
       "      <td>58013</td>\n",
       "      <td>23.349939</td>\n",
       "      <td>17.842553</td>\n",
       "      <td>1.870004</td>\n",
       "      <td>50.688639</td>\n",
       "      <td>89.951502</td>\n",
       "    </tr>\n",
       "  </tbody>\n",
       "</table>\n",
       "<p>5 rows × 29 columns</p>\n",
       "</div>"
      ],
      "text/plain": [
       "     State   County  Life_Expectancy  Age-Adjusted_Mortality  \\\n",
       "0  Alabama  Autauga        76.330589                   438.7   \n",
       "1  Alabama  Baldwin        78.599498                   348.4   \n",
       "2  Alabama  Barbour        75.779457                   469.8   \n",
       "3  Alabama     Bibb        73.928271                   563.7   \n",
       "4  Alabama   Blount        74.597767                   501.8   \n",
       "\n",
       "   Child_Mortality_Rate  Infant_Mortality_Rate  %_Frequent_Physical_Distress  \\\n",
       "0             53.279441               7.699275                     12.824434   \n",
       "1             47.000017               5.851337                     12.622002   \n",
       "2             77.080027               8.444680                     16.216160   \n",
       "3            111.749681              14.792899                     13.162968   \n",
       "4             76.032935               6.184688                     13.720057   \n",
       "\n",
       "   %_Frequent_Mental_Distress  %_Diabetic  %_Food_Insecure  ...  \\\n",
       "0                   12.638357        14.2             13.4  ...   \n",
       "1                   12.822558        11.3             12.3  ...   \n",
       "2                   14.632311        18.0             23.2  ...   \n",
       "3                   12.854036        14.9             15.8  ...   \n",
       "4                   13.827943        14.3             11.0  ...   \n",
       "\n",
       "   Homicide_Rate  Firearm_Fatalities_Rate  %_Homeowners  \\\n",
       "0            5.2                     17.7     73.287736   \n",
       "1            2.9                     14.4     72.859338   \n",
       "2            7.0                     15.2     62.506800   \n",
       "3            8.2                     21.3     75.361481   \n",
       "4            7.4                     19.7     78.521025   \n",
       "\n",
       "   %_Severe_Housing_Cost_Burden  Population     %_<_18  %_65_and_over  \\\n",
       "0                     12.645206       55504  23.937014      15.119631   \n",
       "1                     12.795922      212628  21.848487      19.947044   \n",
       "2                     13.586765       25270  20.763751      18.824693   \n",
       "3                      8.733889       22668  20.606141      16.022587   \n",
       "4                      8.194495       58013  23.349939      17.842553   \n",
       "\n",
       "   %_Not_Proficient_in_English   %_Female    %_Rural  \n",
       "0                     0.828548  51.342246  42.002162  \n",
       "1                     0.454512  51.452772  42.279099  \n",
       "2                     1.199273  47.229917  67.789635  \n",
       "3                     0.394348  46.453150  68.352607  \n",
       "4                     1.870004  50.688639  89.951502  \n",
       "\n",
       "[5 rows x 29 columns]"
      ]
     },
     "execution_count": 2,
     "metadata": {},
     "output_type": "execute_result"
    }
   ],
   "source": [
    "df = pd.read_csv(\"clean.csv\")\n",
    "df.head()"
   ]
  },
  {
   "cell_type": "markdown",
   "metadata": {},
   "source": [
    "# TODO Check for homoscedaticity and normality\n",
    "https://github.com/learn-co-students/dsc-modeling-your-data-lab-london-ds-111819/tree/solution"
   ]
  },
  {
   "cell_type": "markdown",
   "metadata": {},
   "source": [
    "#### Plot variables distribution"
   ]
  },
  {
   "cell_type": "code",
   "execution_count": 3,
   "metadata": {},
   "outputs": [
    {
     "ename": "TypeError",
     "evalue": "Could not convert AutaugaBaldwinBarbourBibbBlountBullockButlerCalhounChambersCherokeeChiltonChoctawClarkeClayCleburneCoffeeColbertConecuhCoosaCovingtonCrenshawCullmanDaleDallasDeKalbElmoreEscambiaEtowahFayetteFranklinGenevaGreeneHaleHenryHoustonJacksonJeffersonLamarLauderdaleLawrenceLeeLimestoneLowndesMaconMadisonMarengoMarionMarshallMobileMonroeMontgomeryMorganPerryPickensPikeRandolphRussellSt._ClairShelbySumterTalladegaTallapoosaTuscaloosaWalkerWashingtonWilcoxWinstonAleutians_EastAleutians_WestAnchorageBethelDenaliDillinghamFairbanks_North_StarHainesHoonah-AngoonJuneauKenai_PeninsulaKetchikan_GatewayKodiak_IslandKusilvakMatanuska-SusitnaNomeNorth_SlopeNorthwest_ArcticPetersburgPrince_of_Wales-HyderSitkaSoutheast_FairbanksValdez-CordovaWrangellYukon-KoyukukApacheCochiseCoconinoGilaGrahamGreenleeLa_PazMaricopaMohaveNavajoPimaPinalSanta_CruzYavapaiYumaArkansasAshleyBaxterBentonBooneBradleyCalhounCarrollChicotClarkClayCleburneClevelandColumbiaConwayCraigheadCrawfordCrittendenCrossDallasDeshaDrewFaulknerFranklinFultonGarlandGrantGreeneHempsteadHot_SpringHowardIndependenceIzardJacksonJeffersonJohnsonLafayetteLawrenceLeeLincolnLittle_RiverLoganLonokeMadisonMarionMillerMississippiMonroeMontgomeryNevadaNewtonOuachitaPerryPhillipsPikePoinsettPolkPopePrairiePulaskiRandolphSt._FrancisSalineScottSearcySebastianSevierSharpStoneUnionVan_BurenWashingtonWhiteWoodruffYellAlamedaAmadorButteCalaverasColusaContra_CostaDel_NorteEl_DoradoFresnoGlennHumboldtImperialInyoKernKingsLakeLassenLos_AngelesMaderaMarinMariposaMendocinoMercedModocMonoMontereyNapaNevadaOrangePlacerPlumasRiversideSacramentoSan_BenitoSan_BernardinoSan_DiegoSan_FranciscoSan_JoaquinSan_Luis_ObispoSan_MateoSanta_BarbaraSanta_ClaraSanta_CruzShastaSierraSiskiyouSolanoSonomaStanislausSutterTehamaTrinityTulareTuolumneVenturaYoloYubaAdamsAlamosaArapahoeArchuletaBacaBentBoulderBroomfieldChaffeeCheyenneClear_CreekConejosCostillaCrowleyCusterDeltaDenverDoloresDouglasEagleElbertEl_PasoFremontGarfieldGilpinGrandGunnisonHuerfanoJeffersonKit_CarsonLakeLa_PlataLarimerLas_AnimasLincolnLoganMesaMoffatMontezumaMontroseMorganOteroOurayParkPhillipsPitkinProwersPuebloRio_BlancoRio_GrandeRouttSaguacheSan_MiguelSedgwickSummitTellerWashingtonWeldYumaFairfieldHartfordLitchfieldMiddlesexNew_HavenNew_LondonTollandWindhamKentNew_CastleSussexDistrict_of_ColumbiaAlachuaBakerBayBradfordBrevardBrowardCalhounCharlotteCitrusClayCollierColumbiaDeSotoDixieDuvalEscambiaFlaglerFranklinGadsdenGilchristGladesGulfHamiltonHardeeHendryHernandoHighlandsHillsboroughHolmesIndian_RiverJacksonJeffersonLafayetteLakeLeeLeonLevyLibertyMadisonManateeMarionMartinMiami-DadeMonroeNassauOkaloosaOkeechobeeOrangeOsceolaPalm_BeachPascoPinellasPolkPutnamSt._JohnsSt._LucieSanta_RosaSarasotaSeminoleSumterSuwanneeTaylorUnionVolusiaWakullaWaltonWashingtonApplingAtkinsonBaconBakerBaldwinBanksBarrowBartowBen_HillBerrienBibbBleckleyBrantleyBrooksBryanBullochBurkeButtsCalhounCamdenCandlerCarrollCatoosaCharltonChathamChattahoocheeChattoogaCherokeeClarkeClayClaytonClinchCobbCoffeeColquittColumbiaCookCowetaCrawfordCrispDadeDawsonDecaturDeKalbDodgeDoolyDoughertyDouglasEarlyEcholsEffinghamElbertEmanuelEvansFanninFayetteFloydForsythFranklinFultonGilmerGlascockGlynnGordonGradyGreeneGwinnettHabershamHallHancockHaralsonHarrisHartHeardHenryHoustonIrwinJacksonJasperJeff_DavisJeffersonJenkinsJohnsonJonesLamarLanierLaurensLeeLibertyLincolnLongLowndesLumpkinMcDuffieMcIntoshMaconMadisonMarionMeriwetherMillerMitchellMonroeMontgomeryMorganMurrayMuscogeeNewtonOconeeOglethorpePauldingPeachPickensPiercePikePolkPulaskiPutnamQuitmanRabunRandolphRichmondRockdaleSchleyScrevenSeminoleSpaldingStephensStewartSumterTalbotTattnallTaylorTelfairTerrellThomasTiftToombsTownsTreutlenTroupTurnerTwiggsUnionUpsonWalkerWaltonWareWarrenWashingtonWayneWebsterWheelerWhiteWhitfieldWilcoxWilkesWilkinsonWorthHawaiiHonoluluKauaiMauiAdaAdamsBannockBear_LakeBenewahBinghamBlaineBoiseBonnerBonnevilleBoundaryButteCanyonCaribouCassiaClearwaterCusterElmoreFranklinFremontGemGoodingIdahoJeffersonJeromeKootenaiLatahLemhiLewisLincolnMadisonMinidokaNez_PerceOneidaOwyheePayettePowerShoshoneTetonTwin_FallsValleyWashingtonAdamsAlexanderBondBooneBrownBureauCalhounCarrollCassChampaignChristianClarkClayClintonColesCookCrawfordCumberlandDeKalbDe_WittDouglasDuPageEdgarEdwardsEffinghamFayetteFordFranklinFultonGallatinGreeneGrundyHamiltonHancockHardinHendersonHenryIroquoisJacksonJasperJeffersonJerseyJo_DaviessJohnsonKaneKankakeeKendallKnoxLakeLaSalleLawrenceLeeLivingstonLoganMcDonoughMcHenryMcLeanMaconMacoupinMadisonMarionMarshallMasonMassacMenardMercerMonroeMontgomeryMorganMoultrieOglePeoriaPerryPiattPikePopePulaskiPutnamRandolphRichlandRock_IslandSt._ClairSalineSangamonSchuylerScottShelbyStarkStephensonTazewellUnionVermilionWabashWarrenWashingtonWayneWhiteWhitesideWillWilliamsonWinnebagoWoodfordAdamsAllenBartholomewBentonBlackfordBooneBrownCarrollCassClarkClayClintonCrawfordDaviessDearbornDecaturDeKalbDelawareDuboisElkhartFayetteFloydFountainFranklinFultonGibsonGrantGreeneHamiltonHancockHarrisonHendricksHenryHowardHuntingtonJacksonJasperJayJeffersonJenningsJohnsonKnoxKosciuskoLaGrangeLakeLaPorteLawrenceMadisonMarionMarshallMartinMiamiMonroeMontgomeryMorganNewtonNobleOhioOrangeOwenParkePerryPikePorterPoseyPulaskiPutnamRandolphRipleyRushSt._JosephScottShelbySpencerStarkeSteubenSullivanSwitzerlandTippecanoeTiptonUnionVanderburghVermillionVigoWabashWarrenWarrickWashingtonWayneWellsWhiteWhitleyAdairAdamsAllamakeeAppanooseAudubonBentonBlack_HawkBooneBremerBuchananBuena_VistaButlerCalhounCarrollCassCedarCerro_GordoCherokeeChickasawClarkeClayClaytonClintonCrawfordDallasDavisDecaturDelawareDes_MoinesDickinsonDubuqueEmmetFayetteFloydFranklinFremontGreeneGrundyGuthrieHamiltonHancockHardinHarrisonHenryHowardHumboldtIdaIowaJacksonJasperJeffersonJohnsonJonesKeokukKossuthLeeLinnLouisaLucasLyonMadisonMahaskaMarionMarshallMillsMitchellMononaMonroeMontgomeryMuscatineO'BrienOsceolaPagePalo_AltoPlymouthPocahontasPolkPottawattamiePoweshiekRinggoldSacScottShelbySiouxStoryTamaTaylorUnionVan_BurenWapelloWarrenWashingtonWayneWebsterWinnebagoWinneshiekWoodburyWorthWrightAllenAndersonAtchisonBarberBartonBourbonBrownButlerChaseChautauquaCherokeeCheyenneClarkClayCloudCoffeyComancheCowleyCrawfordDecaturDickinsonDoniphanDouglasEdwardsElkEllisEllsworthFinneyFordFranklinGearyGoveGrahamGrantGrayGreenwoodHamiltonHarperHarveyHaskellHodgemanJacksonJeffersonJewellJohnsonKearnyKingmanKiowaLabetteLeavenworthLincolnLinnLoganLyonMcPhersonMarionMarshallMeadeMiamiMitchellMontgomeryMorrisMortonNemahaNeoshoNessNortonOsageOsborneOttawaPawneePhillipsPottawatomiePrattRawlinsRenoRepublicRiceRileyRooksRushRussellSalineScottSedgwickSewardShawneeSheridanShermanSmithStaffordStantonStevensSumnerThomasTregoWabaunseeWashingtonWichitaWilsonWoodsonWyandotteAdairAllenAndersonBallardBarrenBathBellBooneBourbonBoydBoyleBrackenBreathittBreckinridgeBullittButlerCaldwellCallowayCampbellCarlisleCarrollCarterCaseyChristianClarkClayClintonCrittendenCumberlandDaviessEdmonsonElliottEstillFayetteFlemingFloydFranklinFultonGallatinGarrardGrantGravesGraysonGreenGreenupHancockHardinHarlanHarrisonHartHendersonHenryHickmanHopkinsJacksonJeffersonJessamineJohnsonKentonKnottKnoxLarueLaurelLawrenceLeeLeslieLetcherLewisLincolnLivingstonLoganLyonMcCrackenMcCrearyMcLeanMadisonMagoffinMarionMarshallMartinMasonMeadeMenifeeMercerMetcalfeMonroeMontgomeryMorganMuhlenbergNelsonNicholasOhioOldhamOwenOwsleyPendletonPerryPikePowellPulaskiRobertsonRockcastleRowanRussellScottShelbySimpsonSpencerTaylorToddTriggTrimbleUnionWarrenWashingtonWayneWebsterWhitleyWolfeWoodfordAcadiaAllenAscensionAssumptionAvoyellesBeauregardBienvilleBossierCaddoCalcasieuCaldwellCameronCatahoulaClaiborneConcordiaDe_SotoEast_Baton_RougeEast_CarrollEast_FelicianaEvangelineFranklinGrantIberiaIbervilleJacksonJeffersonJefferson_DavisLafayetteLafourcheLa_SalleLincolnLivingstonMadisonMorehouseNatchitochesOrleansOuachitaPlaqueminesPointe_CoupeeRapidesRed_RiverRichlandSabineSt._BernardSt._CharlesSt._HelenaSt._JamesSt._John_the_BaptistSt._LandrySt._MartinSt._MarySt._TammanyTangipahoaTensasTerrebonneUnionVermilionVernonWashingtonWebsterWest_Baton_RougeWest_CarrollWest_FelicianaWinnAndroscogginAroostookCumberlandFranklinHancockKennebecKnoxLincolnOxfordPenobscotPiscataquisSagadahocSomersetWaldoWashingtonYorkAlleganyAnne_ArundelBaltimoreCalvertCarolineCarrollCecilCharlesDorchesterFrederickGarrettHarfordHowardKentMontgomeryPrince_George'sQueen_Anne'sSt._Mary'sSomersetTalbotWashingtonWicomicoWorcesterBaltimore_CityBarnstableBerkshireBristolDukesEssexFranklinHampdenHampshireMiddlesexNantucketNorfolkPlymouthSuffolkWorcesterAlconaAlgerAlleganAlpenaAntrimArenacBaragaBarryBayBenzieBerrienBranchCalhounCassCharlevoixCheboyganChippewaClareClintonCrawfordDeltaDickinsonEatonEmmetGeneseeGladwinGogebicGrand_TraverseGratiotHillsdaleHoughtonHuronInghamIoniaIoscoIronIsabellaJacksonKalamazooKalkaskaKentKeweenawLakeLapeerLeelanauLenaweeLivingstonLuceMackinacMacombManisteeMarquetteMasonMecostaMenomineeMidlandMissaukeeMonroeMontcalmMontmorencyMuskegonNewaygoOaklandOceanaOgemawOntonagonOsceolaOscodaOtsegoOttawaPresque_IsleRoscommonSaginawSt._ClairSt._JosephSanilacSchoolcraftShiawasseeTuscolaVan_BurenWashtenawWayneWexfordAitkinAnokaBeckerBeltramiBentonBig_StoneBlue_EarthBrownCarltonCarverCassChippewaChisagoClayClearwaterCookCottonwoodCrow_WingDakotaDodgeDouglasFaribaultFillmoreFreebornGoodhueGrantHennepinHoustonHubbardIsantiItascaJacksonKanabecKandiyohiKittsonKoochichingLac_qui_ParleLakeLake_of_the_WoodsLe_SueurLincolnLyonMcLeodMahnomenMarshallMartinMeekerMille_LacsMorrisonMowerMurrayNicolletNoblesNormanOlmstedOtter_TailPenningtonPinePipestonePolkPopeRamseyRed_LakeRedwoodRenvilleRiceRockRoseauSt._LouisScottSherburneSibleyStearnsSteeleStevensSwiftToddTraverseWabashaWadenaWasecaWashingtonWatonwanWilkinWinonaWrightYellow_MedicineAdamsAlcornAmiteAttalaBentonBolivarCalhounCarrollChickasawChoctawClaiborneClarkeClayCoahomaCopiahCovingtonDeSotoForrestFranklinGeorgeGreeneGrenadaHancockHarrisonHindsHolmesHumphreysItawambaJacksonJasperJeffersonJefferson_DavisJonesKemperLafayetteLamarLauderdaleLawrenceLeakeLeeLefloreLincolnLowndesMadisonMarionMarshallMonroeMontgomeryNeshobaNewtonNoxubeeOktibbehaPanolaPearl_RiverPerryPikePontotocPrentissQuitmanRankinScottSharkeySimpsonSmithStoneSunflowerTallahatchieTateTippahTishomingoTunicaUnionWalthallWarrenWashingtonWayneWebsterWilkinsonWinstonYalobushaYazooAdairAndrewAtchisonAudrainBarryBartonBatesBentonBollingerBooneBuchananButlerCaldwellCallawayCamdenCape_GirardeauCarrollCarterCassCedarCharitonChristianClarkClayClintonColeCooperCrawfordDadeDallasDaviessDeKalbDentDouglasDunklinFranklinGasconadeGentryGreeneGrundyHarrisonHenryHickoryHoltHowardHowellIronJacksonJasperJeffersonJohnsonKnoxLacledeLafayetteLawrenceLewisLincolnLinnLivingstonMcDonaldMaconMadisonMariesMarionMercerMillerMississippiMoniteauMonroeMontgomeryMorganNew_MadridNewtonNodawayOregonOsageOzarkPemiscotPerryPettisPhelpsPikePlattePolkPulaskiPutnamRallsRandolphRayReynoldsRipleySt._CharlesSt._ClairSte._GenevieveSt._FrancoisSt._LouisSalineSchuylerScotlandScottShannonShelbyStoddardStoneSullivanTaneyTexasVernonWarrenWashingtonWayneWebsterWorthWrightSt._Louis_CityBeaverheadBig_HornBlaineBroadwaterCarbonCascadeChouteauCusterDanielsDawsonDeer_LodgeFallonFergusFlatheadGallatinGlacierGraniteHillJeffersonJudith_BasinLakeLewis_and_ClarkLibertyLincolnMcConeMadisonMeagherMineralMissoulaMusselshellParkPhillipsPonderaPowder_RiverPowellRavalliRichlandRooseveltRosebudSandersSheridanSilver_BowStillwaterSweet_GrassTetonTooleValleyWheatlandYellowstoneAdamsAntelopeBooneBox_ButteBoydBrownBuffaloBurtButlerCassCedarChaseCherryCheyenneClayColfaxCumingCusterDakotaDawesDawsonDeuelDixonDodgeDouglasDundyFillmoreFranklinFrontierFurnasGageGardenGarfieldGosperGreeleyHallHamiltonHarlanHitchcockHoltHowardJeffersonJohnsonKearneyKeithKimballKnoxLancasterLincolnMadisonMerrickMorrillNanceNemahaNuckollsOtoePawneePerkinsPhelpsPiercePlattePolkRed_WillowRichardsonSalineSarpySaundersScotts_BluffSewardSheridanShermanStantonThayerThurstonValleyWashingtonWayneWebsterYorkChurchillClarkDouglasElkoEurekaHumboldtLanderLincolnLyonMineralNyePershingStoreyWashoeWhite_PineCarson_CityBelknapCarrollCheshireCoosGraftonHillsboroughMerrimackRockinghamStraffordSullivanAtlanticBergenBurlingtonCamdenCape_MayCumberlandEssexGloucesterHudsonHunterdonMercerMiddlesexMonmouthMorrisOceanPassaicSalemSomersetSussexUnionWarrenBernalilloCatronChavesCibolaColfaxCurryDe_BacaDona_AnaEddyGrantGuadalupeHidalgoLeaLincolnLos_AlamosLunaMcKinleyMoraOteroQuayRio_ArribaRooseveltSandovalSan_JuanSan_MiguelSanta_FeSierraSocorroTaosTorranceUnionValenciaAlbanyAlleganyBronxBroomeCattaraugusCayugaChautauquaChemungChenangoClintonColumbiaCortlandDelawareDutchessErieEssexFranklinFultonGeneseeGreeneHamiltonHerkimerJeffersonKingsLewisLivingstonMadisonMonroeMontgomeryNassauNew_YorkNiagaraOneidaOnondagaOntarioOrangeOrleansOswegoOtsegoPutnamQueensRensselaerRichmondRocklandSt._LawrenceSaratogaSchenectadySchoharieSchuylerSenecaSteubenSuffolkSullivanTiogaTompkinsUlsterWarrenWashingtonWayneWestchesterWyomingYatesAlamanceAlexanderAlleghanyAnsonAsheAveryBeaufortBertieBladenBrunswickBuncombeBurkeCabarrusCaldwellCamdenCarteretCaswellCatawbaChathamCherokeeChowanClayClevelandColumbusCravenCumberlandCurrituckDareDavidsonDavieDuplinDurhamEdgecombeForsythFranklinGastonGatesGrahamGranvilleGreeneGuilfordHalifaxHarnettHaywoodHendersonHertfordHokeHydeIredellJacksonJohnstonJonesLeeLenoirLincolnMcDowellMaconMadisonMartinMecklenburgMitchellMontgomeryMooreNashNew_HanoverNorthamptonOnslowOrangePamlicoPasquotankPenderPerquimansPersonPittPolkRandolphRichmondRobesonRockinghamRowanRutherfordSampsonScotlandStanlyStokesSurrySwainTransylvaniaTyrrellUnionVanceWakeWarrenWashingtonWataugaWayneWilkesWilsonYadkinYanceyAdamsBarnesBensonBottineauBowmanBurkeBurleighCassCavalierDickeyDivideDunnEddyEmmonsFosterGolden_ValleyGrand_ForksGrantGriggsHettingerKidderLaMoureLoganMcHenryMcIntoshMcKenzieMcLeanMercerMortonMountrailNelsonOliverPembinaPierceRamseyRansomRenvilleRichlandRoletteSargentSiouxStarkSteeleStutsmanTownerTraillWalshWardWellsWilliamsAdamsAllenAshlandAshtabulaAthensAuglaizeBelmontBrownButlerCarrollChampaignClarkClermontClintonColumbianaCoshoctonCrawfordCuyahogaDarkeDefianceDelawareErieFairfieldFayetteFranklinFultonGalliaGeaugaGreeneGuernseyHamiltonHancockHardinHarrisonHenryHighlandHockingHolmesHuronJacksonJeffersonKnoxLakeLawrenceLickingLoganLorainLucasMadisonMahoningMarionMedinaMeigsMercerMiamiMonroeMontgomeryMorganMorrowMuskingumNobleOttawaPauldingPerryPickawayPikePortagePreblePutnamRichlandRossSanduskySciotoSenecaShelbyStarkSummitTrumbullTuscarawasUnionVan_WertVintonWarrenWashingtonWayneWilliamsWoodWyandotAdairAlfalfaAtokaBeaverBeckhamBlaineBryanCaddoCanadianCarterCherokeeChoctawCimarronClevelandCoalComancheCottonCraigCreekCusterDelawareDeweyEllisGarfieldGarvinGradyGrantGreerHarmonHarperHaskellHughesJacksonJeffersonJohnstonKayKingfisherKiowaLatimerLe_FloreLincolnLoganLoveMcClainMcCurtainMcIntoshMajorMarshallMayesMurrayMuskogeeNobleNowataOkfuskeeOklahomaOkmulgeeOsageOttawaPawneePaynePittsburgPontotocPottawatomiePushmatahaRoger_MillsRogersSeminoleSequoyahStephensTexasTillmanTulsaWagonerWashingtonWashitaWoodsWoodwardBakerBentonClackamasClatsopColumbiaCoosCrookCurryDeschutesDouglasGilliamGrantHarneyHood_RiverJacksonJeffersonJosephineKlamathLakeLaneLincolnLinnMalheurMarionMorrowMultnomahPolkShermanTillamookUmatillaUnionWallowaWascoWashingtonYamhillAdamsAlleghenyArmstrongBeaverBedfordBerksBlairBradfordBucksButlerCambriaCameronCarbonCentreChesterClarionClearfieldClintonColumbiaCrawfordCumberlandDauphinDelawareElkErieFayetteForestFranklinFultonGreeneHuntingdonIndianaJeffersonJuniataLackawannaLancasterLawrenceLebanonLehighLuzerneLycomingMcKeanMercerMifflinMonroeMontgomeryMontourNorthamptonNorthumberlandPerryPhiladelphiaPikePotterSchuylkillSnyderSomersetSullivanSusquehannaTiogaUnionVenangoWarrenWashingtonWayneWestmorelandWyomingYorkBristolKentNewportProvidenceWashingtonAbbevilleAikenAllendaleAndersonBambergBarnwellBeaufortBerkeleyCalhounCharlestonCherokeeChesterChesterfieldClarendonColletonDarlingtonDillonDorchesterEdgefieldFairfieldFlorenceGeorgetownGreenvilleGreenwoodHamptonHorryJasperKershawLancasterLaurensLeeLexingtonMcCormickMarionMarlboroNewberryOconeeOrangeburgPickensRichlandSaludaSpartanburgSumterUnionWilliamsburgYorkAuroraBeadleBennettBon_HommeBrookingsBrownBruleBuffaloButteCharles_MixClarkClayCodingtonCorsonCusterDavisonDayDeuelDeweyDouglasEdmundsFall_RiverFaulkGrantGregoryHaakonHamlinHandHansonHughesHutchinsonJacksonJerauldKingsburyLakeLawrenceLincolnLymanMcCookMcPhersonMarshallMeadeMelletteMinerMinnehahaMoodyOglala_LakotaPenningtonPerkinsPotterRobertsSanbornSpinkStanleyToddTrippTurnerUnionWalworthYanktonZiebachAndersonBedfordBentonBledsoeBlountBradleyCampbellCannonCarrollCarterCheathamChesterClaiborneClayCockeCoffeeCrockettCumberlandDavidsonDecaturDeKalbDicksonDyerFayetteFentressFranklinGibsonGilesGraingerGreeneGrundyHamblenHamiltonHancockHardemanHardinHawkinsHaywoodHendersonHenryHickmanHoustonHumphreysJacksonJeffersonJohnsonKnoxLakeLauderdaleLawrenceLewisLincolnLoudonMcMinnMcNairyMaconMadisonMarionMarshallMauryMeigsMonroeMontgomeryMooreMorganObionOvertonPerryPickettPolkPutnamRheaRoaneRobertsonRutherfordScottSequatchieSevierShelbySmithStewartSullivanSumnerTiptonTrousdaleUnicoiUnionVan_BurenWarrenWashingtonWayneWeakleyWhiteWilliamsonWilsonAndersonAndrewsAngelinaAransasArcherArmstrongAtascosaAustinBaileyBanderaBastropBaylorBeeBellBexarBlancoBosqueBowieBrazoriaBrazosBrewsterBrooksBrownBurlesonBurnetCaldwellCalhounCallahanCameronCampCarsonCassCastroChambersCherokeeChildressClayCochranCokeColemanCollinCollingsworthColoradoComalComancheConchoCookeCoryellCraneCrockettCrosbyCulbersonDallamDallasDawsonDeaf_SmithDeltaDentonDeWittDickensDimmitDonleyDuvalEastlandEctorEdwardsEllisEl_PasoErathFallsFanninFayetteFisherFloydFort_BendFranklinFreestoneFrioGainesGalvestonGarzaGillespieGoliadGonzalesGrayGraysonGreggGrimesGuadalupeHaleHallHamiltonHansfordHardemanHardinHarrisHarrisonHartleyHaskellHaysHemphillHendersonHidalgoHillHockleyHoodHopkinsHoustonHowardHudspethHuntHutchinsonJackJacksonJasperJeff_DavisJeffersonJim_HoggJim_WellsJohnsonJonesKarnesKaufmanKendallKerrKimbleKinneyKlebergKnoxLamarLambLampasasLa_SalleLavacaLeeLeonLibertyLimestoneLipscombLive_OakLlanoLubbockLynnMcCullochMcLennanMadisonMarionMartinMasonMatagordaMaverickMedinaMenardMidlandMilamMillsMitchellMontagueMontgomeryMooreMorrisNacogdochesNavarroNewtonNolanNuecesOchiltreeOldhamOrangePalo_PintoPanolaParkerParmerPecosPolkPotterPresidioRainsRandallReaganRealRed_RiverReevesRefugioRobertsonRockwallRunnelsRuskSabineSan_AugustineSan_JacintoSan_PatricioSan_SabaSchleicherScurryShackelfordShelbyShermanSmithSomervellStarrStephensSuttonSwisherTarrantTaylorTerryTitusTom_GreenTravisTrinityTylerUpshurUptonUvaldeVal_VerdeVan_ZandtVictoriaWalkerWallerWardWashingtonWebbWhartonWheelerWichitaWilbargerWillacyWilliamsonWilsonWinklerWiseWoodYoakumYoungZapataZavalaBeaverBox_ElderCacheCarbonDavisDuchesneEmeryGarfieldGrandIronJuabKaneMillardMorganRichSalt_LakeSan_JuanSanpeteSevierSummitTooeleUintahUtahWasatchWashingtonWayneWeberAddisonBenningtonCaledoniaChittendenEssexFranklinGrand_IsleLamoilleOrangeOrleansRutlandWashingtonWindhamWindsorAccomackAlbemarleAlleghanyAmeliaAmherstAppomattoxArlingtonAugustaBathBedfordBlandBotetourtBrunswickBuchananBuckinghamCampbellCarolineCarrollCharles_CityCharlotteChesterfieldClarkeCraigCulpeperCumberlandDickensonDinwiddieEssexFairfaxFauquierFloydFluvannaFranklinFrederickGilesGloucesterGoochlandGraysonGreeneGreensvilleHalifaxHanoverHenricoHenryHighlandIsle_of_WightJames_CityKing_and_QueenKing_GeorgeKing_WilliamLancasterLeeLoudounLouisaLunenburgMadisonMathewsMecklenburgMiddlesexMontgomeryNelsonNew_KentNorthamptonNorthumberlandNottowayOrangePagePatrickPittsylvaniaPowhatanPrince_EdwardPrince_GeorgePrince_WilliamPulaskiRappahannockRichmondRoanokeRockbridgeRockinghamRussellScottShenandoahSmythSouthamptonSpotsylvaniaStaffordSurrySussexTazewellWarrenWashingtonWestmorelandWiseWytheYorkAlexandria_CityBristol_CityBuena_Vista_CityCharlottesville_CityChesapeake_CityColonial_Heights_CityCovington_CityDanville_CityEmporia_CityFairfax_CityFalls_Church_CityFranklin_CityFredericksburg_CityGalax_CityHampton_CityHarrisonburg_CityHopewell_CityLexington_CityLynchburg_CityManassas_CityManassas_Park_CityMartinsville_CityNewport_News_CityNorfolk_CityNorton_CityPetersburg_CityPoquoson_CityPortsmouth_CityRadford_CityRichmond_CityRoanoke_CitySalem_CityStaunton_CitySuffolk_CityVirginia_Beach_CityWaynesboro_CityWilliamsburg_CityWinchester_CityAdamsAsotinBentonChelanClallamClarkColumbiaCowlitzDouglasFerryFranklinGarfieldGrantGrays_HarborIslandJeffersonKingKitsapKittitasKlickitatLewisLincolnMasonOkanoganPacificPend_OreillePierceSan_JuanSkagitSkamaniaSnohomishSpokaneStevensThurstonWahkiakumWalla_WallaWhatcomWhitmanYakimaBarbourBerkeleyBooneBraxtonBrookeCabellCalhounClayDoddridgeFayetteGilmerGrantGreenbrierHampshireHancockHardyHarrisonJacksonJeffersonKanawhaLewisLincolnLoganMcDowellMarionMarshallMasonMercerMineralMingoMonongaliaMonroeMorganNicholasOhioPendletonPleasantsPocahontasPrestonPutnamRaleighRandolphRitchieRoaneSummersTaylorTuckerTylerUpshurWayneWebsterWetzelWirtWoodWyomingAdamsAshlandBarronBayfieldBrownBuffaloBurnettCalumetChippewaClarkColumbiaCrawfordDaneDodgeDoorDouglasDunnEau_ClaireFlorenceFond_du_LacForestGrantGreenGreen_LakeIowaIronJacksonJeffersonJuneauKenoshaKewauneeLa_CrosseLafayetteLangladeLincolnManitowocMarathonMarinetteMarquetteMenomineeMilwaukeeMonroeOcontoOneidaOutagamieOzaukeePepinPiercePolkPortagePriceRacineRichlandRockRuskSt._CroixSaukSawyerShawanoSheboyganTaylorTrempealeauVernonVilasWalworthWashburnWashingtonWaukeshaWaupacaWausharaWinnebagoWoodAlbanyBig_HornCampbellCarbonConverseCrookFremontGoshenHot_SpringsJohnsonLaramieLincolnNatronaNiobraraParkPlatteSheridanSubletteSweetwaterTetonUintaWashakieWeston to numeric",
     "output_type": "error",
     "traceback": [
      "\u001b[0;31m---------------------------------------------------------------------------\u001b[0m",
      "\u001b[0;31mValueError\u001b[0m                                Traceback (most recent call last)",
      "\u001b[0;32m~/anaconda3/lib/python3.7/site-packages/pandas/core/nanops.py\u001b[0m in \u001b[0;36m_ensure_numeric\u001b[0;34m(x)\u001b[0m\n\u001b[1;32m   1163\u001b[0m         \u001b[0;32mtry\u001b[0m\u001b[0;34m:\u001b[0m\u001b[0;34m\u001b[0m\u001b[0;34m\u001b[0m\u001b[0m\n\u001b[0;32m-> 1164\u001b[0;31m             \u001b[0mx\u001b[0m \u001b[0;34m=\u001b[0m \u001b[0mfloat\u001b[0m\u001b[0;34m(\u001b[0m\u001b[0mx\u001b[0m\u001b[0;34m)\u001b[0m\u001b[0;34m\u001b[0m\u001b[0;34m\u001b[0m\u001b[0m\n\u001b[0m\u001b[1;32m   1165\u001b[0m         \u001b[0;32mexcept\u001b[0m \u001b[0mException\u001b[0m\u001b[0;34m:\u001b[0m\u001b[0;34m\u001b[0m\u001b[0;34m\u001b[0m\u001b[0m\n",
      "\u001b[0;31mValueError\u001b[0m: could not convert string to float: \"AutaugaBaldwinBarbourBibbBlountBullockButlerCalhounChambersCherokeeChiltonChoctawClarkeClayCleburneCoffeeColbertConecuhCoosaCovingtonCrenshawCullmanDaleDallasDeKalbElmoreEscambiaEtowahFayetteFranklinGenevaGreeneHaleHenryHoustonJacksonJeffersonLamarLauderdaleLawrenceLeeLimestoneLowndesMaconMadisonMarengoMarionMarshallMobileMonroeMontgomeryMorganPerryPickensPikeRandolphRussellSt._ClairShelbySumterTalladegaTallapoosaTuscaloosaWalkerWashingtonWilcoxWinstonAleutians_EastAleutians_WestAnchorageBethelDenaliDillinghamFairbanks_North_StarHainesHoonah-AngoonJuneauKenai_PeninsulaKetchikan_GatewayKodiak_IslandKusilvakMatanuska-SusitnaNomeNorth_SlopeNorthwest_ArcticPetersburgPrince_of_Wales-HyderSitkaSoutheast_FairbanksValdez-CordovaWrangellYukon-KoyukukApacheCochiseCoconinoGilaGrahamGreenleeLa_PazMaricopaMohaveNavajoPimaPinalSanta_CruzYavapaiYumaArkansasAshleyBaxterBentonBooneBradleyCalhounCarrollChicotClarkClayCleburneClevelandColumbiaConwayCraigheadCrawfordCrittendenCrossDallasDeshaDrewFaulknerFranklinFultonGarlandGrantGreeneHempsteadHot_SpringHowardIndependenceIzardJacksonJeffersonJohnsonLafayetteLawrenceLeeLincolnLittle_RiverLoganLonokeMadisonMarionMillerMississippiMonroeMontgomeryNevadaNewtonOuachitaPerryPhillipsPikePoinsettPolkPopePrairiePulaskiRandolphSt._FrancisSalineScottSearcySebastianSevierSharpStoneUnionVan_BurenWashingtonWhiteWoodruffYellAlamedaAmadorButteCalaverasColusaContra_CostaDel_NorteEl_DoradoFresnoGlennHumboldtImperialInyoKernKingsLakeLassenLos_AngelesMaderaMarinMariposaMendocinoMercedModocMonoMontereyNapaNevadaOrangePlacerPlumasRiversideSacramentoSan_BenitoSan_BernardinoSan_DiegoSan_FranciscoSan_JoaquinSan_Luis_ObispoSan_MateoSanta_BarbaraSanta_ClaraSanta_CruzShastaSierraSiskiyouSolanoSonomaStanislausSutterTehamaTrinityTulareTuolumneVenturaYoloYubaAdamsAlamosaArapahoeArchuletaBacaBentBoulderBroomfieldChaffeeCheyenneClear_CreekConejosCostillaCrowleyCusterDeltaDenverDoloresDouglasEagleElbertEl_PasoFremontGarfieldGilpinGrandGunnisonHuerfanoJeffersonKit_CarsonLakeLa_PlataLarimerLas_AnimasLincolnLoganMesaMoffatMontezumaMontroseMorganOteroOurayParkPhillipsPitkinProwersPuebloRio_BlancoRio_GrandeRouttSaguacheSan_MiguelSedgwickSummitTellerWashingtonWeldYumaFairfieldHartfordLitchfieldMiddlesexNew_HavenNew_LondonTollandWindhamKentNew_CastleSussexDistrict_of_ColumbiaAlachuaBakerBayBradfordBrevardBrowardCalhounCharlotteCitrusClayCollierColumbiaDeSotoDixieDuvalEscambiaFlaglerFranklinGadsdenGilchristGladesGulfHamiltonHardeeHendryHernandoHighlandsHillsboroughHolmesIndian_RiverJacksonJeffersonLafayetteLakeLeeLeonLevyLibertyMadisonManateeMarionMartinMiami-DadeMonroeNassauOkaloosaOkeechobeeOrangeOsceolaPalm_BeachPascoPinellasPolkPutnamSt._JohnsSt._LucieSanta_RosaSarasotaSeminoleSumterSuwanneeTaylorUnionVolusiaWakullaWaltonWashingtonApplingAtkinsonBaconBakerBaldwinBanksBarrowBartowBen_HillBerrienBibbBleckleyBrantleyBrooksBryanBullochBurkeButtsCalhounCamdenCandlerCarrollCatoosaCharltonChathamChattahoocheeChattoogaCherokeeClarkeClayClaytonClinchCobbCoffeeColquittColumbiaCookCowetaCrawfordCrispDadeDawsonDecaturDeKalbDodgeDoolyDoughertyDouglasEarlyEcholsEffinghamElbertEmanuelEvansFanninFayetteFloydForsythFranklinFultonGilmerGlascockGlynnGordonGradyGreeneGwinnettHabershamHallHancockHaralsonHarrisHartHeardHenryHoustonIrwinJacksonJasperJeff_DavisJeffersonJenkinsJohnsonJonesLamarLanierLaurensLeeLibertyLincolnLongLowndesLumpkinMcDuffieMcIntoshMaconMadisonMarionMeriwetherMillerMitchellMonroeMontgomeryMorganMurrayMuscogeeNewtonOconeeOglethorpePauldingPeachPickensPiercePikePolkPulaskiPutnamQuitmanRabunRandolphRichmondRockdaleSchleyScrevenSeminoleSpaldingStephensStewartSumterTalbotTattnallTaylorTelfairTerrellThomasTiftToombsTownsTreutlenTroupTurnerTwiggsUnionUpsonWalkerWaltonWareWarrenWashingtonWayneWebsterWheelerWhiteWhitfieldWilcoxWilkesWilkinsonWorthHawaiiHonoluluKauaiMauiAdaAdamsBannockBear_LakeBenewahBinghamBlaineBoiseBonnerBonnevilleBoundaryButteCanyonCaribouCassiaClearwaterCusterElmoreFranklinFremontGemGoodingIdahoJeffersonJeromeKootenaiLatahLemhiLewisLincolnMadisonMinidokaNez_PerceOneidaOwyheePayettePowerShoshoneTetonTwin_FallsValleyWashingtonAdamsAlexanderBondBooneBrownBureauCalhounCarrollCassChampaignChristianClarkClayClintonColesCookCrawfordCumberlandDeKalbDe_WittDouglasDuPageEdgarEdwardsEffinghamFayetteFordFranklinFultonGallatinGreeneGrundyHamiltonHancockHardinHendersonHenryIroquoisJacksonJasperJeffersonJerseyJo_DaviessJohnsonKaneKankakeeKendallKnoxLakeLaSalleLawrenceLeeLivingstonLoganMcDonoughMcHenryMcLeanMaconMacoupinMadisonMarionMarshallMasonMassacMenardMercerMonroeMontgomeryMorganMoultrieOglePeoriaPerryPiattPikePopePulaskiPutnamRandolphRichlandRock_IslandSt._ClairSalineSangamonSchuylerScottShelbyStarkStephensonTazewellUnionVermilionWabashWarrenWashingtonWayneWhiteWhitesideWillWilliamsonWinnebagoWoodfordAdamsAllenBartholomewBentonBlackfordBooneBrownCarrollCassClarkClayClintonCrawfordDaviessDearbornDecaturDeKalbDelawareDuboisElkhartFayetteFloydFountainFranklinFultonGibsonGrantGreeneHamiltonHancockHarrisonHendricksHenryHowardHuntingtonJacksonJasperJayJeffersonJenningsJohnsonKnoxKosciuskoLaGrangeLakeLaPorteLawrenceMadisonMarionMarshallMartinMiamiMonroeMontgomeryMorganNewtonNobleOhioOrangeOwenParkePerryPikePorterPoseyPulaskiPutnamRandolphRipleyRushSt._JosephScottShelbySpencerStarkeSteubenSullivanSwitzerlandTippecanoeTiptonUnionVanderburghVermillionVigoWabashWarrenWarrickWashingtonWayneWellsWhiteWhitleyAdairAdamsAllamakeeAppanooseAudubonBentonBlack_HawkBooneBremerBuchananBuena_VistaButlerCalhounCarrollCassCedarCerro_GordoCherokeeChickasawClarkeClayClaytonClintonCrawfordDallasDavisDecaturDelawareDes_MoinesDickinsonDubuqueEmmetFayetteFloydFranklinFremontGreeneGrundyGuthrieHamiltonHancockHardinHarrisonHenryHowardHumboldtIdaIowaJacksonJasperJeffersonJohnsonJonesKeokukKossuthLeeLinnLouisaLucasLyonMadisonMahaskaMarionMarshallMillsMitchellMononaMonroeMontgomeryMuscatineO'BrienOsceolaPagePalo_AltoPlymouthPocahontasPolkPottawattamiePoweshiekRinggoldSacScottShelbySiouxStoryTamaTaylorUnionVan_BurenWapelloWarrenWashingtonWayneWebsterWinnebagoWinneshiekWoodburyWorthWrightAllenAndersonAtchisonBarberBartonBourbonBrownButlerChaseChautauquaCherokeeCheyenneClarkClayCloudCoffeyComancheCowleyCrawfordDecaturDickinsonDoniphanDouglasEdwardsElkEllisEllsworthFinneyFordFranklinGearyGoveGrahamGrantGrayGreenwoodHamiltonHarperHarveyHaskellHodgemanJacksonJeffersonJewellJohnsonKearnyKingmanKiowaLabetteLeavenworthLincolnLinnLoganLyonMcPhersonMarionMarshallMeadeMiamiMitchellMontgomeryMorrisMortonNemahaNeoshoNessNortonOsageOsborneOttawaPawneePhillipsPottawatomiePrattRawlinsRenoRepublicRiceRileyRooksRushRussellSalineScottSedgwickSewardShawneeSheridanShermanSmithStaffordStantonStevensSumnerThomasTregoWabaunseeWashingtonWichitaWilsonWoodsonWyandotteAdairAllenAndersonBallardBarrenBathBellBooneBourbonBoydBoyleBrackenBreathittBreckinridgeBullittButlerCaldwellCallowayCampbellCarlisleCarrollCarterCaseyChristianClarkClayClintonCrittendenCumberlandDaviessEdmonsonElliottEstillFayetteFlemingFloydFranklinFultonGallatinGarrardGrantGravesGraysonGreenGreenupHancockHardinHarlanHarrisonHartHendersonHenryHickmanHopkinsJacksonJeffersonJessamineJohnsonKentonKnottKnoxLarueLaurelLawrenceLeeLeslieLetcherLewisLincolnLivingstonLoganLyonMcCrackenMcCrearyMcLeanMadisonMagoffinMarionMarshallMartinMasonMeadeMenifeeMercerMetcalfeMonroeMontgomeryMorganMuhlenbergNelsonNicholasOhioOldhamOwenOwsleyPendletonPerryPikePowellPulaskiRobertsonRockcastleRowanRussellScottShelbySimpsonSpencerTaylorToddTriggTrimbleUnionWarrenWashingtonWayneWebsterWhitleyWolfeWoodfordAcadiaAllenAscensionAssumptionAvoyellesBeauregardBienvilleBossierCaddoCalcasieuCaldwellCameronCatahoulaClaiborneConcordiaDe_SotoEast_Baton_RougeEast_CarrollEast_FelicianaEvangelineFranklinGrantIberiaIbervilleJacksonJeffersonJefferson_DavisLafayetteLafourcheLa_SalleLincolnLivingstonMadisonMorehouseNatchitochesOrleansOuachitaPlaqueminesPointe_CoupeeRapidesRed_RiverRichlandSabineSt._BernardSt._CharlesSt._HelenaSt._JamesSt._John_the_BaptistSt._LandrySt._MartinSt._MarySt._TammanyTangipahoaTensasTerrebonneUnionVermilionVernonWashingtonWebsterWest_Baton_RougeWest_CarrollWest_FelicianaWinnAndroscogginAroostookCumberlandFranklinHancockKennebecKnoxLincolnOxfordPenobscotPiscataquisSagadahocSomersetWaldoWashingtonYorkAlleganyAnne_ArundelBaltimoreCalvertCarolineCarrollCecilCharlesDorchesterFrederickGarrettHarfordHowardKentMontgomeryPrince_George'sQueen_Anne'sSt._Mary'sSomersetTalbotWashingtonWicomicoWorcesterBaltimore_CityBarnstableBerkshireBristolDukesEssexFranklinHampdenHampshireMiddlesexNantucketNorfolkPlymouthSuffolkWorcesterAlconaAlgerAlleganAlpenaAntrimArenacBaragaBarryBayBenzieBerrienBranchCalhounCassCharlevoixCheboyganChippewaClareClintonCrawfordDeltaDickinsonEatonEmmetGeneseeGladwinGogebicGrand_TraverseGratiotHillsdaleHoughtonHuronInghamIoniaIoscoIronIsabellaJacksonKalamazooKalkaskaKentKeweenawLakeLapeerLeelanauLenaweeLivingstonLuceMackinacMacombManisteeMarquetteMasonMecostaMenomineeMidlandMissaukeeMonroeMontcalmMontmorencyMuskegonNewaygoOaklandOceanaOgemawOntonagonOsceolaOscodaOtsegoOttawaPresque_IsleRoscommonSaginawSt._ClairSt._JosephSanilacSchoolcraftShiawasseeTuscolaVan_BurenWashtenawWayneWexfordAitkinAnokaBeckerBeltramiBentonBig_StoneBlue_EarthBrownCarltonCarverCassChippewaChisagoClayClearwaterCookCottonwoodCrow_WingDakotaDodgeDouglasFaribaultFillmoreFreebornGoodhueGrantHennepinHoustonHubbardIsantiItascaJacksonKanabecKandiyohiKittsonKoochichingLac_qui_ParleLakeLake_of_the_WoodsLe_SueurLincolnLyonMcLeodMahnomenMarshallMartinMeekerMille_LacsMorrisonMowerMurrayNicolletNoblesNormanOlmstedOtter_TailPenningtonPinePipestonePolkPopeRamseyRed_LakeRedwoodRenvilleRiceRockRoseauSt._LouisScottSherburneSibleyStearnsSteeleStevensSwiftToddTraverseWabashaWadenaWasecaWashingtonWatonwanWilkinWinonaWrightYellow_MedicineAdamsAlcornAmiteAttalaBentonBolivarCalhounCarrollChickasawChoctawClaiborneClarkeClayCoahomaCopiahCovingtonDeSotoForrestFranklinGeorgeGreeneGrenadaHancockHarrisonHindsHolmesHumphreysItawambaJacksonJasperJeffersonJefferson_DavisJonesKemperLafayetteLamarLauderdaleLawrenceLeakeLeeLefloreLincolnLowndesMadisonMarionMarshallMonroeMontgomeryNeshobaNewtonNoxubeeOktibbehaPanolaPearl_RiverPerryPikePontotocPrentissQuitmanRankinScottSharkeySimpsonSmithStoneSunflowerTallahatchieTateTippahTishomingoTunicaUnionWalthallWarrenWashingtonWayneWebsterWilkinsonWinstonYalobushaYazooAdairAndrewAtchisonAudrainBarryBartonBatesBentonBollingerBooneBuchananButlerCaldwellCallawayCamdenCape_GirardeauCarrollCarterCassCedarCharitonChristianClarkClayClintonColeCooperCrawfordDadeDallasDaviessDeKalbDentDouglasDunklinFranklinGasconadeGentryGreeneGrundyHarrisonHenryHickoryHoltHowardHowellIronJacksonJasperJeffersonJohnsonKnoxLacledeLafayetteLawrenceLewisLincolnLinnLivingstonMcDonaldMaconMadisonMariesMarionMercerMillerMississippiMoniteauMonroeMontgomeryMorganNew_MadridNewtonNodawayOregonOsageOzarkPemiscotPerryPettisPhelpsPikePlattePolkPulaskiPutnamRallsRandolphRayReynoldsRipleySt._CharlesSt._ClairSte._GenevieveSt._FrancoisSt._LouisSalineSchuylerScotlandScottShannonShelbyStoddardStoneSullivanTaneyTexasVernonWarrenWashingtonWayneWebsterWorthWrightSt._Louis_CityBeaverheadBig_HornBlaineBroadwaterCarbonCascadeChouteauCusterDanielsDawsonDeer_LodgeFallonFergusFlatheadGallatinGlacierGraniteHillJeffersonJudith_BasinLakeLewis_and_ClarkLibertyLincolnMcConeMadisonMeagherMineralMissoulaMusselshellParkPhillipsPonderaPowder_RiverPowellRavalliRichlandRooseveltRosebudSandersSheridanSilver_BowStillwaterSweet_GrassTetonTooleValleyWheatlandYellowstoneAdamsAntelopeBooneBox_ButteBoydBrownBuffaloBurtButlerCassCedarChaseCherryCheyenneClayColfaxCumingCusterDakotaDawesDawsonDeuelDixonDodgeDouglasDundyFillmoreFranklinFrontierFurnasGageGardenGarfieldGosperGreeleyHallHamiltonHarlanHitchcockHoltHowardJeffersonJohnsonKearneyKeithKimballKnoxLancasterLincolnMadisonMerrickMorrillNanceNemahaNuckollsOtoePawneePerkinsPhelpsPiercePlattePolkRed_WillowRichardsonSalineSarpySaundersScotts_BluffSewardSheridanShermanStantonThayerThurstonValleyWashingtonWayneWebsterYorkChurchillClarkDouglasElkoEurekaHumboldtLanderLincolnLyonMineralNyePershingStoreyWashoeWhite_PineCarson_CityBelknapCarrollCheshireCoosGraftonHillsboroughMerrimackRockinghamStraffordSullivanAtlanticBergenBurlingtonCamdenCape_MayCumberlandEssexGloucesterHudsonHunterdonMercerMiddlesexMonmouthMorrisOceanPassaicSalemSomersetSussexUnionWarrenBernalilloCatronChavesCibolaColfaxCurryDe_BacaDona_AnaEddyGrantGuadalupeHidalgoLeaLincolnLos_AlamosLunaMcKinleyMoraOteroQuayRio_ArribaRooseveltSandovalSan_JuanSan_MiguelSanta_FeSierraSocorroTaosTorranceUnionValenciaAlbanyAlleganyBronxBroomeCattaraugusCayugaChautauquaChemungChenangoClintonColumbiaCortlandDelawareDutchessErieEssexFranklinFultonGeneseeGreeneHamiltonHerkimerJeffersonKingsLewisLivingstonMadisonMonroeMontgomeryNassauNew_YorkNiagaraOneidaOnondagaOntarioOrangeOrleansOswegoOtsegoPutnamQueensRensselaerRichmondRocklandSt._LawrenceSaratogaSchenectadySchoharieSchuylerSenecaSteubenSuffolkSullivanTiogaTompkinsUlsterWarrenWashingtonWayneWestchesterWyomingYatesAlamanceAlexanderAlleghanyAnsonAsheAveryBeaufortBertieBladenBrunswickBuncombeBurkeCabarrusCaldwellCamdenCarteretCaswellCatawbaChathamCherokeeChowanClayClevelandColumbusCravenCumberlandCurrituckDareDavidsonDavieDuplinDurhamEdgecombeForsythFranklinGastonGatesGrahamGranvilleGreeneGuilfordHalifaxHarnettHaywoodHendersonHertfordHokeHydeIredellJacksonJohnstonJonesLeeLenoirLincolnMcDowellMaconMadisonMartinMecklenburgMitchellMontgomeryMooreNashNew_HanoverNorthamptonOnslowOrangePamlicoPasquotankPenderPerquimansPersonPittPolkRandolphRichmondRobesonRockinghamRowanRutherfordSampsonScotlandStanlyStokesSurrySwainTransylvaniaTyrrellUnionVanceWakeWarrenWashingtonWataugaWayneWilkesWilsonYadkinYanceyAdamsBarnesBensonBottineauBowmanBurkeBurleighCassCavalierDickeyDivideDunnEddyEmmonsFosterGolden_ValleyGrand_ForksGrantGriggsHettingerKidderLaMoureLoganMcHenryMcIntoshMcKenzieMcLeanMercerMortonMountrailNelsonOliverPembinaPierceRamseyRansomRenvilleRichlandRoletteSargentSiouxStarkSteeleStutsmanTownerTraillWalshWardWellsWilliamsAdamsAllenAshlandAshtabulaAthensAuglaizeBelmontBrownButlerCarrollChampaignClarkClermontClintonColumbianaCoshoctonCrawfordCuyahogaDarkeDefianceDelawareErieFairfieldFayetteFranklinFultonGalliaGeaugaGreeneGuernseyHamiltonHancockHardinHarrisonHenryHighlandHockingHolmesHuronJacksonJeffersonKnoxLakeLawrenceLickingLoganLorainLucasMadisonMahoningMarionMedinaMeigsMercerMiamiMonroeMontgomeryMorganMorrowMuskingumNobleOttawaPauldingPerryPickawayPikePortagePreblePutnamRichlandRossSanduskySciotoSenecaShelbyStarkSummitTrumbullTuscarawasUnionVan_WertVintonWarrenWashingtonWayneWilliamsWoodWyandotAdairAlfalfaAtokaBeaverBeckhamBlaineBryanCaddoCanadianCarterCherokeeChoctawCimarronClevelandCoalComancheCottonCraigCreekCusterDelawareDeweyEllisGarfieldGarvinGradyGrantGreerHarmonHarperHaskellHughesJacksonJeffersonJohnstonKayKingfisherKiowaLatimerLe_FloreLincolnLoganLoveMcClainMcCurtainMcIntoshMajorMarshallMayesMurrayMuskogeeNobleNowataOkfuskeeOklahomaOkmulgeeOsageOttawaPawneePaynePittsburgPontotocPottawatomiePushmatahaRoger_MillsRogersSeminoleSequoyahStephensTexasTillmanTulsaWagonerWashingtonWashitaWoodsWoodwardBakerBentonClackamasClatsopColumbiaCoosCrookCurryDeschutesDouglasGilliamGrantHarneyHood_RiverJacksonJeffersonJosephineKlamathLakeLaneLincolnLinnMalheurMarionMorrowMultnomahPolkShermanTillamookUmatillaUnionWallowaWascoWashingtonYamhillAdamsAlleghenyArmstrongBeaverBedfordBerksBlairBradfordBucksButlerCambriaCameronCarbonCentreChesterClarionClearfieldClintonColumbiaCrawfordCumberlandDauphinDelawareElkErieFayetteForestFranklinFultonGreeneHuntingdonIndianaJeffersonJuniataLackawannaLancasterLawrenceLebanonLehighLuzerneLycomingMcKeanMercerMifflinMonroeMontgomeryMontourNorthamptonNorthumberlandPerryPhiladelphiaPikePotterSchuylkillSnyderSomersetSullivanSusquehannaTiogaUnionVenangoWarrenWashingtonWayneWestmorelandWyomingYorkBristolKentNewportProvidenceWashingtonAbbevilleAikenAllendaleAndersonBambergBarnwellBeaufortBerkeleyCalhounCharlestonCherokeeChesterChesterfieldClarendonColletonDarlingtonDillonDorchesterEdgefieldFairfieldFlorenceGeorgetownGreenvilleGreenwoodHamptonHorryJasperKershawLancasterLaurensLeeLexingtonMcCormickMarionMarlboroNewberryOconeeOrangeburgPickensRichlandSaludaSpartanburgSumterUnionWilliamsburgYorkAuroraBeadleBennettBon_HommeBrookingsBrownBruleBuffaloButteCharles_MixClarkClayCodingtonCorsonCusterDavisonDayDeuelDeweyDouglasEdmundsFall_RiverFaulkGrantGregoryHaakonHamlinHandHansonHughesHutchinsonJacksonJerauldKingsburyLakeLawrenceLincolnLymanMcCookMcPhersonMarshallMeadeMelletteMinerMinnehahaMoodyOglala_LakotaPenningtonPerkinsPotterRobertsSanbornSpinkStanleyToddTrippTurnerUnionWalworthYanktonZiebachAndersonBedfordBentonBledsoeBlountBradleyCampbellCannonCarrollCarterCheathamChesterClaiborneClayCockeCoffeeCrockettCumberlandDavidsonDecaturDeKalbDicksonDyerFayetteFentressFranklinGibsonGilesGraingerGreeneGrundyHamblenHamiltonHancockHardemanHardinHawkinsHaywoodHendersonHenryHickmanHoustonHumphreysJacksonJeffersonJohnsonKnoxLakeLauderdaleLawrenceLewisLincolnLoudonMcMinnMcNairyMaconMadisonMarionMarshallMauryMeigsMonroeMontgomeryMooreMorganObionOvertonPerryPickettPolkPutnamRheaRoaneRobertsonRutherfordScottSequatchieSevierShelbySmithStewartSullivanSumnerTiptonTrousdaleUnicoiUnionVan_BurenWarrenWashingtonWayneWeakleyWhiteWilliamsonWilsonAndersonAndrewsAngelinaAransasArcherArmstrongAtascosaAustinBaileyBanderaBastropBaylorBeeBellBexarBlancoBosqueBowieBrazoriaBrazosBrewsterBrooksBrownBurlesonBurnetCaldwellCalhounCallahanCameronCampCarsonCassCastroChambersCherokeeChildressClayCochranCokeColemanCollinCollingsworthColoradoComalComancheConchoCookeCoryellCraneCrockettCrosbyCulbersonDallamDallasDawsonDeaf_SmithDeltaDentonDeWittDickensDimmitDonleyDuvalEastlandEctorEdwardsEllisEl_PasoErathFallsFanninFayetteFisherFloydFort_BendFranklinFreestoneFrioGainesGalvestonGarzaGillespieGoliadGonzalesGrayGraysonGreggGrimesGuadalupeHaleHallHamiltonHansfordHardemanHardinHarrisHarrisonHartleyHaskellHaysHemphillHendersonHidalgoHillHockleyHoodHopkinsHoustonHowardHudspethHuntHutchinsonJackJacksonJasperJeff_DavisJeffersonJim_HoggJim_WellsJohnsonJonesKarnesKaufmanKendallKerrKimbleKinneyKlebergKnoxLamarLambLampasasLa_SalleLavacaLeeLeonLibertyLimestoneLipscombLive_OakLlanoLubbockLynnMcCullochMcLennanMadisonMarionMartinMasonMatagordaMaverickMedinaMenardMidlandMilamMillsMitchellMontagueMontgomeryMooreMorrisNacogdochesNavarroNewtonNolanNuecesOchiltreeOldhamOrangePalo_PintoPanolaParkerParmerPecosPolkPotterPresidioRainsRandallReaganRealRed_RiverReevesRefugioRobertsonRockwallRunnelsRuskSabineSan_AugustineSan_JacintoSan_PatricioSan_SabaSchleicherScurryShackelfordShelbyShermanSmithSomervellStarrStephensSuttonSwisherTarrantTaylorTerryTitusTom_GreenTravisTrinityTylerUpshurUptonUvaldeVal_VerdeVan_ZandtVictoriaWalkerWallerWardWashingtonWebbWhartonWheelerWichitaWilbargerWillacyWilliamsonWilsonWinklerWiseWoodYoakumYoungZapataZavalaBeaverBox_ElderCacheCarbonDavisDuchesneEmeryGarfieldGrandIronJuabKaneMillardMorganRichSalt_LakeSan_JuanSanpeteSevierSummitTooeleUintahUtahWasatchWashingtonWayneWeberAddisonBenningtonCaledoniaChittendenEssexFranklinGrand_IsleLamoilleOrangeOrleansRutlandWashingtonWindhamWindsorAccomackAlbemarleAlleghanyAmeliaAmherstAppomattoxArlingtonAugustaBathBedfordBlandBotetourtBrunswickBuchananBuckinghamCampbellCarolineCarrollCharles_CityCharlotteChesterfieldClarkeCraigCulpeperCumberlandDickensonDinwiddieEssexFairfaxFauquierFloydFluvannaFranklinFrederickGilesGloucesterGoochlandGraysonGreeneGreensvilleHalifaxHanoverHenricoHenryHighlandIsle_of_WightJames_CityKing_and_QueenKing_GeorgeKing_WilliamLancasterLeeLoudounLouisaLunenburgMadisonMathewsMecklenburgMiddlesexMontgomeryNelsonNew_KentNorthamptonNorthumberlandNottowayOrangePagePatrickPittsylvaniaPowhatanPrince_EdwardPrince_GeorgePrince_WilliamPulaskiRappahannockRichmondRoanokeRockbridgeRockinghamRussellScottShenandoahSmythSouthamptonSpotsylvaniaStaffordSurrySussexTazewellWarrenWashingtonWestmorelandWiseWytheYorkAlexandria_CityBristol_CityBuena_Vista_CityCharlottesville_CityChesapeake_CityColonial_Heights_CityCovington_CityDanville_CityEmporia_CityFairfax_CityFalls_Church_CityFranklin_CityFredericksburg_CityGalax_CityHampton_CityHarrisonburg_CityHopewell_CityLexington_CityLynchburg_CityManassas_CityManassas_Park_CityMartinsville_CityNewport_News_CityNorfolk_CityNorton_CityPetersburg_CityPoquoson_CityPortsmouth_CityRadford_CityRichmond_CityRoanoke_CitySalem_CityStaunton_CitySuffolk_CityVirginia_Beach_CityWaynesboro_CityWilliamsburg_CityWinchester_CityAdamsAsotinBentonChelanClallamClarkColumbiaCowlitzDouglasFerryFranklinGarfieldGrantGrays_HarborIslandJeffersonKingKitsapKittitasKlickitatLewisLincolnMasonOkanoganPacificPend_OreillePierceSan_JuanSkagitSkamaniaSnohomishSpokaneStevensThurstonWahkiakumWalla_WallaWhatcomWhitmanYakimaBarbourBerkeleyBooneBraxtonBrookeCabellCalhounClayDoddridgeFayetteGilmerGrantGreenbrierHampshireHancockHardyHarrisonJacksonJeffersonKanawhaLewisLincolnLoganMcDowellMarionMarshallMasonMercerMineralMingoMonongaliaMonroeMorganNicholasOhioPendletonPleasantsPocahontasPrestonPutnamRaleighRandolphRitchieRoaneSummersTaylorTuckerTylerUpshurWayneWebsterWetzelWirtWoodWyomingAdamsAshlandBarronBayfieldBrownBuffaloBurnettCalumetChippewaClarkColumbiaCrawfordDaneDodgeDoorDouglasDunnEau_ClaireFlorenceFond_du_LacForestGrantGreenGreen_LakeIowaIronJacksonJeffersonJuneauKenoshaKewauneeLa_CrosseLafayetteLangladeLincolnManitowocMarathonMarinetteMarquetteMenomineeMilwaukeeMonroeOcontoOneidaOutagamieOzaukeePepinPiercePolkPortagePriceRacineRichlandRockRuskSt._CroixSaukSawyerShawanoSheboyganTaylorTrempealeauVernonVilasWalworthWashburnWashingtonWaukeshaWaupacaWausharaWinnebagoWoodAlbanyBig_HornCampbellCarbonConverseCrookFremontGoshenHot_SpringsJohnsonLaramieLincolnNatronaNiobraraParkPlatteSheridanSubletteSweetwaterTetonUintaWashakieWeston\"",
      "\nDuring handling of the above exception, another exception occurred:\n",
      "\u001b[0;31mValueError\u001b[0m                                Traceback (most recent call last)",
      "\u001b[0;32m~/anaconda3/lib/python3.7/site-packages/pandas/core/nanops.py\u001b[0m in \u001b[0;36m_ensure_numeric\u001b[0;34m(x)\u001b[0m\n\u001b[1;32m   1166\u001b[0m             \u001b[0;32mtry\u001b[0m\u001b[0;34m:\u001b[0m\u001b[0;34m\u001b[0m\u001b[0;34m\u001b[0m\u001b[0m\n\u001b[0;32m-> 1167\u001b[0;31m                 \u001b[0mx\u001b[0m \u001b[0;34m=\u001b[0m \u001b[0mcomplex\u001b[0m\u001b[0;34m(\u001b[0m\u001b[0mx\u001b[0m\u001b[0;34m)\u001b[0m\u001b[0;34m\u001b[0m\u001b[0;34m\u001b[0m\u001b[0m\n\u001b[0m\u001b[1;32m   1168\u001b[0m             \u001b[0;32mexcept\u001b[0m \u001b[0mException\u001b[0m\u001b[0;34m:\u001b[0m\u001b[0;34m\u001b[0m\u001b[0;34m\u001b[0m\u001b[0m\n",
      "\u001b[0;31mValueError\u001b[0m: could not convert string to complex: \"AutaugaBaldwinBarbourBibbBlountBullockButlerCalhounChambersCherokeeChiltonChoctawClarkeClayCleburneCoffeeColbertConecuhCoosaCovingtonCrenshawCullmanDaleDallasDeKalbElmoreEscambiaEtowahFayetteFranklinGenevaGreeneHaleHenryHoustonJacksonJeffersonLamarLauderdaleLawrenceLeeLimestoneLowndesMaconMadisonMarengoMarionMarshallMobileMonroeMontgomeryMorganPerryPickensPikeRandolphRussellSt._ClairShelbySumterTalladegaTallapoosaTuscaloosaWalkerWashingtonWilcoxWinstonAleutians_EastAleutians_WestAnchorageBethelDenaliDillinghamFairbanks_North_StarHainesHoonah-AngoonJuneauKenai_PeninsulaKetchikan_GatewayKodiak_IslandKusilvakMatanuska-SusitnaNomeNorth_SlopeNorthwest_ArcticPetersburgPrince_of_Wales-HyderSitkaSoutheast_FairbanksValdez-CordovaWrangellYukon-KoyukukApacheCochiseCoconinoGilaGrahamGreenleeLa_PazMaricopaMohaveNavajoPimaPinalSanta_CruzYavapaiYumaArkansasAshleyBaxterBentonBooneBradleyCalhounCarrollChicotClarkClayCleburneClevelandColumbiaConwayCraigheadCrawfordCrittendenCrossDallasDeshaDrewFaulknerFranklinFultonGarlandGrantGreeneHempsteadHot_SpringHowardIndependenceIzardJacksonJeffersonJohnsonLafayetteLawrenceLeeLincolnLittle_RiverLoganLonokeMadisonMarionMillerMississippiMonroeMontgomeryNevadaNewtonOuachitaPerryPhillipsPikePoinsettPolkPopePrairiePulaskiRandolphSt._FrancisSalineScottSearcySebastianSevierSharpStoneUnionVan_BurenWashingtonWhiteWoodruffYellAlamedaAmadorButteCalaverasColusaContra_CostaDel_NorteEl_DoradoFresnoGlennHumboldtImperialInyoKernKingsLakeLassenLos_AngelesMaderaMarinMariposaMendocinoMercedModocMonoMontereyNapaNevadaOrangePlacerPlumasRiversideSacramentoSan_BenitoSan_BernardinoSan_DiegoSan_FranciscoSan_JoaquinSan_Luis_ObispoSan_MateoSanta_BarbaraSanta_ClaraSanta_CruzShastaSierraSiskiyouSolanoSonomaStanislausSutterTehamaTrinityTulareTuolumneVenturaYoloYubaAdamsAlamosaArapahoeArchuletaBacaBentBoulderBroomfieldChaffeeCheyenneClear_CreekConejosCostillaCrowleyCusterDeltaDenverDoloresDouglasEagleElbertEl_PasoFremontGarfieldGilpinGrandGunnisonHuerfanoJeffersonKit_CarsonLakeLa_PlataLarimerLas_AnimasLincolnLoganMesaMoffatMontezumaMontroseMorganOteroOurayParkPhillipsPitkinProwersPuebloRio_BlancoRio_GrandeRouttSaguacheSan_MiguelSedgwickSummitTellerWashingtonWeldYumaFairfieldHartfordLitchfieldMiddlesexNew_HavenNew_LondonTollandWindhamKentNew_CastleSussexDistrict_of_ColumbiaAlachuaBakerBayBradfordBrevardBrowardCalhounCharlotteCitrusClayCollierColumbiaDeSotoDixieDuvalEscambiaFlaglerFranklinGadsdenGilchristGladesGulfHamiltonHardeeHendryHernandoHighlandsHillsboroughHolmesIndian_RiverJacksonJeffersonLafayetteLakeLeeLeonLevyLibertyMadisonManateeMarionMartinMiami-DadeMonroeNassauOkaloosaOkeechobeeOrangeOsceolaPalm_BeachPascoPinellasPolkPutnamSt._JohnsSt._LucieSanta_RosaSarasotaSeminoleSumterSuwanneeTaylorUnionVolusiaWakullaWaltonWashingtonApplingAtkinsonBaconBakerBaldwinBanksBarrowBartowBen_HillBerrienBibbBleckleyBrantleyBrooksBryanBullochBurkeButtsCalhounCamdenCandlerCarrollCatoosaCharltonChathamChattahoocheeChattoogaCherokeeClarkeClayClaytonClinchCobbCoffeeColquittColumbiaCookCowetaCrawfordCrispDadeDawsonDecaturDeKalbDodgeDoolyDoughertyDouglasEarlyEcholsEffinghamElbertEmanuelEvansFanninFayetteFloydForsythFranklinFultonGilmerGlascockGlynnGordonGradyGreeneGwinnettHabershamHallHancockHaralsonHarrisHartHeardHenryHoustonIrwinJacksonJasperJeff_DavisJeffersonJenkinsJohnsonJonesLamarLanierLaurensLeeLibertyLincolnLongLowndesLumpkinMcDuffieMcIntoshMaconMadisonMarionMeriwetherMillerMitchellMonroeMontgomeryMorganMurrayMuscogeeNewtonOconeeOglethorpePauldingPeachPickensPiercePikePolkPulaskiPutnamQuitmanRabunRandolphRichmondRockdaleSchleyScrevenSeminoleSpaldingStephensStewartSumterTalbotTattnallTaylorTelfairTerrellThomasTiftToombsTownsTreutlenTroupTurnerTwiggsUnionUpsonWalkerWaltonWareWarrenWashingtonWayneWebsterWheelerWhiteWhitfieldWilcoxWilkesWilkinsonWorthHawaiiHonoluluKauaiMauiAdaAdamsBannockBear_LakeBenewahBinghamBlaineBoiseBonnerBonnevilleBoundaryButteCanyonCaribouCassiaClearwaterCusterElmoreFranklinFremontGemGoodingIdahoJeffersonJeromeKootenaiLatahLemhiLewisLincolnMadisonMinidokaNez_PerceOneidaOwyheePayettePowerShoshoneTetonTwin_FallsValleyWashingtonAdamsAlexanderBondBooneBrownBureauCalhounCarrollCassChampaignChristianClarkClayClintonColesCookCrawfordCumberlandDeKalbDe_WittDouglasDuPageEdgarEdwardsEffinghamFayetteFordFranklinFultonGallatinGreeneGrundyHamiltonHancockHardinHendersonHenryIroquoisJacksonJasperJeffersonJerseyJo_DaviessJohnsonKaneKankakeeKendallKnoxLakeLaSalleLawrenceLeeLivingstonLoganMcDonoughMcHenryMcLeanMaconMacoupinMadisonMarionMarshallMasonMassacMenardMercerMonroeMontgomeryMorganMoultrieOglePeoriaPerryPiattPikePopePulaskiPutnamRandolphRichlandRock_IslandSt._ClairSalineSangamonSchuylerScottShelbyStarkStephensonTazewellUnionVermilionWabashWarrenWashingtonWayneWhiteWhitesideWillWilliamsonWinnebagoWoodfordAdamsAllenBartholomewBentonBlackfordBooneBrownCarrollCassClarkClayClintonCrawfordDaviessDearbornDecaturDeKalbDelawareDuboisElkhartFayetteFloydFountainFranklinFultonGibsonGrantGreeneHamiltonHancockHarrisonHendricksHenryHowardHuntingtonJacksonJasperJayJeffersonJenningsJohnsonKnoxKosciuskoLaGrangeLakeLaPorteLawrenceMadisonMarionMarshallMartinMiamiMonroeMontgomeryMorganNewtonNobleOhioOrangeOwenParkePerryPikePorterPoseyPulaskiPutnamRandolphRipleyRushSt._JosephScottShelbySpencerStarkeSteubenSullivanSwitzerlandTippecanoeTiptonUnionVanderburghVermillionVigoWabashWarrenWarrickWashingtonWayneWellsWhiteWhitleyAdairAdamsAllamakeeAppanooseAudubonBentonBlack_HawkBooneBremerBuchananBuena_VistaButlerCalhounCarrollCassCedarCerro_GordoCherokeeChickasawClarkeClayClaytonClintonCrawfordDallasDavisDecaturDelawareDes_MoinesDickinsonDubuqueEmmetFayetteFloydFranklinFremontGreeneGrundyGuthrieHamiltonHancockHardinHarrisonHenryHowardHumboldtIdaIowaJacksonJasperJeffersonJohnsonJonesKeokukKossuthLeeLinnLouisaLucasLyonMadisonMahaskaMarionMarshallMillsMitchellMononaMonroeMontgomeryMuscatineO'BrienOsceolaPagePalo_AltoPlymouthPocahontasPolkPottawattamiePoweshiekRinggoldSacScottShelbySiouxStoryTamaTaylorUnionVan_BurenWapelloWarrenWashingtonWayneWebsterWinnebagoWinneshiekWoodburyWorthWrightAllenAndersonAtchisonBarberBartonBourbonBrownButlerChaseChautauquaCherokeeCheyenneClarkClayCloudCoffeyComancheCowleyCrawfordDecaturDickinsonDoniphanDouglasEdwardsElkEllisEllsworthFinneyFordFranklinGearyGoveGrahamGrantGrayGreenwoodHamiltonHarperHarveyHaskellHodgemanJacksonJeffersonJewellJohnsonKearnyKingmanKiowaLabetteLeavenworthLincolnLinnLoganLyonMcPhersonMarionMarshallMeadeMiamiMitchellMontgomeryMorrisMortonNemahaNeoshoNessNortonOsageOsborneOttawaPawneePhillipsPottawatomiePrattRawlinsRenoRepublicRiceRileyRooksRushRussellSalineScottSedgwickSewardShawneeSheridanShermanSmithStaffordStantonStevensSumnerThomasTregoWabaunseeWashingtonWichitaWilsonWoodsonWyandotteAdairAllenAndersonBallardBarrenBathBellBooneBourbonBoydBoyleBrackenBreathittBreckinridgeBullittButlerCaldwellCallowayCampbellCarlisleCarrollCarterCaseyChristianClarkClayClintonCrittendenCumberlandDaviessEdmonsonElliottEstillFayetteFlemingFloydFranklinFultonGallatinGarrardGrantGravesGraysonGreenGreenupHancockHardinHarlanHarrisonHartHendersonHenryHickmanHopkinsJacksonJeffersonJessamineJohnsonKentonKnottKnoxLarueLaurelLawrenceLeeLeslieLetcherLewisLincolnLivingstonLoganLyonMcCrackenMcCrearyMcLeanMadisonMagoffinMarionMarshallMartinMasonMeadeMenifeeMercerMetcalfeMonroeMontgomeryMorganMuhlenbergNelsonNicholasOhioOldhamOwenOwsleyPendletonPerryPikePowellPulaskiRobertsonRockcastleRowanRussellScottShelbySimpsonSpencerTaylorToddTriggTrimbleUnionWarrenWashingtonWayneWebsterWhitleyWolfeWoodfordAcadiaAllenAscensionAssumptionAvoyellesBeauregardBienvilleBossierCaddoCalcasieuCaldwellCameronCatahoulaClaiborneConcordiaDe_SotoEast_Baton_RougeEast_CarrollEast_FelicianaEvangelineFranklinGrantIberiaIbervilleJacksonJeffersonJefferson_DavisLafayetteLafourcheLa_SalleLincolnLivingstonMadisonMorehouseNatchitochesOrleansOuachitaPlaqueminesPointe_CoupeeRapidesRed_RiverRichlandSabineSt._BernardSt._CharlesSt._HelenaSt._JamesSt._John_the_BaptistSt._LandrySt._MartinSt._MarySt._TammanyTangipahoaTensasTerrebonneUnionVermilionVernonWashingtonWebsterWest_Baton_RougeWest_CarrollWest_FelicianaWinnAndroscogginAroostookCumberlandFranklinHancockKennebecKnoxLincolnOxfordPenobscotPiscataquisSagadahocSomersetWaldoWashingtonYorkAlleganyAnne_ArundelBaltimoreCalvertCarolineCarrollCecilCharlesDorchesterFrederickGarrettHarfordHowardKentMontgomeryPrince_George'sQueen_Anne'sSt._Mary'sSomersetTalbotWashingtonWicomicoWorcesterBaltimore_CityBarnstableBerkshireBristolDukesEssexFranklinHampdenHampshireMiddlesexNantucketNorfolkPlymouthSuffolkWorcesterAlconaAlgerAlleganAlpenaAntrimArenacBaragaBarryBayBenzieBerrienBranchCalhounCassCharlevoixCheboyganChippewaClareClintonCrawfordDeltaDickinsonEatonEmmetGeneseeGladwinGogebicGrand_TraverseGratiotHillsdaleHoughtonHuronInghamIoniaIoscoIronIsabellaJacksonKalamazooKalkaskaKentKeweenawLakeLapeerLeelanauLenaweeLivingstonLuceMackinacMacombManisteeMarquetteMasonMecostaMenomineeMidlandMissaukeeMonroeMontcalmMontmorencyMuskegonNewaygoOaklandOceanaOgemawOntonagonOsceolaOscodaOtsegoOttawaPresque_IsleRoscommonSaginawSt._ClairSt._JosephSanilacSchoolcraftShiawasseeTuscolaVan_BurenWashtenawWayneWexfordAitkinAnokaBeckerBeltramiBentonBig_StoneBlue_EarthBrownCarltonCarverCassChippewaChisagoClayClearwaterCookCottonwoodCrow_WingDakotaDodgeDouglasFaribaultFillmoreFreebornGoodhueGrantHennepinHoustonHubbardIsantiItascaJacksonKanabecKandiyohiKittsonKoochichingLac_qui_ParleLakeLake_of_the_WoodsLe_SueurLincolnLyonMcLeodMahnomenMarshallMartinMeekerMille_LacsMorrisonMowerMurrayNicolletNoblesNormanOlmstedOtter_TailPenningtonPinePipestonePolkPopeRamseyRed_LakeRedwoodRenvilleRiceRockRoseauSt._LouisScottSherburneSibleyStearnsSteeleStevensSwiftToddTraverseWabashaWadenaWasecaWashingtonWatonwanWilkinWinonaWrightYellow_MedicineAdamsAlcornAmiteAttalaBentonBolivarCalhounCarrollChickasawChoctawClaiborneClarkeClayCoahomaCopiahCovingtonDeSotoForrestFranklinGeorgeGreeneGrenadaHancockHarrisonHindsHolmesHumphreysItawambaJacksonJasperJeffersonJefferson_DavisJonesKemperLafayetteLamarLauderdaleLawrenceLeakeLeeLefloreLincolnLowndesMadisonMarionMarshallMonroeMontgomeryNeshobaNewtonNoxubeeOktibbehaPanolaPearl_RiverPerryPikePontotocPrentissQuitmanRankinScottSharkeySimpsonSmithStoneSunflowerTallahatchieTateTippahTishomingoTunicaUnionWalthallWarrenWashingtonWayneWebsterWilkinsonWinstonYalobushaYazooAdairAndrewAtchisonAudrainBarryBartonBatesBentonBollingerBooneBuchananButlerCaldwellCallawayCamdenCape_GirardeauCarrollCarterCassCedarCharitonChristianClarkClayClintonColeCooperCrawfordDadeDallasDaviessDeKalbDentDouglasDunklinFranklinGasconadeGentryGreeneGrundyHarrisonHenryHickoryHoltHowardHowellIronJacksonJasperJeffersonJohnsonKnoxLacledeLafayetteLawrenceLewisLincolnLinnLivingstonMcDonaldMaconMadisonMariesMarionMercerMillerMississippiMoniteauMonroeMontgomeryMorganNew_MadridNewtonNodawayOregonOsageOzarkPemiscotPerryPettisPhelpsPikePlattePolkPulaskiPutnamRallsRandolphRayReynoldsRipleySt._CharlesSt._ClairSte._GenevieveSt._FrancoisSt._LouisSalineSchuylerScotlandScottShannonShelbyStoddardStoneSullivanTaneyTexasVernonWarrenWashingtonWayneWebsterWorthWrightSt._Louis_CityBeaverheadBig_HornBlaineBroadwaterCarbonCascadeChouteauCusterDanielsDawsonDeer_LodgeFallonFergusFlatheadGallatinGlacierGraniteHillJeffersonJudith_BasinLakeLewis_and_ClarkLibertyLincolnMcConeMadisonMeagherMineralMissoulaMusselshellParkPhillipsPonderaPowder_RiverPowellRavalliRichlandRooseveltRosebudSandersSheridanSilver_BowStillwaterSweet_GrassTetonTooleValleyWheatlandYellowstoneAdamsAntelopeBooneBox_ButteBoydBrownBuffaloBurtButlerCassCedarChaseCherryCheyenneClayColfaxCumingCusterDakotaDawesDawsonDeuelDixonDodgeDouglasDundyFillmoreFranklinFrontierFurnasGageGardenGarfieldGosperGreeleyHallHamiltonHarlanHitchcockHoltHowardJeffersonJohnsonKearneyKeithKimballKnoxLancasterLincolnMadisonMerrickMorrillNanceNemahaNuckollsOtoePawneePerkinsPhelpsPiercePlattePolkRed_WillowRichardsonSalineSarpySaundersScotts_BluffSewardSheridanShermanStantonThayerThurstonValleyWashingtonWayneWebsterYorkChurchillClarkDouglasElkoEurekaHumboldtLanderLincolnLyonMineralNyePershingStoreyWashoeWhite_PineCarson_CityBelknapCarrollCheshireCoosGraftonHillsboroughMerrimackRockinghamStraffordSullivanAtlanticBergenBurlingtonCamdenCape_MayCumberlandEssexGloucesterHudsonHunterdonMercerMiddlesexMonmouthMorrisOceanPassaicSalemSomersetSussexUnionWarrenBernalilloCatronChavesCibolaColfaxCurryDe_BacaDona_AnaEddyGrantGuadalupeHidalgoLeaLincolnLos_AlamosLunaMcKinleyMoraOteroQuayRio_ArribaRooseveltSandovalSan_JuanSan_MiguelSanta_FeSierraSocorroTaosTorranceUnionValenciaAlbanyAlleganyBronxBroomeCattaraugusCayugaChautauquaChemungChenangoClintonColumbiaCortlandDelawareDutchessErieEssexFranklinFultonGeneseeGreeneHamiltonHerkimerJeffersonKingsLewisLivingstonMadisonMonroeMontgomeryNassauNew_YorkNiagaraOneidaOnondagaOntarioOrangeOrleansOswegoOtsegoPutnamQueensRensselaerRichmondRocklandSt._LawrenceSaratogaSchenectadySchoharieSchuylerSenecaSteubenSuffolkSullivanTiogaTompkinsUlsterWarrenWashingtonWayneWestchesterWyomingYatesAlamanceAlexanderAlleghanyAnsonAsheAveryBeaufortBertieBladenBrunswickBuncombeBurkeCabarrusCaldwellCamdenCarteretCaswellCatawbaChathamCherokeeChowanClayClevelandColumbusCravenCumberlandCurrituckDareDavidsonDavieDuplinDurhamEdgecombeForsythFranklinGastonGatesGrahamGranvilleGreeneGuilfordHalifaxHarnettHaywoodHendersonHertfordHokeHydeIredellJacksonJohnstonJonesLeeLenoirLincolnMcDowellMaconMadisonMartinMecklenburgMitchellMontgomeryMooreNashNew_HanoverNorthamptonOnslowOrangePamlicoPasquotankPenderPerquimansPersonPittPolkRandolphRichmondRobesonRockinghamRowanRutherfordSampsonScotlandStanlyStokesSurrySwainTransylvaniaTyrrellUnionVanceWakeWarrenWashingtonWataugaWayneWilkesWilsonYadkinYanceyAdamsBarnesBensonBottineauBowmanBurkeBurleighCassCavalierDickeyDivideDunnEddyEmmonsFosterGolden_ValleyGrand_ForksGrantGriggsHettingerKidderLaMoureLoganMcHenryMcIntoshMcKenzieMcLeanMercerMortonMountrailNelsonOliverPembinaPierceRamseyRansomRenvilleRichlandRoletteSargentSiouxStarkSteeleStutsmanTownerTraillWalshWardWellsWilliamsAdamsAllenAshlandAshtabulaAthensAuglaizeBelmontBrownButlerCarrollChampaignClarkClermontClintonColumbianaCoshoctonCrawfordCuyahogaDarkeDefianceDelawareErieFairfieldFayetteFranklinFultonGalliaGeaugaGreeneGuernseyHamiltonHancockHardinHarrisonHenryHighlandHockingHolmesHuronJacksonJeffersonKnoxLakeLawrenceLickingLoganLorainLucasMadisonMahoningMarionMedinaMeigsMercerMiamiMonroeMontgomeryMorganMorrowMuskingumNobleOttawaPauldingPerryPickawayPikePortagePreblePutnamRichlandRossSanduskySciotoSenecaShelbyStarkSummitTrumbullTuscarawasUnionVan_WertVintonWarrenWashingtonWayneWilliamsWoodWyandotAdairAlfalfaAtokaBeaverBeckhamBlaineBryanCaddoCanadianCarterCherokeeChoctawCimarronClevelandCoalComancheCottonCraigCreekCusterDelawareDeweyEllisGarfieldGarvinGradyGrantGreerHarmonHarperHaskellHughesJacksonJeffersonJohnstonKayKingfisherKiowaLatimerLe_FloreLincolnLoganLoveMcClainMcCurtainMcIntoshMajorMarshallMayesMurrayMuskogeeNobleNowataOkfuskeeOklahomaOkmulgeeOsageOttawaPawneePaynePittsburgPontotocPottawatomiePushmatahaRoger_MillsRogersSeminoleSequoyahStephensTexasTillmanTulsaWagonerWashingtonWashitaWoodsWoodwardBakerBentonClackamasClatsopColumbiaCoosCrookCurryDeschutesDouglasGilliamGrantHarneyHood_RiverJacksonJeffersonJosephineKlamathLakeLaneLincolnLinnMalheurMarionMorrowMultnomahPolkShermanTillamookUmatillaUnionWallowaWascoWashingtonYamhillAdamsAlleghenyArmstrongBeaverBedfordBerksBlairBradfordBucksButlerCambriaCameronCarbonCentreChesterClarionClearfieldClintonColumbiaCrawfordCumberlandDauphinDelawareElkErieFayetteForestFranklinFultonGreeneHuntingdonIndianaJeffersonJuniataLackawannaLancasterLawrenceLebanonLehighLuzerneLycomingMcKeanMercerMifflinMonroeMontgomeryMontourNorthamptonNorthumberlandPerryPhiladelphiaPikePotterSchuylkillSnyderSomersetSullivanSusquehannaTiogaUnionVenangoWarrenWashingtonWayneWestmorelandWyomingYorkBristolKentNewportProvidenceWashingtonAbbevilleAikenAllendaleAndersonBambergBarnwellBeaufortBerkeleyCalhounCharlestonCherokeeChesterChesterfieldClarendonColletonDarlingtonDillonDorchesterEdgefieldFairfieldFlorenceGeorgetownGreenvilleGreenwoodHamptonHorryJasperKershawLancasterLaurensLeeLexingtonMcCormickMarionMarlboroNewberryOconeeOrangeburgPickensRichlandSaludaSpartanburgSumterUnionWilliamsburgYorkAuroraBeadleBennettBon_HommeBrookingsBrownBruleBuffaloButteCharles_MixClarkClayCodingtonCorsonCusterDavisonDayDeuelDeweyDouglasEdmundsFall_RiverFaulkGrantGregoryHaakonHamlinHandHansonHughesHutchinsonJacksonJerauldKingsburyLakeLawrenceLincolnLymanMcCookMcPhersonMarshallMeadeMelletteMinerMinnehahaMoodyOglala_LakotaPenningtonPerkinsPotterRobertsSanbornSpinkStanleyToddTrippTurnerUnionWalworthYanktonZiebachAndersonBedfordBentonBledsoeBlountBradleyCampbellCannonCarrollCarterCheathamChesterClaiborneClayCockeCoffeeCrockettCumberlandDavidsonDecaturDeKalbDicksonDyerFayetteFentressFranklinGibsonGilesGraingerGreeneGrundyHamblenHamiltonHancockHardemanHardinHawkinsHaywoodHendersonHenryHickmanHoustonHumphreysJacksonJeffersonJohnsonKnoxLakeLauderdaleLawrenceLewisLincolnLoudonMcMinnMcNairyMaconMadisonMarionMarshallMauryMeigsMonroeMontgomeryMooreMorganObionOvertonPerryPickettPolkPutnamRheaRoaneRobertsonRutherfordScottSequatchieSevierShelbySmithStewartSullivanSumnerTiptonTrousdaleUnicoiUnionVan_BurenWarrenWashingtonWayneWeakleyWhiteWilliamsonWilsonAndersonAndrewsAngelinaAransasArcherArmstrongAtascosaAustinBaileyBanderaBastropBaylorBeeBellBexarBlancoBosqueBowieBrazoriaBrazosBrewsterBrooksBrownBurlesonBurnetCaldwellCalhounCallahanCameronCampCarsonCassCastroChambersCherokeeChildressClayCochranCokeColemanCollinCollingsworthColoradoComalComancheConchoCookeCoryellCraneCrockettCrosbyCulbersonDallamDallasDawsonDeaf_SmithDeltaDentonDeWittDickensDimmitDonleyDuvalEastlandEctorEdwardsEllisEl_PasoErathFallsFanninFayetteFisherFloydFort_BendFranklinFreestoneFrioGainesGalvestonGarzaGillespieGoliadGonzalesGrayGraysonGreggGrimesGuadalupeHaleHallHamiltonHansfordHardemanHardinHarrisHarrisonHartleyHaskellHaysHemphillHendersonHidalgoHillHockleyHoodHopkinsHoustonHowardHudspethHuntHutchinsonJackJacksonJasperJeff_DavisJeffersonJim_HoggJim_WellsJohnsonJonesKarnesKaufmanKendallKerrKimbleKinneyKlebergKnoxLamarLambLampasasLa_SalleLavacaLeeLeonLibertyLimestoneLipscombLive_OakLlanoLubbockLynnMcCullochMcLennanMadisonMarionMartinMasonMatagordaMaverickMedinaMenardMidlandMilamMillsMitchellMontagueMontgomeryMooreMorrisNacogdochesNavarroNewtonNolanNuecesOchiltreeOldhamOrangePalo_PintoPanolaParkerParmerPecosPolkPotterPresidioRainsRandallReaganRealRed_RiverReevesRefugioRobertsonRockwallRunnelsRuskSabineSan_AugustineSan_JacintoSan_PatricioSan_SabaSchleicherScurryShackelfordShelbyShermanSmithSomervellStarrStephensSuttonSwisherTarrantTaylorTerryTitusTom_GreenTravisTrinityTylerUpshurUptonUvaldeVal_VerdeVan_ZandtVictoriaWalkerWallerWardWashingtonWebbWhartonWheelerWichitaWilbargerWillacyWilliamsonWilsonWinklerWiseWoodYoakumYoungZapataZavalaBeaverBox_ElderCacheCarbonDavisDuchesneEmeryGarfieldGrandIronJuabKaneMillardMorganRichSalt_LakeSan_JuanSanpeteSevierSummitTooeleUintahUtahWasatchWashingtonWayneWeberAddisonBenningtonCaledoniaChittendenEssexFranklinGrand_IsleLamoilleOrangeOrleansRutlandWashingtonWindhamWindsorAccomackAlbemarleAlleghanyAmeliaAmherstAppomattoxArlingtonAugustaBathBedfordBlandBotetourtBrunswickBuchananBuckinghamCampbellCarolineCarrollCharles_CityCharlotteChesterfieldClarkeCraigCulpeperCumberlandDickensonDinwiddieEssexFairfaxFauquierFloydFluvannaFranklinFrederickGilesGloucesterGoochlandGraysonGreeneGreensvilleHalifaxHanoverHenricoHenryHighlandIsle_of_WightJames_CityKing_and_QueenKing_GeorgeKing_WilliamLancasterLeeLoudounLouisaLunenburgMadisonMathewsMecklenburgMiddlesexMontgomeryNelsonNew_KentNorthamptonNorthumberlandNottowayOrangePagePatrickPittsylvaniaPowhatanPrince_EdwardPrince_GeorgePrince_WilliamPulaskiRappahannockRichmondRoanokeRockbridgeRockinghamRussellScottShenandoahSmythSouthamptonSpotsylvaniaStaffordSurrySussexTazewellWarrenWashingtonWestmorelandWiseWytheYorkAlexandria_CityBristol_CityBuena_Vista_CityCharlottesville_CityChesapeake_CityColonial_Heights_CityCovington_CityDanville_CityEmporia_CityFairfax_CityFalls_Church_CityFranklin_CityFredericksburg_CityGalax_CityHampton_CityHarrisonburg_CityHopewell_CityLexington_CityLynchburg_CityManassas_CityManassas_Park_CityMartinsville_CityNewport_News_CityNorfolk_CityNorton_CityPetersburg_CityPoquoson_CityPortsmouth_CityRadford_CityRichmond_CityRoanoke_CitySalem_CityStaunton_CitySuffolk_CityVirginia_Beach_CityWaynesboro_CityWilliamsburg_CityWinchester_CityAdamsAsotinBentonChelanClallamClarkColumbiaCowlitzDouglasFerryFranklinGarfieldGrantGrays_HarborIslandJeffersonKingKitsapKittitasKlickitatLewisLincolnMasonOkanoganPacificPend_OreillePierceSan_JuanSkagitSkamaniaSnohomishSpokaneStevensThurstonWahkiakumWalla_WallaWhatcomWhitmanYakimaBarbourBerkeleyBooneBraxtonBrookeCabellCalhounClayDoddridgeFayetteGilmerGrantGreenbrierHampshireHancockHardyHarrisonJacksonJeffersonKanawhaLewisLincolnLoganMcDowellMarionMarshallMasonMercerMineralMingoMonongaliaMonroeMorganNicholasOhioPendletonPleasantsPocahontasPrestonPutnamRaleighRandolphRitchieRoaneSummersTaylorTuckerTylerUpshurWayneWebsterWetzelWirtWoodWyomingAdamsAshlandBarronBayfieldBrownBuffaloBurnettCalumetChippewaClarkColumbiaCrawfordDaneDodgeDoorDouglasDunnEau_ClaireFlorenceFond_du_LacForestGrantGreenGreen_LakeIowaIronJacksonJeffersonJuneauKenoshaKewauneeLa_CrosseLafayetteLangladeLincolnManitowocMarathonMarinetteMarquetteMenomineeMilwaukeeMonroeOcontoOneidaOutagamieOzaukeePepinPiercePolkPortagePriceRacineRichlandRockRuskSt._CroixSaukSawyerShawanoSheboyganTaylorTrempealeauVernonVilasWalworthWashburnWashingtonWaukeshaWaupacaWausharaWinnebagoWoodAlbanyBig_HornCampbellCarbonConverseCrookFremontGoshenHot_SpringsJohnsonLaramieLincolnNatronaNiobraraParkPlatteSheridanSubletteSweetwaterTetonUintaWashakieWeston\"",
      "\nDuring handling of the above exception, another exception occurred:\n",
      "\u001b[0;31mTypeError\u001b[0m                                 Traceback (most recent call last)",
      "\u001b[0;32m~/anaconda3/lib/python3.7/site-packages/pandas/core/nanops.py\u001b[0m in \u001b[0;36mf\u001b[0;34m(values, axis, skipna, **kwds)\u001b[0m\n\u001b[1;32m    126\u001b[0m                 \u001b[0;32melse\u001b[0m\u001b[0;34m:\u001b[0m\u001b[0;34m\u001b[0m\u001b[0;34m\u001b[0m\u001b[0m\n\u001b[0;32m--> 127\u001b[0;31m                     \u001b[0mresult\u001b[0m \u001b[0;34m=\u001b[0m \u001b[0malt\u001b[0m\u001b[0;34m(\u001b[0m\u001b[0mvalues\u001b[0m\u001b[0;34m,\u001b[0m \u001b[0maxis\u001b[0m\u001b[0;34m=\u001b[0m\u001b[0maxis\u001b[0m\u001b[0;34m,\u001b[0m \u001b[0mskipna\u001b[0m\u001b[0;34m=\u001b[0m\u001b[0mskipna\u001b[0m\u001b[0;34m,\u001b[0m \u001b[0;34m**\u001b[0m\u001b[0mkwds\u001b[0m\u001b[0;34m)\u001b[0m\u001b[0;34m\u001b[0m\u001b[0;34m\u001b[0m\u001b[0m\n\u001b[0m\u001b[1;32m    128\u001b[0m             \u001b[0;32mexcept\u001b[0m \u001b[0mException\u001b[0m\u001b[0;34m:\u001b[0m\u001b[0;34m\u001b[0m\u001b[0;34m\u001b[0m\u001b[0m\n",
      "\u001b[0;32m~/anaconda3/lib/python3.7/site-packages/pandas/core/nanops.py\u001b[0m in \u001b[0;36mnanmean\u001b[0;34m(values, axis, skipna, mask)\u001b[0m\n\u001b[1;32m    478\u001b[0m     \u001b[0mcount\u001b[0m \u001b[0;34m=\u001b[0m \u001b[0m_get_counts\u001b[0m\u001b[0;34m(\u001b[0m\u001b[0mmask\u001b[0m\u001b[0;34m,\u001b[0m \u001b[0maxis\u001b[0m\u001b[0;34m,\u001b[0m \u001b[0mdtype\u001b[0m\u001b[0;34m=\u001b[0m\u001b[0mdtype_count\u001b[0m\u001b[0;34m)\u001b[0m\u001b[0;34m\u001b[0m\u001b[0;34m\u001b[0m\u001b[0m\n\u001b[0;32m--> 479\u001b[0;31m     \u001b[0mthe_sum\u001b[0m \u001b[0;34m=\u001b[0m \u001b[0m_ensure_numeric\u001b[0m\u001b[0;34m(\u001b[0m\u001b[0mvalues\u001b[0m\u001b[0;34m.\u001b[0m\u001b[0msum\u001b[0m\u001b[0;34m(\u001b[0m\u001b[0maxis\u001b[0m\u001b[0;34m,\u001b[0m \u001b[0mdtype\u001b[0m\u001b[0;34m=\u001b[0m\u001b[0mdtype_sum\u001b[0m\u001b[0;34m)\u001b[0m\u001b[0;34m)\u001b[0m\u001b[0;34m\u001b[0m\u001b[0;34m\u001b[0m\u001b[0m\n\u001b[0m\u001b[1;32m    480\u001b[0m \u001b[0;34m\u001b[0m\u001b[0m\n",
      "\u001b[0;32m~/anaconda3/lib/python3.7/site-packages/pandas/core/nanops.py\u001b[0m in \u001b[0;36m_ensure_numeric\u001b[0;34m(x)\u001b[0m\n\u001b[1;32m   1169\u001b[0m                 raise TypeError('Could not convert {value!s} to numeric'\n\u001b[0;32m-> 1170\u001b[0;31m                                 .format(value=x))\n\u001b[0m\u001b[1;32m   1171\u001b[0m     \u001b[0;32mreturn\u001b[0m \u001b[0mx\u001b[0m\u001b[0;34m\u001b[0m\u001b[0;34m\u001b[0m\u001b[0m\n",
      "\u001b[0;31mTypeError\u001b[0m: Could not convert AutaugaBaldwinBarbourBibbBlountBullockButlerCalhounChambersCherokeeChiltonChoctawClarkeClayCleburneCoffeeColbertConecuhCoosaCovingtonCrenshawCullmanDaleDallasDeKalbElmoreEscambiaEtowahFayetteFranklinGenevaGreeneHaleHenryHoustonJacksonJeffersonLamarLauderdaleLawrenceLeeLimestoneLowndesMaconMadisonMarengoMarionMarshallMobileMonroeMontgomeryMorganPerryPickensPikeRandolphRussellSt._ClairShelbySumterTalladegaTallapoosaTuscaloosaWalkerWashingtonWilcoxWinstonAleutians_EastAleutians_WestAnchorageBethelDenaliDillinghamFairbanks_North_StarHainesHoonah-AngoonJuneauKenai_PeninsulaKetchikan_GatewayKodiak_IslandKusilvakMatanuska-SusitnaNomeNorth_SlopeNorthwest_ArcticPetersburgPrince_of_Wales-HyderSitkaSoutheast_FairbanksValdez-CordovaWrangellYukon-KoyukukApacheCochiseCoconinoGilaGrahamGreenleeLa_PazMaricopaMohaveNavajoPimaPinalSanta_CruzYavapaiYumaArkansasAshleyBaxterBentonBooneBradleyCalhounCarrollChicotClarkClayCleburneClevelandColumbiaConwayCraigheadCrawfordCrittendenCrossDallasDeshaDrewFaulknerFranklinFultonGarlandGrantGreeneHempsteadHot_SpringHowardIndependenceIzardJacksonJeffersonJohnsonLafayetteLawrenceLeeLincolnLittle_RiverLoganLonokeMadisonMarionMillerMississippiMonroeMontgomeryNevadaNewtonOuachitaPerryPhillipsPikePoinsettPolkPopePrairiePulaskiRandolphSt._FrancisSalineScottSearcySebastianSevierSharpStoneUnionVan_BurenWashingtonWhiteWoodruffYellAlamedaAmadorButteCalaverasColusaContra_CostaDel_NorteEl_DoradoFresnoGlennHumboldtImperialInyoKernKingsLakeLassenLos_AngelesMaderaMarinMariposaMendocinoMercedModocMonoMontereyNapaNevadaOrangePlacerPlumasRiversideSacramentoSan_BenitoSan_BernardinoSan_DiegoSan_FranciscoSan_JoaquinSan_Luis_ObispoSan_MateoSanta_BarbaraSanta_ClaraSanta_CruzShastaSierraSiskiyouSolanoSonomaStanislausSutterTehamaTrinityTulareTuolumneVenturaYoloYubaAdamsAlamosaArapahoeArchuletaBacaBentBoulderBroomfieldChaffeeCheyenneClear_CreekConejosCostillaCrowleyCusterDeltaDenverDoloresDouglasEagleElbertEl_PasoFremontGarfieldGilpinGrandGunnisonHuerfanoJeffersonKit_CarsonLakeLa_PlataLarimerLas_AnimasLincolnLoganMesaMoffatMontezumaMontroseMorganOteroOurayParkPhillipsPitkinProwersPuebloRio_BlancoRio_GrandeRouttSaguacheSan_MiguelSedgwickSummitTellerWashingtonWeldYumaFairfieldHartfordLitchfieldMiddlesexNew_HavenNew_LondonTollandWindhamKentNew_CastleSussexDistrict_of_ColumbiaAlachuaBakerBayBradfordBrevardBrowardCalhounCharlotteCitrusClayCollierColumbiaDeSotoDixieDuvalEscambiaFlaglerFranklinGadsdenGilchristGladesGulfHamiltonHardeeHendryHernandoHighlandsHillsboroughHolmesIndian_RiverJacksonJeffersonLafayetteLakeLeeLeonLevyLibertyMadisonManateeMarionMartinMiami-DadeMonroeNassauOkaloosaOkeechobeeOrangeOsceolaPalm_BeachPascoPinellasPolkPutnamSt._JohnsSt._LucieSanta_RosaSarasotaSeminoleSumterSuwanneeTaylorUnionVolusiaWakullaWaltonWashingtonApplingAtkinsonBaconBakerBaldwinBanksBarrowBartowBen_HillBerrienBibbBleckleyBrantleyBrooksBryanBullochBurkeButtsCalhounCamdenCandlerCarrollCatoosaCharltonChathamChattahoocheeChattoogaCherokeeClarkeClayClaytonClinchCobbCoffeeColquittColumbiaCookCowetaCrawfordCrispDadeDawsonDecaturDeKalbDodgeDoolyDoughertyDouglasEarlyEcholsEffinghamElbertEmanuelEvansFanninFayetteFloydForsythFranklinFultonGilmerGlascockGlynnGordonGradyGreeneGwinnettHabershamHallHancockHaralsonHarrisHartHeardHenryHoustonIrwinJacksonJasperJeff_DavisJeffersonJenkinsJohnsonJonesLamarLanierLaurensLeeLibertyLincolnLongLowndesLumpkinMcDuffieMcIntoshMaconMadisonMarionMeriwetherMillerMitchellMonroeMontgomeryMorganMurrayMuscogeeNewtonOconeeOglethorpePauldingPeachPickensPiercePikePolkPulaskiPutnamQuitmanRabunRandolphRichmondRockdaleSchleyScrevenSeminoleSpaldingStephensStewartSumterTalbotTattnallTaylorTelfairTerrellThomasTiftToombsTownsTreutlenTroupTurnerTwiggsUnionUpsonWalkerWaltonWareWarrenWashingtonWayneWebsterWheelerWhiteWhitfieldWilcoxWilkesWilkinsonWorthHawaiiHonoluluKauaiMauiAdaAdamsBannockBear_LakeBenewahBinghamBlaineBoiseBonnerBonnevilleBoundaryButteCanyonCaribouCassiaClearwaterCusterElmoreFranklinFremontGemGoodingIdahoJeffersonJeromeKootenaiLatahLemhiLewisLincolnMadisonMinidokaNez_PerceOneidaOwyheePayettePowerShoshoneTetonTwin_FallsValleyWashingtonAdamsAlexanderBondBooneBrownBureauCalhounCarrollCassChampaignChristianClarkClayClintonColesCookCrawfordCumberlandDeKalbDe_WittDouglasDuPageEdgarEdwardsEffinghamFayetteFordFranklinFultonGallatinGreeneGrundyHamiltonHancockHardinHendersonHenryIroquoisJacksonJasperJeffersonJerseyJo_DaviessJohnsonKaneKankakeeKendallKnoxLakeLaSalleLawrenceLeeLivingstonLoganMcDonoughMcHenryMcLeanMaconMacoupinMadisonMarionMarshallMasonMassacMenardMercerMonroeMontgomeryMorganMoultrieOglePeoriaPerryPiattPikePopePulaskiPutnamRandolphRichlandRock_IslandSt._ClairSalineSangamonSchuylerScottShelbyStarkStephensonTazewellUnionVermilionWabashWarrenWashingtonWayneWhiteWhitesideWillWilliamsonWinnebagoWoodfordAdamsAllenBartholomewBentonBlackfordBooneBrownCarrollCassClarkClayClintonCrawfordDaviessDearbornDecaturDeKalbDelawareDuboisElkhartFayetteFloydFountainFranklinFultonGibsonGrantGreeneHamiltonHancockHarrisonHendricksHenryHowardHuntingtonJacksonJasperJayJeffersonJenningsJohnsonKnoxKosciuskoLaGrangeLakeLaPorteLawrenceMadisonMarionMarshallMartinMiamiMonroeMontgomeryMorganNewtonNobleOhioOrangeOwenParkePerryPikePorterPoseyPulaskiPutnamRandolphRipleyRushSt._JosephScottShelbySpencerStarkeSteubenSullivanSwitzerlandTippecanoeTiptonUnionVanderburghVermillionVigoWabashWarrenWarrickWashingtonWayneWellsWhiteWhitleyAdairAdamsAllamakeeAppanooseAudubonBentonBlack_HawkBooneBremerBuchananBuena_VistaButlerCalhounCarrollCassCedarCerro_GordoCherokeeChickasawClarkeClayClaytonClintonCrawfordDallasDavisDecaturDelawareDes_MoinesDickinsonDubuqueEmmetFayetteFloydFranklinFremontGreeneGrundyGuthrieHamiltonHancockHardinHarrisonHenryHowardHumboldtIdaIowaJacksonJasperJeffersonJohnsonJonesKeokukKossuthLeeLinnLouisaLucasLyonMadisonMahaskaMarionMarshallMillsMitchellMononaMonroeMontgomeryMuscatineO'BrienOsceolaPagePalo_AltoPlymouthPocahontasPolkPottawattamiePoweshiekRinggoldSacScottShelbySiouxStoryTamaTaylorUnionVan_BurenWapelloWarrenWashingtonWayneWebsterWinnebagoWinneshiekWoodburyWorthWrightAllenAndersonAtchisonBarberBartonBourbonBrownButlerChaseChautauquaCherokeeCheyenneClarkClayCloudCoffeyComancheCowleyCrawfordDecaturDickinsonDoniphanDouglasEdwardsElkEllisEllsworthFinneyFordFranklinGearyGoveGrahamGrantGrayGreenwoodHamiltonHarperHarveyHaskellHodgemanJacksonJeffersonJewellJohnsonKearnyKingmanKiowaLabetteLeavenworthLincolnLinnLoganLyonMcPhersonMarionMarshallMeadeMiamiMitchellMontgomeryMorrisMortonNemahaNeoshoNessNortonOsageOsborneOttawaPawneePhillipsPottawatomiePrattRawlinsRenoRepublicRiceRileyRooksRushRussellSalineScottSedgwickSewardShawneeSheridanShermanSmithStaffordStantonStevensSumnerThomasTregoWabaunseeWashingtonWichitaWilsonWoodsonWyandotteAdairAllenAndersonBallardBarrenBathBellBooneBourbonBoydBoyleBrackenBreathittBreckinridgeBullittButlerCaldwellCallowayCampbellCarlisleCarrollCarterCaseyChristianClarkClayClintonCrittendenCumberlandDaviessEdmonsonElliottEstillFayetteFlemingFloydFranklinFultonGallatinGarrardGrantGravesGraysonGreenGreenupHancockHardinHarlanHarrisonHartHendersonHenryHickmanHopkinsJacksonJeffersonJessamineJohnsonKentonKnottKnoxLarueLaurelLawrenceLeeLeslieLetcherLewisLincolnLivingstonLoganLyonMcCrackenMcCrearyMcLeanMadisonMagoffinMarionMarshallMartinMasonMeadeMenifeeMercerMetcalfeMonroeMontgomeryMorganMuhlenbergNelsonNicholasOhioOldhamOwenOwsleyPendletonPerryPikePowellPulaskiRobertsonRockcastleRowanRussellScottShelbySimpsonSpencerTaylorToddTriggTrimbleUnionWarrenWashingtonWayneWebsterWhitleyWolfeWoodfordAcadiaAllenAscensionAssumptionAvoyellesBeauregardBienvilleBossierCaddoCalcasieuCaldwellCameronCatahoulaClaiborneConcordiaDe_SotoEast_Baton_RougeEast_CarrollEast_FelicianaEvangelineFranklinGrantIberiaIbervilleJacksonJeffersonJefferson_DavisLafayetteLafourcheLa_SalleLincolnLivingstonMadisonMorehouseNatchitochesOrleansOuachitaPlaqueminesPointe_CoupeeRapidesRed_RiverRichlandSabineSt._BernardSt._CharlesSt._HelenaSt._JamesSt._John_the_BaptistSt._LandrySt._MartinSt._MarySt._TammanyTangipahoaTensasTerrebonneUnionVermilionVernonWashingtonWebsterWest_Baton_RougeWest_CarrollWest_FelicianaWinnAndroscogginAroostookCumberlandFranklinHancockKennebecKnoxLincolnOxfordPenobscotPiscataquisSagadahocSomersetWaldoWashingtonYorkAlleganyAnne_ArundelBaltimoreCalvertCarolineCarrollCecilCharlesDorchesterFrederickGarrettHarfordHowardKentMontgomeryPrince_George'sQueen_Anne'sSt._Mary'sSomersetTalbotWashingtonWicomicoWorcesterBaltimore_CityBarnstableBerkshireBristolDukesEssexFranklinHampdenHampshireMiddlesexNantucketNorfolkPlymouthSuffolkWorcesterAlconaAlgerAlleganAlpenaAntrimArenacBaragaBarryBayBenzieBerrienBranchCalhounCassCharlevoixCheboyganChippewaClareClintonCrawfordDeltaDickinsonEatonEmmetGeneseeGladwinGogebicGrand_TraverseGratiotHillsdaleHoughtonHuronInghamIoniaIoscoIronIsabellaJacksonKalamazooKalkaskaKentKeweenawLakeLapeerLeelanauLenaweeLivingstonLuceMackinacMacombManisteeMarquetteMasonMecostaMenomineeMidlandMissaukeeMonroeMontcalmMontmorencyMuskegonNewaygoOaklandOceanaOgemawOntonagonOsceolaOscodaOtsegoOttawaPresque_IsleRoscommonSaginawSt._ClairSt._JosephSanilacSchoolcraftShiawasseeTuscolaVan_BurenWashtenawWayneWexfordAitkinAnokaBeckerBeltramiBentonBig_StoneBlue_EarthBrownCarltonCarverCassChippewaChisagoClayClearwaterCookCottonwoodCrow_WingDakotaDodgeDouglasFaribaultFillmoreFreebornGoodhueGrantHennepinHoustonHubbardIsantiItascaJacksonKanabecKandiyohiKittsonKoochichingLac_qui_ParleLakeLake_of_the_WoodsLe_SueurLincolnLyonMcLeodMahnomenMarshallMartinMeekerMille_LacsMorrisonMowerMurrayNicolletNoblesNormanOlmstedOtter_TailPenningtonPinePipestonePolkPopeRamseyRed_LakeRedwoodRenvilleRiceRockRoseauSt._LouisScottSherburneSibleyStearnsSteeleStevensSwiftToddTraverseWabashaWadenaWasecaWashingtonWatonwanWilkinWinonaWrightYellow_MedicineAdamsAlcornAmiteAttalaBentonBolivarCalhounCarrollChickasawChoctawClaiborneClarkeClayCoahomaCopiahCovingtonDeSotoForrestFranklinGeorgeGreeneGrenadaHancockHarrisonHindsHolmesHumphreysItawambaJacksonJasperJeffersonJefferson_DavisJonesKemperLafayetteLamarLauderdaleLawrenceLeakeLeeLefloreLincolnLowndesMadisonMarionMarshallMonroeMontgomeryNeshobaNewtonNoxubeeOktibbehaPanolaPearl_RiverPerryPikePontotocPrentissQuitmanRankinScottSharkeySimpsonSmithStoneSunflowerTallahatchieTateTippahTishomingoTunicaUnionWalthallWarrenWashingtonWayneWebsterWilkinsonWinstonYalobushaYazooAdairAndrewAtchisonAudrainBarryBartonBatesBentonBollingerBooneBuchananButlerCaldwellCallawayCamdenCape_GirardeauCarrollCarterCassCedarCharitonChristianClarkClayClintonColeCooperCrawfordDadeDallasDaviessDeKalbDentDouglasDunklinFranklinGasconadeGentryGreeneGrundyHarrisonHenryHickoryHoltHowardHowellIronJacksonJasperJeffersonJohnsonKnoxLacledeLafayetteLawrenceLewisLincolnLinnLivingstonMcDonaldMaconMadisonMariesMarionMercerMillerMississippiMoniteauMonroeMontgomeryMorganNew_MadridNewtonNodawayOregonOsageOzarkPemiscotPerryPettisPhelpsPikePlattePolkPulaskiPutnamRallsRandolphRayReynoldsRipleySt._CharlesSt._ClairSte._GenevieveSt._FrancoisSt._LouisSalineSchuylerScotlandScottShannonShelbyStoddardStoneSullivanTaneyTexasVernonWarrenWashingtonWayneWebsterWorthWrightSt._Louis_CityBeaverheadBig_HornBlaineBroadwaterCarbonCascadeChouteauCusterDanielsDawsonDeer_LodgeFallonFergusFlatheadGallatinGlacierGraniteHillJeffersonJudith_BasinLakeLewis_and_ClarkLibertyLincolnMcConeMadisonMeagherMineralMissoulaMusselshellParkPhillipsPonderaPowder_RiverPowellRavalliRichlandRooseveltRosebudSandersSheridanSilver_BowStillwaterSweet_GrassTetonTooleValleyWheatlandYellowstoneAdamsAntelopeBooneBox_ButteBoydBrownBuffaloBurtButlerCassCedarChaseCherryCheyenneClayColfaxCumingCusterDakotaDawesDawsonDeuelDixonDodgeDouglasDundyFillmoreFranklinFrontierFurnasGageGardenGarfieldGosperGreeleyHallHamiltonHarlanHitchcockHoltHowardJeffersonJohnsonKearneyKeithKimballKnoxLancasterLincolnMadisonMerrickMorrillNanceNemahaNuckollsOtoePawneePerkinsPhelpsPiercePlattePolkRed_WillowRichardsonSalineSarpySaundersScotts_BluffSewardSheridanShermanStantonThayerThurstonValleyWashingtonWayneWebsterYorkChurchillClarkDouglasElkoEurekaHumboldtLanderLincolnLyonMineralNyePershingStoreyWashoeWhite_PineCarson_CityBelknapCarrollCheshireCoosGraftonHillsboroughMerrimackRockinghamStraffordSullivanAtlanticBergenBurlingtonCamdenCape_MayCumberlandEssexGloucesterHudsonHunterdonMercerMiddlesexMonmouthMorrisOceanPassaicSalemSomersetSussexUnionWarrenBernalilloCatronChavesCibolaColfaxCurryDe_BacaDona_AnaEddyGrantGuadalupeHidalgoLeaLincolnLos_AlamosLunaMcKinleyMoraOteroQuayRio_ArribaRooseveltSandovalSan_JuanSan_MiguelSanta_FeSierraSocorroTaosTorranceUnionValenciaAlbanyAlleganyBronxBroomeCattaraugusCayugaChautauquaChemungChenangoClintonColumbiaCortlandDelawareDutchessErieEssexFranklinFultonGeneseeGreeneHamiltonHerkimerJeffersonKingsLewisLivingstonMadisonMonroeMontgomeryNassauNew_YorkNiagaraOneidaOnondagaOntarioOrangeOrleansOswegoOtsegoPutnamQueensRensselaerRichmondRocklandSt._LawrenceSaratogaSchenectadySchoharieSchuylerSenecaSteubenSuffolkSullivanTiogaTompkinsUlsterWarrenWashingtonWayneWestchesterWyomingYatesAlamanceAlexanderAlleghanyAnsonAsheAveryBeaufortBertieBladenBrunswickBuncombeBurkeCabarrusCaldwellCamdenCarteretCaswellCatawbaChathamCherokeeChowanClayClevelandColumbusCravenCumberlandCurrituckDareDavidsonDavieDuplinDurhamEdgecombeForsythFranklinGastonGatesGrahamGranvilleGreeneGuilfordHalifaxHarnettHaywoodHendersonHertfordHokeHydeIredellJacksonJohnstonJonesLeeLenoirLincolnMcDowellMaconMadisonMartinMecklenburgMitchellMontgomeryMooreNashNew_HanoverNorthamptonOnslowOrangePamlicoPasquotankPenderPerquimansPersonPittPolkRandolphRichmondRobesonRockinghamRowanRutherfordSampsonScotlandStanlyStokesSurrySwainTransylvaniaTyrrellUnionVanceWakeWarrenWashingtonWataugaWayneWilkesWilsonYadkinYanceyAdamsBarnesBensonBottineauBowmanBurkeBurleighCassCavalierDickeyDivideDunnEddyEmmonsFosterGolden_ValleyGrand_ForksGrantGriggsHettingerKidderLaMoureLoganMcHenryMcIntoshMcKenzieMcLeanMercerMortonMountrailNelsonOliverPembinaPierceRamseyRansomRenvilleRichlandRoletteSargentSiouxStarkSteeleStutsmanTownerTraillWalshWardWellsWilliamsAdamsAllenAshlandAshtabulaAthensAuglaizeBelmontBrownButlerCarrollChampaignClarkClermontClintonColumbianaCoshoctonCrawfordCuyahogaDarkeDefianceDelawareErieFairfieldFayetteFranklinFultonGalliaGeaugaGreeneGuernseyHamiltonHancockHardinHarrisonHenryHighlandHockingHolmesHuronJacksonJeffersonKnoxLakeLawrenceLickingLoganLorainLucasMadisonMahoningMarionMedinaMeigsMercerMiamiMonroeMontgomeryMorganMorrowMuskingumNobleOttawaPauldingPerryPickawayPikePortagePreblePutnamRichlandRossSanduskySciotoSenecaShelbyStarkSummitTrumbullTuscarawasUnionVan_WertVintonWarrenWashingtonWayneWilliamsWoodWyandotAdairAlfalfaAtokaBeaverBeckhamBlaineBryanCaddoCanadianCarterCherokeeChoctawCimarronClevelandCoalComancheCottonCraigCreekCusterDelawareDeweyEllisGarfieldGarvinGradyGrantGreerHarmonHarperHaskellHughesJacksonJeffersonJohnstonKayKingfisherKiowaLatimerLe_FloreLincolnLoganLoveMcClainMcCurtainMcIntoshMajorMarshallMayesMurrayMuskogeeNobleNowataOkfuskeeOklahomaOkmulgeeOsageOttawaPawneePaynePittsburgPontotocPottawatomiePushmatahaRoger_MillsRogersSeminoleSequoyahStephensTexasTillmanTulsaWagonerWashingtonWashitaWoodsWoodwardBakerBentonClackamasClatsopColumbiaCoosCrookCurryDeschutesDouglasGilliamGrantHarneyHood_RiverJacksonJeffersonJosephineKlamathLakeLaneLincolnLinnMalheurMarionMorrowMultnomahPolkShermanTillamookUmatillaUnionWallowaWascoWashingtonYamhillAdamsAlleghenyArmstrongBeaverBedfordBerksBlairBradfordBucksButlerCambriaCameronCarbonCentreChesterClarionClearfieldClintonColumbiaCrawfordCumberlandDauphinDelawareElkErieFayetteForestFranklinFultonGreeneHuntingdonIndianaJeffersonJuniataLackawannaLancasterLawrenceLebanonLehighLuzerneLycomingMcKeanMercerMifflinMonroeMontgomeryMontourNorthamptonNorthumberlandPerryPhiladelphiaPikePotterSchuylkillSnyderSomersetSullivanSusquehannaTiogaUnionVenangoWarrenWashingtonWayneWestmorelandWyomingYorkBristolKentNewportProvidenceWashingtonAbbevilleAikenAllendaleAndersonBambergBarnwellBeaufortBerkeleyCalhounCharlestonCherokeeChesterChesterfieldClarendonColletonDarlingtonDillonDorchesterEdgefieldFairfieldFlorenceGeorgetownGreenvilleGreenwoodHamptonHorryJasperKershawLancasterLaurensLeeLexingtonMcCormickMarionMarlboroNewberryOconeeOrangeburgPickensRichlandSaludaSpartanburgSumterUnionWilliamsburgYorkAuroraBeadleBennettBon_HommeBrookingsBrownBruleBuffaloButteCharles_MixClarkClayCodingtonCorsonCusterDavisonDayDeuelDeweyDouglasEdmundsFall_RiverFaulkGrantGregoryHaakonHamlinHandHansonHughesHutchinsonJacksonJerauldKingsburyLakeLawrenceLincolnLymanMcCookMcPhersonMarshallMeadeMelletteMinerMinnehahaMoodyOglala_LakotaPenningtonPerkinsPotterRobertsSanbornSpinkStanleyToddTrippTurnerUnionWalworthYanktonZiebachAndersonBedfordBentonBledsoeBlountBradleyCampbellCannonCarrollCarterCheathamChesterClaiborneClayCockeCoffeeCrockettCumberlandDavidsonDecaturDeKalbDicksonDyerFayetteFentressFranklinGibsonGilesGraingerGreeneGrundyHamblenHamiltonHancockHardemanHardinHawkinsHaywoodHendersonHenryHickmanHoustonHumphreysJacksonJeffersonJohnsonKnoxLakeLauderdaleLawrenceLewisLincolnLoudonMcMinnMcNairyMaconMadisonMarionMarshallMauryMeigsMonroeMontgomeryMooreMorganObionOvertonPerryPickettPolkPutnamRheaRoaneRobertsonRutherfordScottSequatchieSevierShelbySmithStewartSullivanSumnerTiptonTrousdaleUnicoiUnionVan_BurenWarrenWashingtonWayneWeakleyWhiteWilliamsonWilsonAndersonAndrewsAngelinaAransasArcherArmstrongAtascosaAustinBaileyBanderaBastropBaylorBeeBellBexarBlancoBosqueBowieBrazoriaBrazosBrewsterBrooksBrownBurlesonBurnetCaldwellCalhounCallahanCameronCampCarsonCassCastroChambersCherokeeChildressClayCochranCokeColemanCollinCollingsworthColoradoComalComancheConchoCookeCoryellCraneCrockettCrosbyCulbersonDallamDallasDawsonDeaf_SmithDeltaDentonDeWittDickensDimmitDonleyDuvalEastlandEctorEdwardsEllisEl_PasoErathFallsFanninFayetteFisherFloydFort_BendFranklinFreestoneFrioGainesGalvestonGarzaGillespieGoliadGonzalesGrayGraysonGreggGrimesGuadalupeHaleHallHamiltonHansfordHardemanHardinHarrisHarrisonHartleyHaskellHaysHemphillHendersonHidalgoHillHockleyHoodHopkinsHoustonHowardHudspethHuntHutchinsonJackJacksonJasperJeff_DavisJeffersonJim_HoggJim_WellsJohnsonJonesKarnesKaufmanKendallKerrKimbleKinneyKlebergKnoxLamarLambLampasasLa_SalleLavacaLeeLeonLibertyLimestoneLipscombLive_OakLlanoLubbockLynnMcCullochMcLennanMadisonMarionMartinMasonMatagordaMaverickMedinaMenardMidlandMilamMillsMitchellMontagueMontgomeryMooreMorrisNacogdochesNavarroNewtonNolanNuecesOchiltreeOldhamOrangePalo_PintoPanolaParkerParmerPecosPolkPotterPresidioRainsRandallReaganRealRed_RiverReevesRefugioRobertsonRockwallRunnelsRuskSabineSan_AugustineSan_JacintoSan_PatricioSan_SabaSchleicherScurryShackelfordShelbyShermanSmithSomervellStarrStephensSuttonSwisherTarrantTaylorTerryTitusTom_GreenTravisTrinityTylerUpshurUptonUvaldeVal_VerdeVan_ZandtVictoriaWalkerWallerWardWashingtonWebbWhartonWheelerWichitaWilbargerWillacyWilliamsonWilsonWinklerWiseWoodYoakumYoungZapataZavalaBeaverBox_ElderCacheCarbonDavisDuchesneEmeryGarfieldGrandIronJuabKaneMillardMorganRichSalt_LakeSan_JuanSanpeteSevierSummitTooeleUintahUtahWasatchWashingtonWayneWeberAddisonBenningtonCaledoniaChittendenEssexFranklinGrand_IsleLamoilleOrangeOrleansRutlandWashingtonWindhamWindsorAccomackAlbemarleAlleghanyAmeliaAmherstAppomattoxArlingtonAugustaBathBedfordBlandBotetourtBrunswickBuchananBuckinghamCampbellCarolineCarrollCharles_CityCharlotteChesterfieldClarkeCraigCulpeperCumberlandDickensonDinwiddieEssexFairfaxFauquierFloydFluvannaFranklinFrederickGilesGloucesterGoochlandGraysonGreeneGreensvilleHalifaxHanoverHenricoHenryHighlandIsle_of_WightJames_CityKing_and_QueenKing_GeorgeKing_WilliamLancasterLeeLoudounLouisaLunenburgMadisonMathewsMecklenburgMiddlesexMontgomeryNelsonNew_KentNorthamptonNorthumberlandNottowayOrangePagePatrickPittsylvaniaPowhatanPrince_EdwardPrince_GeorgePrince_WilliamPulaskiRappahannockRichmondRoanokeRockbridgeRockinghamRussellScottShenandoahSmythSouthamptonSpotsylvaniaStaffordSurrySussexTazewellWarrenWashingtonWestmorelandWiseWytheYorkAlexandria_CityBristol_CityBuena_Vista_CityCharlottesville_CityChesapeake_CityColonial_Heights_CityCovington_CityDanville_CityEmporia_CityFairfax_CityFalls_Church_CityFranklin_CityFredericksburg_CityGalax_CityHampton_CityHarrisonburg_CityHopewell_CityLexington_CityLynchburg_CityManassas_CityManassas_Park_CityMartinsville_CityNewport_News_CityNorfolk_CityNorton_CityPetersburg_CityPoquoson_CityPortsmouth_CityRadford_CityRichmond_CityRoanoke_CitySalem_CityStaunton_CitySuffolk_CityVirginia_Beach_CityWaynesboro_CityWilliamsburg_CityWinchester_CityAdamsAsotinBentonChelanClallamClarkColumbiaCowlitzDouglasFerryFranklinGarfieldGrantGrays_HarborIslandJeffersonKingKitsapKittitasKlickitatLewisLincolnMasonOkanoganPacificPend_OreillePierceSan_JuanSkagitSkamaniaSnohomishSpokaneStevensThurstonWahkiakumWalla_WallaWhatcomWhitmanYakimaBarbourBerkeleyBooneBraxtonBrookeCabellCalhounClayDoddridgeFayetteGilmerGrantGreenbrierHampshireHancockHardyHarrisonJacksonJeffersonKanawhaLewisLincolnLoganMcDowellMarionMarshallMasonMercerMineralMingoMonongaliaMonroeMorganNicholasOhioPendletonPleasantsPocahontasPrestonPutnamRaleighRandolphRitchieRoaneSummersTaylorTuckerTylerUpshurWayneWebsterWetzelWirtWoodWyomingAdamsAshlandBarronBayfieldBrownBuffaloBurnettCalumetChippewaClarkColumbiaCrawfordDaneDodgeDoorDouglasDunnEau_ClaireFlorenceFond_du_LacForestGrantGreenGreen_LakeIowaIronJacksonJeffersonJuneauKenoshaKewauneeLa_CrosseLafayetteLangladeLincolnManitowocMarathonMarinetteMarquetteMenomineeMilwaukeeMonroeOcontoOneidaOutagamieOzaukeePepinPiercePolkPortagePriceRacineRichlandRockRuskSt._CroixSaukSawyerShawanoSheboyganTaylorTrempealeauVernonVilasWalworthWashburnWashingtonWaukeshaWaupacaWausharaWinnebagoWoodAlbanyBig_HornCampbellCarbonConverseCrookFremontGoshenHot_SpringsJohnsonLaramieLincolnNatronaNiobraraParkPlatteSheridanSubletteSweetwaterTetonUintaWashakieWeston to numeric",
      "\nDuring handling of the above exception, another exception occurred:\n",
      "\u001b[0;31mValueError\u001b[0m                                Traceback (most recent call last)",
      "\u001b[0;32m~/anaconda3/lib/python3.7/site-packages/pandas/core/nanops.py\u001b[0m in \u001b[0;36m_ensure_numeric\u001b[0;34m(x)\u001b[0m\n\u001b[1;32m   1163\u001b[0m         \u001b[0;32mtry\u001b[0m\u001b[0;34m:\u001b[0m\u001b[0;34m\u001b[0m\u001b[0;34m\u001b[0m\u001b[0m\n\u001b[0;32m-> 1164\u001b[0;31m             \u001b[0mx\u001b[0m \u001b[0;34m=\u001b[0m \u001b[0mfloat\u001b[0m\u001b[0;34m(\u001b[0m\u001b[0mx\u001b[0m\u001b[0;34m)\u001b[0m\u001b[0;34m\u001b[0m\u001b[0;34m\u001b[0m\u001b[0m\n\u001b[0m\u001b[1;32m   1165\u001b[0m         \u001b[0;32mexcept\u001b[0m \u001b[0mException\u001b[0m\u001b[0;34m:\u001b[0m\u001b[0;34m\u001b[0m\u001b[0;34m\u001b[0m\u001b[0m\n",
      "\u001b[0;31mValueError\u001b[0m: could not convert string to float: \"AutaugaBaldwinBarbourBibbBlountBullockButlerCalhounChambersCherokeeChiltonChoctawClarkeClayCleburneCoffeeColbertConecuhCoosaCovingtonCrenshawCullmanDaleDallasDeKalbElmoreEscambiaEtowahFayetteFranklinGenevaGreeneHaleHenryHoustonJacksonJeffersonLamarLauderdaleLawrenceLeeLimestoneLowndesMaconMadisonMarengoMarionMarshallMobileMonroeMontgomeryMorganPerryPickensPikeRandolphRussellSt._ClairShelbySumterTalladegaTallapoosaTuscaloosaWalkerWashingtonWilcoxWinstonAleutians_EastAleutians_WestAnchorageBethelDenaliDillinghamFairbanks_North_StarHainesHoonah-AngoonJuneauKenai_PeninsulaKetchikan_GatewayKodiak_IslandKusilvakMatanuska-SusitnaNomeNorth_SlopeNorthwest_ArcticPetersburgPrince_of_Wales-HyderSitkaSoutheast_FairbanksValdez-CordovaWrangellYukon-KoyukukApacheCochiseCoconinoGilaGrahamGreenleeLa_PazMaricopaMohaveNavajoPimaPinalSanta_CruzYavapaiYumaArkansasAshleyBaxterBentonBooneBradleyCalhounCarrollChicotClarkClayCleburneClevelandColumbiaConwayCraigheadCrawfordCrittendenCrossDallasDeshaDrewFaulknerFranklinFultonGarlandGrantGreeneHempsteadHot_SpringHowardIndependenceIzardJacksonJeffersonJohnsonLafayetteLawrenceLeeLincolnLittle_RiverLoganLonokeMadisonMarionMillerMississippiMonroeMontgomeryNevadaNewtonOuachitaPerryPhillipsPikePoinsettPolkPopePrairiePulaskiRandolphSt._FrancisSalineScottSearcySebastianSevierSharpStoneUnionVan_BurenWashingtonWhiteWoodruffYellAlamedaAmadorButteCalaverasColusaContra_CostaDel_NorteEl_DoradoFresnoGlennHumboldtImperialInyoKernKingsLakeLassenLos_AngelesMaderaMarinMariposaMendocinoMercedModocMonoMontereyNapaNevadaOrangePlacerPlumasRiversideSacramentoSan_BenitoSan_BernardinoSan_DiegoSan_FranciscoSan_JoaquinSan_Luis_ObispoSan_MateoSanta_BarbaraSanta_ClaraSanta_CruzShastaSierraSiskiyouSolanoSonomaStanislausSutterTehamaTrinityTulareTuolumneVenturaYoloYubaAdamsAlamosaArapahoeArchuletaBacaBentBoulderBroomfieldChaffeeCheyenneClear_CreekConejosCostillaCrowleyCusterDeltaDenverDoloresDouglasEagleElbertEl_PasoFremontGarfieldGilpinGrandGunnisonHuerfanoJeffersonKit_CarsonLakeLa_PlataLarimerLas_AnimasLincolnLoganMesaMoffatMontezumaMontroseMorganOteroOurayParkPhillipsPitkinProwersPuebloRio_BlancoRio_GrandeRouttSaguacheSan_MiguelSedgwickSummitTellerWashingtonWeldYumaFairfieldHartfordLitchfieldMiddlesexNew_HavenNew_LondonTollandWindhamKentNew_CastleSussexDistrict_of_ColumbiaAlachuaBakerBayBradfordBrevardBrowardCalhounCharlotteCitrusClayCollierColumbiaDeSotoDixieDuvalEscambiaFlaglerFranklinGadsdenGilchristGladesGulfHamiltonHardeeHendryHernandoHighlandsHillsboroughHolmesIndian_RiverJacksonJeffersonLafayetteLakeLeeLeonLevyLibertyMadisonManateeMarionMartinMiami-DadeMonroeNassauOkaloosaOkeechobeeOrangeOsceolaPalm_BeachPascoPinellasPolkPutnamSt._JohnsSt._LucieSanta_RosaSarasotaSeminoleSumterSuwanneeTaylorUnionVolusiaWakullaWaltonWashingtonApplingAtkinsonBaconBakerBaldwinBanksBarrowBartowBen_HillBerrienBibbBleckleyBrantleyBrooksBryanBullochBurkeButtsCalhounCamdenCandlerCarrollCatoosaCharltonChathamChattahoocheeChattoogaCherokeeClarkeClayClaytonClinchCobbCoffeeColquittColumbiaCookCowetaCrawfordCrispDadeDawsonDecaturDeKalbDodgeDoolyDoughertyDouglasEarlyEcholsEffinghamElbertEmanuelEvansFanninFayetteFloydForsythFranklinFultonGilmerGlascockGlynnGordonGradyGreeneGwinnettHabershamHallHancockHaralsonHarrisHartHeardHenryHoustonIrwinJacksonJasperJeff_DavisJeffersonJenkinsJohnsonJonesLamarLanierLaurensLeeLibertyLincolnLongLowndesLumpkinMcDuffieMcIntoshMaconMadisonMarionMeriwetherMillerMitchellMonroeMontgomeryMorganMurrayMuscogeeNewtonOconeeOglethorpePauldingPeachPickensPiercePikePolkPulaskiPutnamQuitmanRabunRandolphRichmondRockdaleSchleyScrevenSeminoleSpaldingStephensStewartSumterTalbotTattnallTaylorTelfairTerrellThomasTiftToombsTownsTreutlenTroupTurnerTwiggsUnionUpsonWalkerWaltonWareWarrenWashingtonWayneWebsterWheelerWhiteWhitfieldWilcoxWilkesWilkinsonWorthHawaiiHonoluluKauaiMauiAdaAdamsBannockBear_LakeBenewahBinghamBlaineBoiseBonnerBonnevilleBoundaryButteCanyonCaribouCassiaClearwaterCusterElmoreFranklinFremontGemGoodingIdahoJeffersonJeromeKootenaiLatahLemhiLewisLincolnMadisonMinidokaNez_PerceOneidaOwyheePayettePowerShoshoneTetonTwin_FallsValleyWashingtonAdamsAlexanderBondBooneBrownBureauCalhounCarrollCassChampaignChristianClarkClayClintonColesCookCrawfordCumberlandDeKalbDe_WittDouglasDuPageEdgarEdwardsEffinghamFayetteFordFranklinFultonGallatinGreeneGrundyHamiltonHancockHardinHendersonHenryIroquoisJacksonJasperJeffersonJerseyJo_DaviessJohnsonKaneKankakeeKendallKnoxLakeLaSalleLawrenceLeeLivingstonLoganMcDonoughMcHenryMcLeanMaconMacoupinMadisonMarionMarshallMasonMassacMenardMercerMonroeMontgomeryMorganMoultrieOglePeoriaPerryPiattPikePopePulaskiPutnamRandolphRichlandRock_IslandSt._ClairSalineSangamonSchuylerScottShelbyStarkStephensonTazewellUnionVermilionWabashWarrenWashingtonWayneWhiteWhitesideWillWilliamsonWinnebagoWoodfordAdamsAllenBartholomewBentonBlackfordBooneBrownCarrollCassClarkClayClintonCrawfordDaviessDearbornDecaturDeKalbDelawareDuboisElkhartFayetteFloydFountainFranklinFultonGibsonGrantGreeneHamiltonHancockHarrisonHendricksHenryHowardHuntingtonJacksonJasperJayJeffersonJenningsJohnsonKnoxKosciuskoLaGrangeLakeLaPorteLawrenceMadisonMarionMarshallMartinMiamiMonroeMontgomeryMorganNewtonNobleOhioOrangeOwenParkePerryPikePorterPoseyPulaskiPutnamRandolphRipleyRushSt._JosephScottShelbySpencerStarkeSteubenSullivanSwitzerlandTippecanoeTiptonUnionVanderburghVermillionVigoWabashWarrenWarrickWashingtonWayneWellsWhiteWhitleyAdairAdamsAllamakeeAppanooseAudubonBentonBlack_HawkBooneBremerBuchananBuena_VistaButlerCalhounCarrollCassCedarCerro_GordoCherokeeChickasawClarkeClayClaytonClintonCrawfordDallasDavisDecaturDelawareDes_MoinesDickinsonDubuqueEmmetFayetteFloydFranklinFremontGreeneGrundyGuthrieHamiltonHancockHardinHarrisonHenryHowardHumboldtIdaIowaJacksonJasperJeffersonJohnsonJonesKeokukKossuthLeeLinnLouisaLucasLyonMadisonMahaskaMarionMarshallMillsMitchellMononaMonroeMontgomeryMuscatineO'BrienOsceolaPagePalo_AltoPlymouthPocahontasPolkPottawattamiePoweshiekRinggoldSacScottShelbySiouxStoryTamaTaylorUnionVan_BurenWapelloWarrenWashingtonWayneWebsterWinnebagoWinneshiekWoodburyWorthWrightAllenAndersonAtchisonBarberBartonBourbonBrownButlerChaseChautauquaCherokeeCheyenneClarkClayCloudCoffeyComancheCowleyCrawfordDecaturDickinsonDoniphanDouglasEdwardsElkEllisEllsworthFinneyFordFranklinGearyGoveGrahamGrantGrayGreenwoodHamiltonHarperHarveyHaskellHodgemanJacksonJeffersonJewellJohnsonKearnyKingmanKiowaLabetteLeavenworthLincolnLinnLoganLyonMcPhersonMarionMarshallMeadeMiamiMitchellMontgomeryMorrisMortonNemahaNeoshoNessNortonOsageOsborneOttawaPawneePhillipsPottawatomiePrattRawlinsRenoRepublicRiceRileyRooksRushRussellSalineScottSedgwickSewardShawneeSheridanShermanSmithStaffordStantonStevensSumnerThomasTregoWabaunseeWashingtonWichitaWilsonWoodsonWyandotteAdairAllenAndersonBallardBarrenBathBellBooneBourbonBoydBoyleBrackenBreathittBreckinridgeBullittButlerCaldwellCallowayCampbellCarlisleCarrollCarterCaseyChristianClarkClayClintonCrittendenCumberlandDaviessEdmonsonElliottEstillFayetteFlemingFloydFranklinFultonGallatinGarrardGrantGravesGraysonGreenGreenupHancockHardinHarlanHarrisonHartHendersonHenryHickmanHopkinsJacksonJeffersonJessamineJohnsonKentonKnottKnoxLarueLaurelLawrenceLeeLeslieLetcherLewisLincolnLivingstonLoganLyonMcCrackenMcCrearyMcLeanMadisonMagoffinMarionMarshallMartinMasonMeadeMenifeeMercerMetcalfeMonroeMontgomeryMorganMuhlenbergNelsonNicholasOhioOldhamOwenOwsleyPendletonPerryPikePowellPulaskiRobertsonRockcastleRowanRussellScottShelbySimpsonSpencerTaylorToddTriggTrimbleUnionWarrenWashingtonWayneWebsterWhitleyWolfeWoodfordAcadiaAllenAscensionAssumptionAvoyellesBeauregardBienvilleBossierCaddoCalcasieuCaldwellCameronCatahoulaClaiborneConcordiaDe_SotoEast_Baton_RougeEast_CarrollEast_FelicianaEvangelineFranklinGrantIberiaIbervilleJacksonJeffersonJefferson_DavisLafayetteLafourcheLa_SalleLincolnLivingstonMadisonMorehouseNatchitochesOrleansOuachitaPlaqueminesPointe_CoupeeRapidesRed_RiverRichlandSabineSt._BernardSt._CharlesSt._HelenaSt._JamesSt._John_the_BaptistSt._LandrySt._MartinSt._MarySt._TammanyTangipahoaTensasTerrebonneUnionVermilionVernonWashingtonWebsterWest_Baton_RougeWest_CarrollWest_FelicianaWinnAndroscogginAroostookCumberlandFranklinHancockKennebecKnoxLincolnOxfordPenobscotPiscataquisSagadahocSomersetWaldoWashingtonYorkAlleganyAnne_ArundelBaltimoreCalvertCarolineCarrollCecilCharlesDorchesterFrederickGarrettHarfordHowardKentMontgomeryPrince_George'sQueen_Anne'sSt._Mary'sSomersetTalbotWashingtonWicomicoWorcesterBaltimore_CityBarnstableBerkshireBristolDukesEssexFranklinHampdenHampshireMiddlesexNantucketNorfolkPlymouthSuffolkWorcesterAlconaAlgerAlleganAlpenaAntrimArenacBaragaBarryBayBenzieBerrienBranchCalhounCassCharlevoixCheboyganChippewaClareClintonCrawfordDeltaDickinsonEatonEmmetGeneseeGladwinGogebicGrand_TraverseGratiotHillsdaleHoughtonHuronInghamIoniaIoscoIronIsabellaJacksonKalamazooKalkaskaKentKeweenawLakeLapeerLeelanauLenaweeLivingstonLuceMackinacMacombManisteeMarquetteMasonMecostaMenomineeMidlandMissaukeeMonroeMontcalmMontmorencyMuskegonNewaygoOaklandOceanaOgemawOntonagonOsceolaOscodaOtsegoOttawaPresque_IsleRoscommonSaginawSt._ClairSt._JosephSanilacSchoolcraftShiawasseeTuscolaVan_BurenWashtenawWayneWexfordAitkinAnokaBeckerBeltramiBentonBig_StoneBlue_EarthBrownCarltonCarverCassChippewaChisagoClayClearwaterCookCottonwoodCrow_WingDakotaDodgeDouglasFaribaultFillmoreFreebornGoodhueGrantHennepinHoustonHubbardIsantiItascaJacksonKanabecKandiyohiKittsonKoochichingLac_qui_ParleLakeLake_of_the_WoodsLe_SueurLincolnLyonMcLeodMahnomenMarshallMartinMeekerMille_LacsMorrisonMowerMurrayNicolletNoblesNormanOlmstedOtter_TailPenningtonPinePipestonePolkPopeRamseyRed_LakeRedwoodRenvilleRiceRockRoseauSt._LouisScottSherburneSibleyStearnsSteeleStevensSwiftToddTraverseWabashaWadenaWasecaWashingtonWatonwanWilkinWinonaWrightYellow_MedicineAdamsAlcornAmiteAttalaBentonBolivarCalhounCarrollChickasawChoctawClaiborneClarkeClayCoahomaCopiahCovingtonDeSotoForrestFranklinGeorgeGreeneGrenadaHancockHarrisonHindsHolmesHumphreysItawambaJacksonJasperJeffersonJefferson_DavisJonesKemperLafayetteLamarLauderdaleLawrenceLeakeLeeLefloreLincolnLowndesMadisonMarionMarshallMonroeMontgomeryNeshobaNewtonNoxubeeOktibbehaPanolaPearl_RiverPerryPikePontotocPrentissQuitmanRankinScottSharkeySimpsonSmithStoneSunflowerTallahatchieTateTippahTishomingoTunicaUnionWalthallWarrenWashingtonWayneWebsterWilkinsonWinstonYalobushaYazooAdairAndrewAtchisonAudrainBarryBartonBatesBentonBollingerBooneBuchananButlerCaldwellCallawayCamdenCape_GirardeauCarrollCarterCassCedarCharitonChristianClarkClayClintonColeCooperCrawfordDadeDallasDaviessDeKalbDentDouglasDunklinFranklinGasconadeGentryGreeneGrundyHarrisonHenryHickoryHoltHowardHowellIronJacksonJasperJeffersonJohnsonKnoxLacledeLafayetteLawrenceLewisLincolnLinnLivingstonMcDonaldMaconMadisonMariesMarionMercerMillerMississippiMoniteauMonroeMontgomeryMorganNew_MadridNewtonNodawayOregonOsageOzarkPemiscotPerryPettisPhelpsPikePlattePolkPulaskiPutnamRallsRandolphRayReynoldsRipleySt._CharlesSt._ClairSte._GenevieveSt._FrancoisSt._LouisSalineSchuylerScotlandScottShannonShelbyStoddardStoneSullivanTaneyTexasVernonWarrenWashingtonWayneWebsterWorthWrightSt._Louis_CityBeaverheadBig_HornBlaineBroadwaterCarbonCascadeChouteauCusterDanielsDawsonDeer_LodgeFallonFergusFlatheadGallatinGlacierGraniteHillJeffersonJudith_BasinLakeLewis_and_ClarkLibertyLincolnMcConeMadisonMeagherMineralMissoulaMusselshellParkPhillipsPonderaPowder_RiverPowellRavalliRichlandRooseveltRosebudSandersSheridanSilver_BowStillwaterSweet_GrassTetonTooleValleyWheatlandYellowstoneAdamsAntelopeBooneBox_ButteBoydBrownBuffaloBurtButlerCassCedarChaseCherryCheyenneClayColfaxCumingCusterDakotaDawesDawsonDeuelDixonDodgeDouglasDundyFillmoreFranklinFrontierFurnasGageGardenGarfieldGosperGreeleyHallHamiltonHarlanHitchcockHoltHowardJeffersonJohnsonKearneyKeithKimballKnoxLancasterLincolnMadisonMerrickMorrillNanceNemahaNuckollsOtoePawneePerkinsPhelpsPiercePlattePolkRed_WillowRichardsonSalineSarpySaundersScotts_BluffSewardSheridanShermanStantonThayerThurstonValleyWashingtonWayneWebsterYorkChurchillClarkDouglasElkoEurekaHumboldtLanderLincolnLyonMineralNyePershingStoreyWashoeWhite_PineCarson_CityBelknapCarrollCheshireCoosGraftonHillsboroughMerrimackRockinghamStraffordSullivanAtlanticBergenBurlingtonCamdenCape_MayCumberlandEssexGloucesterHudsonHunterdonMercerMiddlesexMonmouthMorrisOceanPassaicSalemSomersetSussexUnionWarrenBernalilloCatronChavesCibolaColfaxCurryDe_BacaDona_AnaEddyGrantGuadalupeHidalgoLeaLincolnLos_AlamosLunaMcKinleyMoraOteroQuayRio_ArribaRooseveltSandovalSan_JuanSan_MiguelSanta_FeSierraSocorroTaosTorranceUnionValenciaAlbanyAlleganyBronxBroomeCattaraugusCayugaChautauquaChemungChenangoClintonColumbiaCortlandDelawareDutchessErieEssexFranklinFultonGeneseeGreeneHamiltonHerkimerJeffersonKingsLewisLivingstonMadisonMonroeMontgomeryNassauNew_YorkNiagaraOneidaOnondagaOntarioOrangeOrleansOswegoOtsegoPutnamQueensRensselaerRichmondRocklandSt._LawrenceSaratogaSchenectadySchoharieSchuylerSenecaSteubenSuffolkSullivanTiogaTompkinsUlsterWarrenWashingtonWayneWestchesterWyomingYatesAlamanceAlexanderAlleghanyAnsonAsheAveryBeaufortBertieBladenBrunswickBuncombeBurkeCabarrusCaldwellCamdenCarteretCaswellCatawbaChathamCherokeeChowanClayClevelandColumbusCravenCumberlandCurrituckDareDavidsonDavieDuplinDurhamEdgecombeForsythFranklinGastonGatesGrahamGranvilleGreeneGuilfordHalifaxHarnettHaywoodHendersonHertfordHokeHydeIredellJacksonJohnstonJonesLeeLenoirLincolnMcDowellMaconMadisonMartinMecklenburgMitchellMontgomeryMooreNashNew_HanoverNorthamptonOnslowOrangePamlicoPasquotankPenderPerquimansPersonPittPolkRandolphRichmondRobesonRockinghamRowanRutherfordSampsonScotlandStanlyStokesSurrySwainTransylvaniaTyrrellUnionVanceWakeWarrenWashingtonWataugaWayneWilkesWilsonYadkinYanceyAdamsBarnesBensonBottineauBowmanBurkeBurleighCassCavalierDickeyDivideDunnEddyEmmonsFosterGolden_ValleyGrand_ForksGrantGriggsHettingerKidderLaMoureLoganMcHenryMcIntoshMcKenzieMcLeanMercerMortonMountrailNelsonOliverPembinaPierceRamseyRansomRenvilleRichlandRoletteSargentSiouxStarkSteeleStutsmanTownerTraillWalshWardWellsWilliamsAdamsAllenAshlandAshtabulaAthensAuglaizeBelmontBrownButlerCarrollChampaignClarkClermontClintonColumbianaCoshoctonCrawfordCuyahogaDarkeDefianceDelawareErieFairfieldFayetteFranklinFultonGalliaGeaugaGreeneGuernseyHamiltonHancockHardinHarrisonHenryHighlandHockingHolmesHuronJacksonJeffersonKnoxLakeLawrenceLickingLoganLorainLucasMadisonMahoningMarionMedinaMeigsMercerMiamiMonroeMontgomeryMorganMorrowMuskingumNobleOttawaPauldingPerryPickawayPikePortagePreblePutnamRichlandRossSanduskySciotoSenecaShelbyStarkSummitTrumbullTuscarawasUnionVan_WertVintonWarrenWashingtonWayneWilliamsWoodWyandotAdairAlfalfaAtokaBeaverBeckhamBlaineBryanCaddoCanadianCarterCherokeeChoctawCimarronClevelandCoalComancheCottonCraigCreekCusterDelawareDeweyEllisGarfieldGarvinGradyGrantGreerHarmonHarperHaskellHughesJacksonJeffersonJohnstonKayKingfisherKiowaLatimerLe_FloreLincolnLoganLoveMcClainMcCurtainMcIntoshMajorMarshallMayesMurrayMuskogeeNobleNowataOkfuskeeOklahomaOkmulgeeOsageOttawaPawneePaynePittsburgPontotocPottawatomiePushmatahaRoger_MillsRogersSeminoleSequoyahStephensTexasTillmanTulsaWagonerWashingtonWashitaWoodsWoodwardBakerBentonClackamasClatsopColumbiaCoosCrookCurryDeschutesDouglasGilliamGrantHarneyHood_RiverJacksonJeffersonJosephineKlamathLakeLaneLincolnLinnMalheurMarionMorrowMultnomahPolkShermanTillamookUmatillaUnionWallowaWascoWashingtonYamhillAdamsAlleghenyArmstrongBeaverBedfordBerksBlairBradfordBucksButlerCambriaCameronCarbonCentreChesterClarionClearfieldClintonColumbiaCrawfordCumberlandDauphinDelawareElkErieFayetteForestFranklinFultonGreeneHuntingdonIndianaJeffersonJuniataLackawannaLancasterLawrenceLebanonLehighLuzerneLycomingMcKeanMercerMifflinMonroeMontgomeryMontourNorthamptonNorthumberlandPerryPhiladelphiaPikePotterSchuylkillSnyderSomersetSullivanSusquehannaTiogaUnionVenangoWarrenWashingtonWayneWestmorelandWyomingYorkBristolKentNewportProvidenceWashingtonAbbevilleAikenAllendaleAndersonBambergBarnwellBeaufortBerkeleyCalhounCharlestonCherokeeChesterChesterfieldClarendonColletonDarlingtonDillonDorchesterEdgefieldFairfieldFlorenceGeorgetownGreenvilleGreenwoodHamptonHorryJasperKershawLancasterLaurensLeeLexingtonMcCormickMarionMarlboroNewberryOconeeOrangeburgPickensRichlandSaludaSpartanburgSumterUnionWilliamsburgYorkAuroraBeadleBennettBon_HommeBrookingsBrownBruleBuffaloButteCharles_MixClarkClayCodingtonCorsonCusterDavisonDayDeuelDeweyDouglasEdmundsFall_RiverFaulkGrantGregoryHaakonHamlinHandHansonHughesHutchinsonJacksonJerauldKingsburyLakeLawrenceLincolnLymanMcCookMcPhersonMarshallMeadeMelletteMinerMinnehahaMoodyOglala_LakotaPenningtonPerkinsPotterRobertsSanbornSpinkStanleyToddTrippTurnerUnionWalworthYanktonZiebachAndersonBedfordBentonBledsoeBlountBradleyCampbellCannonCarrollCarterCheathamChesterClaiborneClayCockeCoffeeCrockettCumberlandDavidsonDecaturDeKalbDicksonDyerFayetteFentressFranklinGibsonGilesGraingerGreeneGrundyHamblenHamiltonHancockHardemanHardinHawkinsHaywoodHendersonHenryHickmanHoustonHumphreysJacksonJeffersonJohnsonKnoxLakeLauderdaleLawrenceLewisLincolnLoudonMcMinnMcNairyMaconMadisonMarionMarshallMauryMeigsMonroeMontgomeryMooreMorganObionOvertonPerryPickettPolkPutnamRheaRoaneRobertsonRutherfordScottSequatchieSevierShelbySmithStewartSullivanSumnerTiptonTrousdaleUnicoiUnionVan_BurenWarrenWashingtonWayneWeakleyWhiteWilliamsonWilsonAndersonAndrewsAngelinaAransasArcherArmstrongAtascosaAustinBaileyBanderaBastropBaylorBeeBellBexarBlancoBosqueBowieBrazoriaBrazosBrewsterBrooksBrownBurlesonBurnetCaldwellCalhounCallahanCameronCampCarsonCassCastroChambersCherokeeChildressClayCochranCokeColemanCollinCollingsworthColoradoComalComancheConchoCookeCoryellCraneCrockettCrosbyCulbersonDallamDallasDawsonDeaf_SmithDeltaDentonDeWittDickensDimmitDonleyDuvalEastlandEctorEdwardsEllisEl_PasoErathFallsFanninFayetteFisherFloydFort_BendFranklinFreestoneFrioGainesGalvestonGarzaGillespieGoliadGonzalesGrayGraysonGreggGrimesGuadalupeHaleHallHamiltonHansfordHardemanHardinHarrisHarrisonHartleyHaskellHaysHemphillHendersonHidalgoHillHockleyHoodHopkinsHoustonHowardHudspethHuntHutchinsonJackJacksonJasperJeff_DavisJeffersonJim_HoggJim_WellsJohnsonJonesKarnesKaufmanKendallKerrKimbleKinneyKlebergKnoxLamarLambLampasasLa_SalleLavacaLeeLeonLibertyLimestoneLipscombLive_OakLlanoLubbockLynnMcCullochMcLennanMadisonMarionMartinMasonMatagordaMaverickMedinaMenardMidlandMilamMillsMitchellMontagueMontgomeryMooreMorrisNacogdochesNavarroNewtonNolanNuecesOchiltreeOldhamOrangePalo_PintoPanolaParkerParmerPecosPolkPotterPresidioRainsRandallReaganRealRed_RiverReevesRefugioRobertsonRockwallRunnelsRuskSabineSan_AugustineSan_JacintoSan_PatricioSan_SabaSchleicherScurryShackelfordShelbyShermanSmithSomervellStarrStephensSuttonSwisherTarrantTaylorTerryTitusTom_GreenTravisTrinityTylerUpshurUptonUvaldeVal_VerdeVan_ZandtVictoriaWalkerWallerWardWashingtonWebbWhartonWheelerWichitaWilbargerWillacyWilliamsonWilsonWinklerWiseWoodYoakumYoungZapataZavalaBeaverBox_ElderCacheCarbonDavisDuchesneEmeryGarfieldGrandIronJuabKaneMillardMorganRichSalt_LakeSan_JuanSanpeteSevierSummitTooeleUintahUtahWasatchWashingtonWayneWeberAddisonBenningtonCaledoniaChittendenEssexFranklinGrand_IsleLamoilleOrangeOrleansRutlandWashingtonWindhamWindsorAccomackAlbemarleAlleghanyAmeliaAmherstAppomattoxArlingtonAugustaBathBedfordBlandBotetourtBrunswickBuchananBuckinghamCampbellCarolineCarrollCharles_CityCharlotteChesterfieldClarkeCraigCulpeperCumberlandDickensonDinwiddieEssexFairfaxFauquierFloydFluvannaFranklinFrederickGilesGloucesterGoochlandGraysonGreeneGreensvilleHalifaxHanoverHenricoHenryHighlandIsle_of_WightJames_CityKing_and_QueenKing_GeorgeKing_WilliamLancasterLeeLoudounLouisaLunenburgMadisonMathewsMecklenburgMiddlesexMontgomeryNelsonNew_KentNorthamptonNorthumberlandNottowayOrangePagePatrickPittsylvaniaPowhatanPrince_EdwardPrince_GeorgePrince_WilliamPulaskiRappahannockRichmondRoanokeRockbridgeRockinghamRussellScottShenandoahSmythSouthamptonSpotsylvaniaStaffordSurrySussexTazewellWarrenWashingtonWestmorelandWiseWytheYorkAlexandria_CityBristol_CityBuena_Vista_CityCharlottesville_CityChesapeake_CityColonial_Heights_CityCovington_CityDanville_CityEmporia_CityFairfax_CityFalls_Church_CityFranklin_CityFredericksburg_CityGalax_CityHampton_CityHarrisonburg_CityHopewell_CityLexington_CityLynchburg_CityManassas_CityManassas_Park_CityMartinsville_CityNewport_News_CityNorfolk_CityNorton_CityPetersburg_CityPoquoson_CityPortsmouth_CityRadford_CityRichmond_CityRoanoke_CitySalem_CityStaunton_CitySuffolk_CityVirginia_Beach_CityWaynesboro_CityWilliamsburg_CityWinchester_CityAdamsAsotinBentonChelanClallamClarkColumbiaCowlitzDouglasFerryFranklinGarfieldGrantGrays_HarborIslandJeffersonKingKitsapKittitasKlickitatLewisLincolnMasonOkanoganPacificPend_OreillePierceSan_JuanSkagitSkamaniaSnohomishSpokaneStevensThurstonWahkiakumWalla_WallaWhatcomWhitmanYakimaBarbourBerkeleyBooneBraxtonBrookeCabellCalhounClayDoddridgeFayetteGilmerGrantGreenbrierHampshireHancockHardyHarrisonJacksonJeffersonKanawhaLewisLincolnLoganMcDowellMarionMarshallMasonMercerMineralMingoMonongaliaMonroeMorganNicholasOhioPendletonPleasantsPocahontasPrestonPutnamRaleighRandolphRitchieRoaneSummersTaylorTuckerTylerUpshurWayneWebsterWetzelWirtWoodWyomingAdamsAshlandBarronBayfieldBrownBuffaloBurnettCalumetChippewaClarkColumbiaCrawfordDaneDodgeDoorDouglasDunnEau_ClaireFlorenceFond_du_LacForestGrantGreenGreen_LakeIowaIronJacksonJeffersonJuneauKenoshaKewauneeLa_CrosseLafayetteLangladeLincolnManitowocMarathonMarinetteMarquetteMenomineeMilwaukeeMonroeOcontoOneidaOutagamieOzaukeePepinPiercePolkPortagePriceRacineRichlandRockRuskSt._CroixSaukSawyerShawanoSheboyganTaylorTrempealeauVernonVilasWalworthWashburnWashingtonWaukeshaWaupacaWausharaWinnebagoWoodAlbanyBig_HornCampbellCarbonConverseCrookFremontGoshenHot_SpringsJohnsonLaramieLincolnNatronaNiobraraParkPlatteSheridanSubletteSweetwaterTetonUintaWashakieWeston\"",
      "\nDuring handling of the above exception, another exception occurred:\n",
      "\u001b[0;31mValueError\u001b[0m                                Traceback (most recent call last)",
      "\u001b[0;32m~/anaconda3/lib/python3.7/site-packages/pandas/core/nanops.py\u001b[0m in \u001b[0;36m_ensure_numeric\u001b[0;34m(x)\u001b[0m\n\u001b[1;32m   1166\u001b[0m             \u001b[0;32mtry\u001b[0m\u001b[0;34m:\u001b[0m\u001b[0;34m\u001b[0m\u001b[0;34m\u001b[0m\u001b[0m\n\u001b[0;32m-> 1167\u001b[0;31m                 \u001b[0mx\u001b[0m \u001b[0;34m=\u001b[0m \u001b[0mcomplex\u001b[0m\u001b[0;34m(\u001b[0m\u001b[0mx\u001b[0m\u001b[0;34m)\u001b[0m\u001b[0;34m\u001b[0m\u001b[0;34m\u001b[0m\u001b[0m\n\u001b[0m\u001b[1;32m   1168\u001b[0m             \u001b[0;32mexcept\u001b[0m \u001b[0mException\u001b[0m\u001b[0;34m:\u001b[0m\u001b[0;34m\u001b[0m\u001b[0;34m\u001b[0m\u001b[0m\n",
      "\u001b[0;31mValueError\u001b[0m: could not convert string to complex: \"AutaugaBaldwinBarbourBibbBlountBullockButlerCalhounChambersCherokeeChiltonChoctawClarkeClayCleburneCoffeeColbertConecuhCoosaCovingtonCrenshawCullmanDaleDallasDeKalbElmoreEscambiaEtowahFayetteFranklinGenevaGreeneHaleHenryHoustonJacksonJeffersonLamarLauderdaleLawrenceLeeLimestoneLowndesMaconMadisonMarengoMarionMarshallMobileMonroeMontgomeryMorganPerryPickensPikeRandolphRussellSt._ClairShelbySumterTalladegaTallapoosaTuscaloosaWalkerWashingtonWilcoxWinstonAleutians_EastAleutians_WestAnchorageBethelDenaliDillinghamFairbanks_North_StarHainesHoonah-AngoonJuneauKenai_PeninsulaKetchikan_GatewayKodiak_IslandKusilvakMatanuska-SusitnaNomeNorth_SlopeNorthwest_ArcticPetersburgPrince_of_Wales-HyderSitkaSoutheast_FairbanksValdez-CordovaWrangellYukon-KoyukukApacheCochiseCoconinoGilaGrahamGreenleeLa_PazMaricopaMohaveNavajoPimaPinalSanta_CruzYavapaiYumaArkansasAshleyBaxterBentonBooneBradleyCalhounCarrollChicotClarkClayCleburneClevelandColumbiaConwayCraigheadCrawfordCrittendenCrossDallasDeshaDrewFaulknerFranklinFultonGarlandGrantGreeneHempsteadHot_SpringHowardIndependenceIzardJacksonJeffersonJohnsonLafayetteLawrenceLeeLincolnLittle_RiverLoganLonokeMadisonMarionMillerMississippiMonroeMontgomeryNevadaNewtonOuachitaPerryPhillipsPikePoinsettPolkPopePrairiePulaskiRandolphSt._FrancisSalineScottSearcySebastianSevierSharpStoneUnionVan_BurenWashingtonWhiteWoodruffYellAlamedaAmadorButteCalaverasColusaContra_CostaDel_NorteEl_DoradoFresnoGlennHumboldtImperialInyoKernKingsLakeLassenLos_AngelesMaderaMarinMariposaMendocinoMercedModocMonoMontereyNapaNevadaOrangePlacerPlumasRiversideSacramentoSan_BenitoSan_BernardinoSan_DiegoSan_FranciscoSan_JoaquinSan_Luis_ObispoSan_MateoSanta_BarbaraSanta_ClaraSanta_CruzShastaSierraSiskiyouSolanoSonomaStanislausSutterTehamaTrinityTulareTuolumneVenturaYoloYubaAdamsAlamosaArapahoeArchuletaBacaBentBoulderBroomfieldChaffeeCheyenneClear_CreekConejosCostillaCrowleyCusterDeltaDenverDoloresDouglasEagleElbertEl_PasoFremontGarfieldGilpinGrandGunnisonHuerfanoJeffersonKit_CarsonLakeLa_PlataLarimerLas_AnimasLincolnLoganMesaMoffatMontezumaMontroseMorganOteroOurayParkPhillipsPitkinProwersPuebloRio_BlancoRio_GrandeRouttSaguacheSan_MiguelSedgwickSummitTellerWashingtonWeldYumaFairfieldHartfordLitchfieldMiddlesexNew_HavenNew_LondonTollandWindhamKentNew_CastleSussexDistrict_of_ColumbiaAlachuaBakerBayBradfordBrevardBrowardCalhounCharlotteCitrusClayCollierColumbiaDeSotoDixieDuvalEscambiaFlaglerFranklinGadsdenGilchristGladesGulfHamiltonHardeeHendryHernandoHighlandsHillsboroughHolmesIndian_RiverJacksonJeffersonLafayetteLakeLeeLeonLevyLibertyMadisonManateeMarionMartinMiami-DadeMonroeNassauOkaloosaOkeechobeeOrangeOsceolaPalm_BeachPascoPinellasPolkPutnamSt._JohnsSt._LucieSanta_RosaSarasotaSeminoleSumterSuwanneeTaylorUnionVolusiaWakullaWaltonWashingtonApplingAtkinsonBaconBakerBaldwinBanksBarrowBartowBen_HillBerrienBibbBleckleyBrantleyBrooksBryanBullochBurkeButtsCalhounCamdenCandlerCarrollCatoosaCharltonChathamChattahoocheeChattoogaCherokeeClarkeClayClaytonClinchCobbCoffeeColquittColumbiaCookCowetaCrawfordCrispDadeDawsonDecaturDeKalbDodgeDoolyDoughertyDouglasEarlyEcholsEffinghamElbertEmanuelEvansFanninFayetteFloydForsythFranklinFultonGilmerGlascockGlynnGordonGradyGreeneGwinnettHabershamHallHancockHaralsonHarrisHartHeardHenryHoustonIrwinJacksonJasperJeff_DavisJeffersonJenkinsJohnsonJonesLamarLanierLaurensLeeLibertyLincolnLongLowndesLumpkinMcDuffieMcIntoshMaconMadisonMarionMeriwetherMillerMitchellMonroeMontgomeryMorganMurrayMuscogeeNewtonOconeeOglethorpePauldingPeachPickensPiercePikePolkPulaskiPutnamQuitmanRabunRandolphRichmondRockdaleSchleyScrevenSeminoleSpaldingStephensStewartSumterTalbotTattnallTaylorTelfairTerrellThomasTiftToombsTownsTreutlenTroupTurnerTwiggsUnionUpsonWalkerWaltonWareWarrenWashingtonWayneWebsterWheelerWhiteWhitfieldWilcoxWilkesWilkinsonWorthHawaiiHonoluluKauaiMauiAdaAdamsBannockBear_LakeBenewahBinghamBlaineBoiseBonnerBonnevilleBoundaryButteCanyonCaribouCassiaClearwaterCusterElmoreFranklinFremontGemGoodingIdahoJeffersonJeromeKootenaiLatahLemhiLewisLincolnMadisonMinidokaNez_PerceOneidaOwyheePayettePowerShoshoneTetonTwin_FallsValleyWashingtonAdamsAlexanderBondBooneBrownBureauCalhounCarrollCassChampaignChristianClarkClayClintonColesCookCrawfordCumberlandDeKalbDe_WittDouglasDuPageEdgarEdwardsEffinghamFayetteFordFranklinFultonGallatinGreeneGrundyHamiltonHancockHardinHendersonHenryIroquoisJacksonJasperJeffersonJerseyJo_DaviessJohnsonKaneKankakeeKendallKnoxLakeLaSalleLawrenceLeeLivingstonLoganMcDonoughMcHenryMcLeanMaconMacoupinMadisonMarionMarshallMasonMassacMenardMercerMonroeMontgomeryMorganMoultrieOglePeoriaPerryPiattPikePopePulaskiPutnamRandolphRichlandRock_IslandSt._ClairSalineSangamonSchuylerScottShelbyStarkStephensonTazewellUnionVermilionWabashWarrenWashingtonWayneWhiteWhitesideWillWilliamsonWinnebagoWoodfordAdamsAllenBartholomewBentonBlackfordBooneBrownCarrollCassClarkClayClintonCrawfordDaviessDearbornDecaturDeKalbDelawareDuboisElkhartFayetteFloydFountainFranklinFultonGibsonGrantGreeneHamiltonHancockHarrisonHendricksHenryHowardHuntingtonJacksonJasperJayJeffersonJenningsJohnsonKnoxKosciuskoLaGrangeLakeLaPorteLawrenceMadisonMarionMarshallMartinMiamiMonroeMontgomeryMorganNewtonNobleOhioOrangeOwenParkePerryPikePorterPoseyPulaskiPutnamRandolphRipleyRushSt._JosephScottShelbySpencerStarkeSteubenSullivanSwitzerlandTippecanoeTiptonUnionVanderburghVermillionVigoWabashWarrenWarrickWashingtonWayneWellsWhiteWhitleyAdairAdamsAllamakeeAppanooseAudubonBentonBlack_HawkBooneBremerBuchananBuena_VistaButlerCalhounCarrollCassCedarCerro_GordoCherokeeChickasawClarkeClayClaytonClintonCrawfordDallasDavisDecaturDelawareDes_MoinesDickinsonDubuqueEmmetFayetteFloydFranklinFremontGreeneGrundyGuthrieHamiltonHancockHardinHarrisonHenryHowardHumboldtIdaIowaJacksonJasperJeffersonJohnsonJonesKeokukKossuthLeeLinnLouisaLucasLyonMadisonMahaskaMarionMarshallMillsMitchellMononaMonroeMontgomeryMuscatineO'BrienOsceolaPagePalo_AltoPlymouthPocahontasPolkPottawattamiePoweshiekRinggoldSacScottShelbySiouxStoryTamaTaylorUnionVan_BurenWapelloWarrenWashingtonWayneWebsterWinnebagoWinneshiekWoodburyWorthWrightAllenAndersonAtchisonBarberBartonBourbonBrownButlerChaseChautauquaCherokeeCheyenneClarkClayCloudCoffeyComancheCowleyCrawfordDecaturDickinsonDoniphanDouglasEdwardsElkEllisEllsworthFinneyFordFranklinGearyGoveGrahamGrantGrayGreenwoodHamiltonHarperHarveyHaskellHodgemanJacksonJeffersonJewellJohnsonKearnyKingmanKiowaLabetteLeavenworthLincolnLinnLoganLyonMcPhersonMarionMarshallMeadeMiamiMitchellMontgomeryMorrisMortonNemahaNeoshoNessNortonOsageOsborneOttawaPawneePhillipsPottawatomiePrattRawlinsRenoRepublicRiceRileyRooksRushRussellSalineScottSedgwickSewardShawneeSheridanShermanSmithStaffordStantonStevensSumnerThomasTregoWabaunseeWashingtonWichitaWilsonWoodsonWyandotteAdairAllenAndersonBallardBarrenBathBellBooneBourbonBoydBoyleBrackenBreathittBreckinridgeBullittButlerCaldwellCallowayCampbellCarlisleCarrollCarterCaseyChristianClarkClayClintonCrittendenCumberlandDaviessEdmonsonElliottEstillFayetteFlemingFloydFranklinFultonGallatinGarrardGrantGravesGraysonGreenGreenupHancockHardinHarlanHarrisonHartHendersonHenryHickmanHopkinsJacksonJeffersonJessamineJohnsonKentonKnottKnoxLarueLaurelLawrenceLeeLeslieLetcherLewisLincolnLivingstonLoganLyonMcCrackenMcCrearyMcLeanMadisonMagoffinMarionMarshallMartinMasonMeadeMenifeeMercerMetcalfeMonroeMontgomeryMorganMuhlenbergNelsonNicholasOhioOldhamOwenOwsleyPendletonPerryPikePowellPulaskiRobertsonRockcastleRowanRussellScottShelbySimpsonSpencerTaylorToddTriggTrimbleUnionWarrenWashingtonWayneWebsterWhitleyWolfeWoodfordAcadiaAllenAscensionAssumptionAvoyellesBeauregardBienvilleBossierCaddoCalcasieuCaldwellCameronCatahoulaClaiborneConcordiaDe_SotoEast_Baton_RougeEast_CarrollEast_FelicianaEvangelineFranklinGrantIberiaIbervilleJacksonJeffersonJefferson_DavisLafayetteLafourcheLa_SalleLincolnLivingstonMadisonMorehouseNatchitochesOrleansOuachitaPlaqueminesPointe_CoupeeRapidesRed_RiverRichlandSabineSt._BernardSt._CharlesSt._HelenaSt._JamesSt._John_the_BaptistSt._LandrySt._MartinSt._MarySt._TammanyTangipahoaTensasTerrebonneUnionVermilionVernonWashingtonWebsterWest_Baton_RougeWest_CarrollWest_FelicianaWinnAndroscogginAroostookCumberlandFranklinHancockKennebecKnoxLincolnOxfordPenobscotPiscataquisSagadahocSomersetWaldoWashingtonYorkAlleganyAnne_ArundelBaltimoreCalvertCarolineCarrollCecilCharlesDorchesterFrederickGarrettHarfordHowardKentMontgomeryPrince_George'sQueen_Anne'sSt._Mary'sSomersetTalbotWashingtonWicomicoWorcesterBaltimore_CityBarnstableBerkshireBristolDukesEssexFranklinHampdenHampshireMiddlesexNantucketNorfolkPlymouthSuffolkWorcesterAlconaAlgerAlleganAlpenaAntrimArenacBaragaBarryBayBenzieBerrienBranchCalhounCassCharlevoixCheboyganChippewaClareClintonCrawfordDeltaDickinsonEatonEmmetGeneseeGladwinGogebicGrand_TraverseGratiotHillsdaleHoughtonHuronInghamIoniaIoscoIronIsabellaJacksonKalamazooKalkaskaKentKeweenawLakeLapeerLeelanauLenaweeLivingstonLuceMackinacMacombManisteeMarquetteMasonMecostaMenomineeMidlandMissaukeeMonroeMontcalmMontmorencyMuskegonNewaygoOaklandOceanaOgemawOntonagonOsceolaOscodaOtsegoOttawaPresque_IsleRoscommonSaginawSt._ClairSt._JosephSanilacSchoolcraftShiawasseeTuscolaVan_BurenWashtenawWayneWexfordAitkinAnokaBeckerBeltramiBentonBig_StoneBlue_EarthBrownCarltonCarverCassChippewaChisagoClayClearwaterCookCottonwoodCrow_WingDakotaDodgeDouglasFaribaultFillmoreFreebornGoodhueGrantHennepinHoustonHubbardIsantiItascaJacksonKanabecKandiyohiKittsonKoochichingLac_qui_ParleLakeLake_of_the_WoodsLe_SueurLincolnLyonMcLeodMahnomenMarshallMartinMeekerMille_LacsMorrisonMowerMurrayNicolletNoblesNormanOlmstedOtter_TailPenningtonPinePipestonePolkPopeRamseyRed_LakeRedwoodRenvilleRiceRockRoseauSt._LouisScottSherburneSibleyStearnsSteeleStevensSwiftToddTraverseWabashaWadenaWasecaWashingtonWatonwanWilkinWinonaWrightYellow_MedicineAdamsAlcornAmiteAttalaBentonBolivarCalhounCarrollChickasawChoctawClaiborneClarkeClayCoahomaCopiahCovingtonDeSotoForrestFranklinGeorgeGreeneGrenadaHancockHarrisonHindsHolmesHumphreysItawambaJacksonJasperJeffersonJefferson_DavisJonesKemperLafayetteLamarLauderdaleLawrenceLeakeLeeLefloreLincolnLowndesMadisonMarionMarshallMonroeMontgomeryNeshobaNewtonNoxubeeOktibbehaPanolaPearl_RiverPerryPikePontotocPrentissQuitmanRankinScottSharkeySimpsonSmithStoneSunflowerTallahatchieTateTippahTishomingoTunicaUnionWalthallWarrenWashingtonWayneWebsterWilkinsonWinstonYalobushaYazooAdairAndrewAtchisonAudrainBarryBartonBatesBentonBollingerBooneBuchananButlerCaldwellCallawayCamdenCape_GirardeauCarrollCarterCassCedarCharitonChristianClarkClayClintonColeCooperCrawfordDadeDallasDaviessDeKalbDentDouglasDunklinFranklinGasconadeGentryGreeneGrundyHarrisonHenryHickoryHoltHowardHowellIronJacksonJasperJeffersonJohnsonKnoxLacledeLafayetteLawrenceLewisLincolnLinnLivingstonMcDonaldMaconMadisonMariesMarionMercerMillerMississippiMoniteauMonroeMontgomeryMorganNew_MadridNewtonNodawayOregonOsageOzarkPemiscotPerryPettisPhelpsPikePlattePolkPulaskiPutnamRallsRandolphRayReynoldsRipleySt._CharlesSt._ClairSte._GenevieveSt._FrancoisSt._LouisSalineSchuylerScotlandScottShannonShelbyStoddardStoneSullivanTaneyTexasVernonWarrenWashingtonWayneWebsterWorthWrightSt._Louis_CityBeaverheadBig_HornBlaineBroadwaterCarbonCascadeChouteauCusterDanielsDawsonDeer_LodgeFallonFergusFlatheadGallatinGlacierGraniteHillJeffersonJudith_BasinLakeLewis_and_ClarkLibertyLincolnMcConeMadisonMeagherMineralMissoulaMusselshellParkPhillipsPonderaPowder_RiverPowellRavalliRichlandRooseveltRosebudSandersSheridanSilver_BowStillwaterSweet_GrassTetonTooleValleyWheatlandYellowstoneAdamsAntelopeBooneBox_ButteBoydBrownBuffaloBurtButlerCassCedarChaseCherryCheyenneClayColfaxCumingCusterDakotaDawesDawsonDeuelDixonDodgeDouglasDundyFillmoreFranklinFrontierFurnasGageGardenGarfieldGosperGreeleyHallHamiltonHarlanHitchcockHoltHowardJeffersonJohnsonKearneyKeithKimballKnoxLancasterLincolnMadisonMerrickMorrillNanceNemahaNuckollsOtoePawneePerkinsPhelpsPiercePlattePolkRed_WillowRichardsonSalineSarpySaundersScotts_BluffSewardSheridanShermanStantonThayerThurstonValleyWashingtonWayneWebsterYorkChurchillClarkDouglasElkoEurekaHumboldtLanderLincolnLyonMineralNyePershingStoreyWashoeWhite_PineCarson_CityBelknapCarrollCheshireCoosGraftonHillsboroughMerrimackRockinghamStraffordSullivanAtlanticBergenBurlingtonCamdenCape_MayCumberlandEssexGloucesterHudsonHunterdonMercerMiddlesexMonmouthMorrisOceanPassaicSalemSomersetSussexUnionWarrenBernalilloCatronChavesCibolaColfaxCurryDe_BacaDona_AnaEddyGrantGuadalupeHidalgoLeaLincolnLos_AlamosLunaMcKinleyMoraOteroQuayRio_ArribaRooseveltSandovalSan_JuanSan_MiguelSanta_FeSierraSocorroTaosTorranceUnionValenciaAlbanyAlleganyBronxBroomeCattaraugusCayugaChautauquaChemungChenangoClintonColumbiaCortlandDelawareDutchessErieEssexFranklinFultonGeneseeGreeneHamiltonHerkimerJeffersonKingsLewisLivingstonMadisonMonroeMontgomeryNassauNew_YorkNiagaraOneidaOnondagaOntarioOrangeOrleansOswegoOtsegoPutnamQueensRensselaerRichmondRocklandSt._LawrenceSaratogaSchenectadySchoharieSchuylerSenecaSteubenSuffolkSullivanTiogaTompkinsUlsterWarrenWashingtonWayneWestchesterWyomingYatesAlamanceAlexanderAlleghanyAnsonAsheAveryBeaufortBertieBladenBrunswickBuncombeBurkeCabarrusCaldwellCamdenCarteretCaswellCatawbaChathamCherokeeChowanClayClevelandColumbusCravenCumberlandCurrituckDareDavidsonDavieDuplinDurhamEdgecombeForsythFranklinGastonGatesGrahamGranvilleGreeneGuilfordHalifaxHarnettHaywoodHendersonHertfordHokeHydeIredellJacksonJohnstonJonesLeeLenoirLincolnMcDowellMaconMadisonMartinMecklenburgMitchellMontgomeryMooreNashNew_HanoverNorthamptonOnslowOrangePamlicoPasquotankPenderPerquimansPersonPittPolkRandolphRichmondRobesonRockinghamRowanRutherfordSampsonScotlandStanlyStokesSurrySwainTransylvaniaTyrrellUnionVanceWakeWarrenWashingtonWataugaWayneWilkesWilsonYadkinYanceyAdamsBarnesBensonBottineauBowmanBurkeBurleighCassCavalierDickeyDivideDunnEddyEmmonsFosterGolden_ValleyGrand_ForksGrantGriggsHettingerKidderLaMoureLoganMcHenryMcIntoshMcKenzieMcLeanMercerMortonMountrailNelsonOliverPembinaPierceRamseyRansomRenvilleRichlandRoletteSargentSiouxStarkSteeleStutsmanTownerTraillWalshWardWellsWilliamsAdamsAllenAshlandAshtabulaAthensAuglaizeBelmontBrownButlerCarrollChampaignClarkClermontClintonColumbianaCoshoctonCrawfordCuyahogaDarkeDefianceDelawareErieFairfieldFayetteFranklinFultonGalliaGeaugaGreeneGuernseyHamiltonHancockHardinHarrisonHenryHighlandHockingHolmesHuronJacksonJeffersonKnoxLakeLawrenceLickingLoganLorainLucasMadisonMahoningMarionMedinaMeigsMercerMiamiMonroeMontgomeryMorganMorrowMuskingumNobleOttawaPauldingPerryPickawayPikePortagePreblePutnamRichlandRossSanduskySciotoSenecaShelbyStarkSummitTrumbullTuscarawasUnionVan_WertVintonWarrenWashingtonWayneWilliamsWoodWyandotAdairAlfalfaAtokaBeaverBeckhamBlaineBryanCaddoCanadianCarterCherokeeChoctawCimarronClevelandCoalComancheCottonCraigCreekCusterDelawareDeweyEllisGarfieldGarvinGradyGrantGreerHarmonHarperHaskellHughesJacksonJeffersonJohnstonKayKingfisherKiowaLatimerLe_FloreLincolnLoganLoveMcClainMcCurtainMcIntoshMajorMarshallMayesMurrayMuskogeeNobleNowataOkfuskeeOklahomaOkmulgeeOsageOttawaPawneePaynePittsburgPontotocPottawatomiePushmatahaRoger_MillsRogersSeminoleSequoyahStephensTexasTillmanTulsaWagonerWashingtonWashitaWoodsWoodwardBakerBentonClackamasClatsopColumbiaCoosCrookCurryDeschutesDouglasGilliamGrantHarneyHood_RiverJacksonJeffersonJosephineKlamathLakeLaneLincolnLinnMalheurMarionMorrowMultnomahPolkShermanTillamookUmatillaUnionWallowaWascoWashingtonYamhillAdamsAlleghenyArmstrongBeaverBedfordBerksBlairBradfordBucksButlerCambriaCameronCarbonCentreChesterClarionClearfieldClintonColumbiaCrawfordCumberlandDauphinDelawareElkErieFayetteForestFranklinFultonGreeneHuntingdonIndianaJeffersonJuniataLackawannaLancasterLawrenceLebanonLehighLuzerneLycomingMcKeanMercerMifflinMonroeMontgomeryMontourNorthamptonNorthumberlandPerryPhiladelphiaPikePotterSchuylkillSnyderSomersetSullivanSusquehannaTiogaUnionVenangoWarrenWashingtonWayneWestmorelandWyomingYorkBristolKentNewportProvidenceWashingtonAbbevilleAikenAllendaleAndersonBambergBarnwellBeaufortBerkeleyCalhounCharlestonCherokeeChesterChesterfieldClarendonColletonDarlingtonDillonDorchesterEdgefieldFairfieldFlorenceGeorgetownGreenvilleGreenwoodHamptonHorryJasperKershawLancasterLaurensLeeLexingtonMcCormickMarionMarlboroNewberryOconeeOrangeburgPickensRichlandSaludaSpartanburgSumterUnionWilliamsburgYorkAuroraBeadleBennettBon_HommeBrookingsBrownBruleBuffaloButteCharles_MixClarkClayCodingtonCorsonCusterDavisonDayDeuelDeweyDouglasEdmundsFall_RiverFaulkGrantGregoryHaakonHamlinHandHansonHughesHutchinsonJacksonJerauldKingsburyLakeLawrenceLincolnLymanMcCookMcPhersonMarshallMeadeMelletteMinerMinnehahaMoodyOglala_LakotaPenningtonPerkinsPotterRobertsSanbornSpinkStanleyToddTrippTurnerUnionWalworthYanktonZiebachAndersonBedfordBentonBledsoeBlountBradleyCampbellCannonCarrollCarterCheathamChesterClaiborneClayCockeCoffeeCrockettCumberlandDavidsonDecaturDeKalbDicksonDyerFayetteFentressFranklinGibsonGilesGraingerGreeneGrundyHamblenHamiltonHancockHardemanHardinHawkinsHaywoodHendersonHenryHickmanHoustonHumphreysJacksonJeffersonJohnsonKnoxLakeLauderdaleLawrenceLewisLincolnLoudonMcMinnMcNairyMaconMadisonMarionMarshallMauryMeigsMonroeMontgomeryMooreMorganObionOvertonPerryPickettPolkPutnamRheaRoaneRobertsonRutherfordScottSequatchieSevierShelbySmithStewartSullivanSumnerTiptonTrousdaleUnicoiUnionVan_BurenWarrenWashingtonWayneWeakleyWhiteWilliamsonWilsonAndersonAndrewsAngelinaAransasArcherArmstrongAtascosaAustinBaileyBanderaBastropBaylorBeeBellBexarBlancoBosqueBowieBrazoriaBrazosBrewsterBrooksBrownBurlesonBurnetCaldwellCalhounCallahanCameronCampCarsonCassCastroChambersCherokeeChildressClayCochranCokeColemanCollinCollingsworthColoradoComalComancheConchoCookeCoryellCraneCrockettCrosbyCulbersonDallamDallasDawsonDeaf_SmithDeltaDentonDeWittDickensDimmitDonleyDuvalEastlandEctorEdwardsEllisEl_PasoErathFallsFanninFayetteFisherFloydFort_BendFranklinFreestoneFrioGainesGalvestonGarzaGillespieGoliadGonzalesGrayGraysonGreggGrimesGuadalupeHaleHallHamiltonHansfordHardemanHardinHarrisHarrisonHartleyHaskellHaysHemphillHendersonHidalgoHillHockleyHoodHopkinsHoustonHowardHudspethHuntHutchinsonJackJacksonJasperJeff_DavisJeffersonJim_HoggJim_WellsJohnsonJonesKarnesKaufmanKendallKerrKimbleKinneyKlebergKnoxLamarLambLampasasLa_SalleLavacaLeeLeonLibertyLimestoneLipscombLive_OakLlanoLubbockLynnMcCullochMcLennanMadisonMarionMartinMasonMatagordaMaverickMedinaMenardMidlandMilamMillsMitchellMontagueMontgomeryMooreMorrisNacogdochesNavarroNewtonNolanNuecesOchiltreeOldhamOrangePalo_PintoPanolaParkerParmerPecosPolkPotterPresidioRainsRandallReaganRealRed_RiverReevesRefugioRobertsonRockwallRunnelsRuskSabineSan_AugustineSan_JacintoSan_PatricioSan_SabaSchleicherScurryShackelfordShelbyShermanSmithSomervellStarrStephensSuttonSwisherTarrantTaylorTerryTitusTom_GreenTravisTrinityTylerUpshurUptonUvaldeVal_VerdeVan_ZandtVictoriaWalkerWallerWardWashingtonWebbWhartonWheelerWichitaWilbargerWillacyWilliamsonWilsonWinklerWiseWoodYoakumYoungZapataZavalaBeaverBox_ElderCacheCarbonDavisDuchesneEmeryGarfieldGrandIronJuabKaneMillardMorganRichSalt_LakeSan_JuanSanpeteSevierSummitTooeleUintahUtahWasatchWashingtonWayneWeberAddisonBenningtonCaledoniaChittendenEssexFranklinGrand_IsleLamoilleOrangeOrleansRutlandWashingtonWindhamWindsorAccomackAlbemarleAlleghanyAmeliaAmherstAppomattoxArlingtonAugustaBathBedfordBlandBotetourtBrunswickBuchananBuckinghamCampbellCarolineCarrollCharles_CityCharlotteChesterfieldClarkeCraigCulpeperCumberlandDickensonDinwiddieEssexFairfaxFauquierFloydFluvannaFranklinFrederickGilesGloucesterGoochlandGraysonGreeneGreensvilleHalifaxHanoverHenricoHenryHighlandIsle_of_WightJames_CityKing_and_QueenKing_GeorgeKing_WilliamLancasterLeeLoudounLouisaLunenburgMadisonMathewsMecklenburgMiddlesexMontgomeryNelsonNew_KentNorthamptonNorthumberlandNottowayOrangePagePatrickPittsylvaniaPowhatanPrince_EdwardPrince_GeorgePrince_WilliamPulaskiRappahannockRichmondRoanokeRockbridgeRockinghamRussellScottShenandoahSmythSouthamptonSpotsylvaniaStaffordSurrySussexTazewellWarrenWashingtonWestmorelandWiseWytheYorkAlexandria_CityBristol_CityBuena_Vista_CityCharlottesville_CityChesapeake_CityColonial_Heights_CityCovington_CityDanville_CityEmporia_CityFairfax_CityFalls_Church_CityFranklin_CityFredericksburg_CityGalax_CityHampton_CityHarrisonburg_CityHopewell_CityLexington_CityLynchburg_CityManassas_CityManassas_Park_CityMartinsville_CityNewport_News_CityNorfolk_CityNorton_CityPetersburg_CityPoquoson_CityPortsmouth_CityRadford_CityRichmond_CityRoanoke_CitySalem_CityStaunton_CitySuffolk_CityVirginia_Beach_CityWaynesboro_CityWilliamsburg_CityWinchester_CityAdamsAsotinBentonChelanClallamClarkColumbiaCowlitzDouglasFerryFranklinGarfieldGrantGrays_HarborIslandJeffersonKingKitsapKittitasKlickitatLewisLincolnMasonOkanoganPacificPend_OreillePierceSan_JuanSkagitSkamaniaSnohomishSpokaneStevensThurstonWahkiakumWalla_WallaWhatcomWhitmanYakimaBarbourBerkeleyBooneBraxtonBrookeCabellCalhounClayDoddridgeFayetteGilmerGrantGreenbrierHampshireHancockHardyHarrisonJacksonJeffersonKanawhaLewisLincolnLoganMcDowellMarionMarshallMasonMercerMineralMingoMonongaliaMonroeMorganNicholasOhioPendletonPleasantsPocahontasPrestonPutnamRaleighRandolphRitchieRoaneSummersTaylorTuckerTylerUpshurWayneWebsterWetzelWirtWoodWyomingAdamsAshlandBarronBayfieldBrownBuffaloBurnettCalumetChippewaClarkColumbiaCrawfordDaneDodgeDoorDouglasDunnEau_ClaireFlorenceFond_du_LacForestGrantGreenGreen_LakeIowaIronJacksonJeffersonJuneauKenoshaKewauneeLa_CrosseLafayetteLangladeLincolnManitowocMarathonMarinetteMarquetteMenomineeMilwaukeeMonroeOcontoOneidaOutagamieOzaukeePepinPiercePolkPortagePriceRacineRichlandRockRuskSt._CroixSaukSawyerShawanoSheboyganTaylorTrempealeauVernonVilasWalworthWashburnWashingtonWaukeshaWaupacaWausharaWinnebagoWoodAlbanyBig_HornCampbellCarbonConverseCrookFremontGoshenHot_SpringsJohnsonLaramieLincolnNatronaNiobraraParkPlatteSheridanSubletteSweetwaterTetonUintaWashakieWeston\"",
      "\nDuring handling of the above exception, another exception occurred:\n",
      "\u001b[0;31mTypeError\u001b[0m                                 Traceback (most recent call last)",
      "\u001b[0;32m<ipython-input-3-b00bb7a724c0>\u001b[0m in \u001b[0;36m<module>\u001b[0;34m\u001b[0m\n\u001b[1;32m      1\u001b[0m \u001b[0;32mfor\u001b[0m \u001b[0mi\u001b[0m\u001b[0;34m,\u001b[0m \u001b[0mcolumn\u001b[0m \u001b[0;32min\u001b[0m \u001b[0menumerate\u001b[0m\u001b[0;34m(\u001b[0m\u001b[0mdf\u001b[0m\u001b[0;34m.\u001b[0m\u001b[0mdrop\u001b[0m\u001b[0;34m(\u001b[0m\u001b[0;34m[\u001b[0m\u001b[0;34m\"State\"\u001b[0m\u001b[0;34m]\u001b[0m\u001b[0;34m,\u001b[0m \u001b[0maxis\u001b[0m\u001b[0;34m=\u001b[0m\u001b[0;36m1\u001b[0m\u001b[0;34m)\u001b[0m\u001b[0;34m.\u001b[0m\u001b[0mcolumns\u001b[0m\u001b[0;34m)\u001b[0m\u001b[0;34m:\u001b[0m\u001b[0;34m\u001b[0m\u001b[0;34m\u001b[0m\u001b[0m\n\u001b[1;32m      2\u001b[0m     \u001b[0mplt\u001b[0m\u001b[0;34m.\u001b[0m\u001b[0mfigure\u001b[0m\u001b[0;34m(\u001b[0m\u001b[0mi\u001b[0m\u001b[0;34m)\u001b[0m\u001b[0;34m\u001b[0m\u001b[0;34m\u001b[0m\u001b[0m\n\u001b[0;32m----> 3\u001b[0;31m     \u001b[0mmin_x\u001b[0m \u001b[0;34m=\u001b[0m \u001b[0;34m(\u001b[0m\u001b[0mdf\u001b[0m\u001b[0;34m[\u001b[0m\u001b[0mcolumn\u001b[0m\u001b[0;34m]\u001b[0m\u001b[0;34m.\u001b[0m\u001b[0mmean\u001b[0m\u001b[0;34m(\u001b[0m\u001b[0;34m)\u001b[0m\u001b[0;34m-\u001b[0m\u001b[0;34m(\u001b[0m\u001b[0;36m2\u001b[0m\u001b[0;34m*\u001b[0m\u001b[0mdf\u001b[0m\u001b[0;34m[\u001b[0m\u001b[0mcolumn\u001b[0m\u001b[0;34m]\u001b[0m\u001b[0;34m.\u001b[0m\u001b[0mstd\u001b[0m\u001b[0;34m(\u001b[0m\u001b[0;34m)\u001b[0m\u001b[0;34m)\u001b[0m\u001b[0;34m)\u001b[0m\u001b[0;34m\u001b[0m\u001b[0;34m\u001b[0m\u001b[0m\n\u001b[0m\u001b[1;32m      4\u001b[0m     \u001b[0mmax_x\u001b[0m \u001b[0;34m=\u001b[0m \u001b[0;34m(\u001b[0m\u001b[0mdf\u001b[0m\u001b[0;34m[\u001b[0m\u001b[0mcolumn\u001b[0m\u001b[0;34m]\u001b[0m\u001b[0;34m.\u001b[0m\u001b[0mmean\u001b[0m\u001b[0;34m(\u001b[0m\u001b[0;34m)\u001b[0m\u001b[0;34m+\u001b[0m\u001b[0;34m(\u001b[0m\u001b[0;36m2\u001b[0m\u001b[0;34m*\u001b[0m\u001b[0mdf\u001b[0m\u001b[0;34m[\u001b[0m\u001b[0mcolumn\u001b[0m\u001b[0;34m]\u001b[0m\u001b[0;34m.\u001b[0m\u001b[0mstd\u001b[0m\u001b[0;34m(\u001b[0m\u001b[0;34m)\u001b[0m\u001b[0;34m)\u001b[0m\u001b[0;34m)\u001b[0m\u001b[0;34m\u001b[0m\u001b[0;34m\u001b[0m\u001b[0m\n\u001b[1;32m      5\u001b[0m     \u001b[0msns\u001b[0m\u001b[0;34m.\u001b[0m\u001b[0mkdeplot\u001b[0m\u001b[0;34m(\u001b[0m\u001b[0mdf\u001b[0m\u001b[0;34m[\u001b[0m\u001b[0mcolumn\u001b[0m\u001b[0;34m]\u001b[0m\u001b[0;34m,\u001b[0m \u001b[0mclip\u001b[0m\u001b[0;34m=\u001b[0m\u001b[0;34m(\u001b[0m\u001b[0mmin_x\u001b[0m\u001b[0;34m,\u001b[0m \u001b[0mmax_x\u001b[0m\u001b[0;34m)\u001b[0m\u001b[0;34m)\u001b[0m\u001b[0;34m\u001b[0m\u001b[0;34m\u001b[0m\u001b[0m\n",
      "\u001b[0;32m~/anaconda3/lib/python3.7/site-packages/pandas/core/generic.py\u001b[0m in \u001b[0;36mstat_func\u001b[0;34m(self, axis, skipna, level, numeric_only, **kwargs)\u001b[0m\n\u001b[1;32m  10954\u001b[0m                                       skipna=skipna)\n\u001b[1;32m  10955\u001b[0m         return self._reduce(f, name, axis=axis, skipna=skipna,\n\u001b[0;32m> 10956\u001b[0;31m                             numeric_only=numeric_only)\n\u001b[0m\u001b[1;32m  10957\u001b[0m \u001b[0;34m\u001b[0m\u001b[0m\n\u001b[1;32m  10958\u001b[0m     \u001b[0;32mreturn\u001b[0m \u001b[0mset_function_name\u001b[0m\u001b[0;34m(\u001b[0m\u001b[0mstat_func\u001b[0m\u001b[0;34m,\u001b[0m \u001b[0mname\u001b[0m\u001b[0;34m,\u001b[0m \u001b[0mcls\u001b[0m\u001b[0;34m)\u001b[0m\u001b[0;34m\u001b[0m\u001b[0;34m\u001b[0m\u001b[0m\n",
      "\u001b[0;32m~/anaconda3/lib/python3.7/site-packages/pandas/core/series.py\u001b[0m in \u001b[0;36m_reduce\u001b[0;34m(self, op, name, axis, skipna, numeric_only, filter_type, **kwds)\u001b[0m\n\u001b[1;32m   3628\u001b[0m                                           'numeric_only.'.format(name))\n\u001b[1;32m   3629\u001b[0m             \u001b[0;32mwith\u001b[0m \u001b[0mnp\u001b[0m\u001b[0;34m.\u001b[0m\u001b[0merrstate\u001b[0m\u001b[0;34m(\u001b[0m\u001b[0mall\u001b[0m\u001b[0;34m=\u001b[0m\u001b[0;34m'ignore'\u001b[0m\u001b[0;34m)\u001b[0m\u001b[0;34m:\u001b[0m\u001b[0;34m\u001b[0m\u001b[0;34m\u001b[0m\u001b[0m\n\u001b[0;32m-> 3630\u001b[0;31m                 \u001b[0;32mreturn\u001b[0m \u001b[0mop\u001b[0m\u001b[0;34m(\u001b[0m\u001b[0mdelegate\u001b[0m\u001b[0;34m,\u001b[0m \u001b[0mskipna\u001b[0m\u001b[0;34m=\u001b[0m\u001b[0mskipna\u001b[0m\u001b[0;34m,\u001b[0m \u001b[0;34m**\u001b[0m\u001b[0mkwds\u001b[0m\u001b[0;34m)\u001b[0m\u001b[0;34m\u001b[0m\u001b[0;34m\u001b[0m\u001b[0m\n\u001b[0m\u001b[1;32m   3631\u001b[0m \u001b[0;34m\u001b[0m\u001b[0m\n\u001b[1;32m   3632\u001b[0m         \u001b[0;31m# TODO(EA) dispatch to Index\u001b[0m\u001b[0;34m\u001b[0m\u001b[0;34m\u001b[0m\u001b[0;34m\u001b[0m\u001b[0m\n",
      "\u001b[0;32m~/anaconda3/lib/python3.7/site-packages/pandas/core/nanops.py\u001b[0m in \u001b[0;36m_f\u001b[0;34m(*args, **kwargs)\u001b[0m\n\u001b[1;32m     74\u001b[0m             \u001b[0;32mtry\u001b[0m\u001b[0;34m:\u001b[0m\u001b[0;34m\u001b[0m\u001b[0;34m\u001b[0m\u001b[0m\n\u001b[1;32m     75\u001b[0m                 \u001b[0;32mwith\u001b[0m \u001b[0mnp\u001b[0m\u001b[0;34m.\u001b[0m\u001b[0merrstate\u001b[0m\u001b[0;34m(\u001b[0m\u001b[0minvalid\u001b[0m\u001b[0;34m=\u001b[0m\u001b[0;34m'ignore'\u001b[0m\u001b[0;34m)\u001b[0m\u001b[0;34m:\u001b[0m\u001b[0;34m\u001b[0m\u001b[0;34m\u001b[0m\u001b[0m\n\u001b[0;32m---> 76\u001b[0;31m                     \u001b[0;32mreturn\u001b[0m \u001b[0mf\u001b[0m\u001b[0;34m(\u001b[0m\u001b[0;34m*\u001b[0m\u001b[0margs\u001b[0m\u001b[0;34m,\u001b[0m \u001b[0;34m**\u001b[0m\u001b[0mkwargs\u001b[0m\u001b[0;34m)\u001b[0m\u001b[0;34m\u001b[0m\u001b[0;34m\u001b[0m\u001b[0m\n\u001b[0m\u001b[1;32m     77\u001b[0m             \u001b[0;32mexcept\u001b[0m \u001b[0mValueError\u001b[0m \u001b[0;32mas\u001b[0m \u001b[0me\u001b[0m\u001b[0;34m:\u001b[0m\u001b[0;34m\u001b[0m\u001b[0;34m\u001b[0m\u001b[0m\n\u001b[1;32m     78\u001b[0m                 \u001b[0;31m# we want to transform an object array\u001b[0m\u001b[0;34m\u001b[0m\u001b[0;34m\u001b[0m\u001b[0;34m\u001b[0m\u001b[0m\n",
      "\u001b[0;32m~/anaconda3/lib/python3.7/site-packages/pandas/core/nanops.py\u001b[0m in \u001b[0;36mf\u001b[0;34m(values, axis, skipna, **kwds)\u001b[0m\n\u001b[1;32m    128\u001b[0m             \u001b[0;32mexcept\u001b[0m \u001b[0mException\u001b[0m\u001b[0;34m:\u001b[0m\u001b[0;34m\u001b[0m\u001b[0;34m\u001b[0m\u001b[0m\n\u001b[1;32m    129\u001b[0m                 \u001b[0;32mtry\u001b[0m\u001b[0;34m:\u001b[0m\u001b[0;34m\u001b[0m\u001b[0;34m\u001b[0m\u001b[0m\n\u001b[0;32m--> 130\u001b[0;31m                     \u001b[0mresult\u001b[0m \u001b[0;34m=\u001b[0m \u001b[0malt\u001b[0m\u001b[0;34m(\u001b[0m\u001b[0mvalues\u001b[0m\u001b[0;34m,\u001b[0m \u001b[0maxis\u001b[0m\u001b[0;34m=\u001b[0m\u001b[0maxis\u001b[0m\u001b[0;34m,\u001b[0m \u001b[0mskipna\u001b[0m\u001b[0;34m=\u001b[0m\u001b[0mskipna\u001b[0m\u001b[0;34m,\u001b[0m \u001b[0;34m**\u001b[0m\u001b[0mkwds\u001b[0m\u001b[0;34m)\u001b[0m\u001b[0;34m\u001b[0m\u001b[0;34m\u001b[0m\u001b[0m\n\u001b[0m\u001b[1;32m    131\u001b[0m                 \u001b[0;32mexcept\u001b[0m \u001b[0mValueError\u001b[0m \u001b[0;32mas\u001b[0m \u001b[0me\u001b[0m\u001b[0;34m:\u001b[0m\u001b[0;34m\u001b[0m\u001b[0;34m\u001b[0m\u001b[0m\n\u001b[1;32m    132\u001b[0m                     \u001b[0;31m# we want to transform an object array\u001b[0m\u001b[0;34m\u001b[0m\u001b[0;34m\u001b[0m\u001b[0;34m\u001b[0m\u001b[0m\n",
      "\u001b[0;32m~/anaconda3/lib/python3.7/site-packages/pandas/core/nanops.py\u001b[0m in \u001b[0;36mnanmean\u001b[0;34m(values, axis, skipna, mask)\u001b[0m\n\u001b[1;32m    477\u001b[0m         \u001b[0mdtype_count\u001b[0m \u001b[0;34m=\u001b[0m \u001b[0mdtype\u001b[0m\u001b[0;34m\u001b[0m\u001b[0;34m\u001b[0m\u001b[0m\n\u001b[1;32m    478\u001b[0m     \u001b[0mcount\u001b[0m \u001b[0;34m=\u001b[0m \u001b[0m_get_counts\u001b[0m\u001b[0;34m(\u001b[0m\u001b[0mmask\u001b[0m\u001b[0;34m,\u001b[0m \u001b[0maxis\u001b[0m\u001b[0;34m,\u001b[0m \u001b[0mdtype\u001b[0m\u001b[0;34m=\u001b[0m\u001b[0mdtype_count\u001b[0m\u001b[0;34m)\u001b[0m\u001b[0;34m\u001b[0m\u001b[0;34m\u001b[0m\u001b[0m\n\u001b[0;32m--> 479\u001b[0;31m     \u001b[0mthe_sum\u001b[0m \u001b[0;34m=\u001b[0m \u001b[0m_ensure_numeric\u001b[0m\u001b[0;34m(\u001b[0m\u001b[0mvalues\u001b[0m\u001b[0;34m.\u001b[0m\u001b[0msum\u001b[0m\u001b[0;34m(\u001b[0m\u001b[0maxis\u001b[0m\u001b[0;34m,\u001b[0m \u001b[0mdtype\u001b[0m\u001b[0;34m=\u001b[0m\u001b[0mdtype_sum\u001b[0m\u001b[0;34m)\u001b[0m\u001b[0;34m)\u001b[0m\u001b[0;34m\u001b[0m\u001b[0;34m\u001b[0m\u001b[0m\n\u001b[0m\u001b[1;32m    480\u001b[0m \u001b[0;34m\u001b[0m\u001b[0m\n\u001b[1;32m    481\u001b[0m     \u001b[0;32mif\u001b[0m \u001b[0maxis\u001b[0m \u001b[0;32mis\u001b[0m \u001b[0;32mnot\u001b[0m \u001b[0;32mNone\u001b[0m \u001b[0;32mand\u001b[0m \u001b[0mgetattr\u001b[0m\u001b[0;34m(\u001b[0m\u001b[0mthe_sum\u001b[0m\u001b[0;34m,\u001b[0m \u001b[0;34m'ndim'\u001b[0m\u001b[0;34m,\u001b[0m \u001b[0;32mFalse\u001b[0m\u001b[0;34m)\u001b[0m\u001b[0;34m:\u001b[0m\u001b[0;34m\u001b[0m\u001b[0;34m\u001b[0m\u001b[0m\n",
      "\u001b[0;32m~/anaconda3/lib/python3.7/site-packages/pandas/core/nanops.py\u001b[0m in \u001b[0;36m_ensure_numeric\u001b[0;34m(x)\u001b[0m\n\u001b[1;32m   1168\u001b[0m             \u001b[0;32mexcept\u001b[0m \u001b[0mException\u001b[0m\u001b[0;34m:\u001b[0m\u001b[0;34m\u001b[0m\u001b[0;34m\u001b[0m\u001b[0m\n\u001b[1;32m   1169\u001b[0m                 raise TypeError('Could not convert {value!s} to numeric'\n\u001b[0;32m-> 1170\u001b[0;31m                                 .format(value=x))\n\u001b[0m\u001b[1;32m   1171\u001b[0m     \u001b[0;32mreturn\u001b[0m \u001b[0mx\u001b[0m\u001b[0;34m\u001b[0m\u001b[0;34m\u001b[0m\u001b[0m\n\u001b[1;32m   1172\u001b[0m \u001b[0;34m\u001b[0m\u001b[0m\n",
      "\u001b[0;31mTypeError\u001b[0m: Could not convert AutaugaBaldwinBarbourBibbBlountBullockButlerCalhounChambersCherokeeChiltonChoctawClarkeClayCleburneCoffeeColbertConecuhCoosaCovingtonCrenshawCullmanDaleDallasDeKalbElmoreEscambiaEtowahFayetteFranklinGenevaGreeneHaleHenryHoustonJacksonJeffersonLamarLauderdaleLawrenceLeeLimestoneLowndesMaconMadisonMarengoMarionMarshallMobileMonroeMontgomeryMorganPerryPickensPikeRandolphRussellSt._ClairShelbySumterTalladegaTallapoosaTuscaloosaWalkerWashingtonWilcoxWinstonAleutians_EastAleutians_WestAnchorageBethelDenaliDillinghamFairbanks_North_StarHainesHoonah-AngoonJuneauKenai_PeninsulaKetchikan_GatewayKodiak_IslandKusilvakMatanuska-SusitnaNomeNorth_SlopeNorthwest_ArcticPetersburgPrince_of_Wales-HyderSitkaSoutheast_FairbanksValdez-CordovaWrangellYukon-KoyukukApacheCochiseCoconinoGilaGrahamGreenleeLa_PazMaricopaMohaveNavajoPimaPinalSanta_CruzYavapaiYumaArkansasAshleyBaxterBentonBooneBradleyCalhounCarrollChicotClarkClayCleburneClevelandColumbiaConwayCraigheadCrawfordCrittendenCrossDallasDeshaDrewFaulknerFranklinFultonGarlandGrantGreeneHempsteadHot_SpringHowardIndependenceIzardJacksonJeffersonJohnsonLafayetteLawrenceLeeLincolnLittle_RiverLoganLonokeMadisonMarionMillerMississippiMonroeMontgomeryNevadaNewtonOuachitaPerryPhillipsPikePoinsettPolkPopePrairiePulaskiRandolphSt._FrancisSalineScottSearcySebastianSevierSharpStoneUnionVan_BurenWashingtonWhiteWoodruffYellAlamedaAmadorButteCalaverasColusaContra_CostaDel_NorteEl_DoradoFresnoGlennHumboldtImperialInyoKernKingsLakeLassenLos_AngelesMaderaMarinMariposaMendocinoMercedModocMonoMontereyNapaNevadaOrangePlacerPlumasRiversideSacramentoSan_BenitoSan_BernardinoSan_DiegoSan_FranciscoSan_JoaquinSan_Luis_ObispoSan_MateoSanta_BarbaraSanta_ClaraSanta_CruzShastaSierraSiskiyouSolanoSonomaStanislausSutterTehamaTrinityTulareTuolumneVenturaYoloYubaAdamsAlamosaArapahoeArchuletaBacaBentBoulderBroomfieldChaffeeCheyenneClear_CreekConejosCostillaCrowleyCusterDeltaDenverDoloresDouglasEagleElbertEl_PasoFremontGarfieldGilpinGrandGunnisonHuerfanoJeffersonKit_CarsonLakeLa_PlataLarimerLas_AnimasLincolnLoganMesaMoffatMontezumaMontroseMorganOteroOurayParkPhillipsPitkinProwersPuebloRio_BlancoRio_GrandeRouttSaguacheSan_MiguelSedgwickSummitTellerWashingtonWeldYumaFairfieldHartfordLitchfieldMiddlesexNew_HavenNew_LondonTollandWindhamKentNew_CastleSussexDistrict_of_ColumbiaAlachuaBakerBayBradfordBrevardBrowardCalhounCharlotteCitrusClayCollierColumbiaDeSotoDixieDuvalEscambiaFlaglerFranklinGadsdenGilchristGladesGulfHamiltonHardeeHendryHernandoHighlandsHillsboroughHolmesIndian_RiverJacksonJeffersonLafayetteLakeLeeLeonLevyLibertyMadisonManateeMarionMartinMiami-DadeMonroeNassauOkaloosaOkeechobeeOrangeOsceolaPalm_BeachPascoPinellasPolkPutnamSt._JohnsSt._LucieSanta_RosaSarasotaSeminoleSumterSuwanneeTaylorUnionVolusiaWakullaWaltonWashingtonApplingAtkinsonBaconBakerBaldwinBanksBarrowBartowBen_HillBerrienBibbBleckleyBrantleyBrooksBryanBullochBurkeButtsCalhounCamdenCandlerCarrollCatoosaCharltonChathamChattahoocheeChattoogaCherokeeClarkeClayClaytonClinchCobbCoffeeColquittColumbiaCookCowetaCrawfordCrispDadeDawsonDecaturDeKalbDodgeDoolyDoughertyDouglasEarlyEcholsEffinghamElbertEmanuelEvansFanninFayetteFloydForsythFranklinFultonGilmerGlascockGlynnGordonGradyGreeneGwinnettHabershamHallHancockHaralsonHarrisHartHeardHenryHoustonIrwinJacksonJasperJeff_DavisJeffersonJenkinsJohnsonJonesLamarLanierLaurensLeeLibertyLincolnLongLowndesLumpkinMcDuffieMcIntoshMaconMadisonMarionMeriwetherMillerMitchellMonroeMontgomeryMorganMurrayMuscogeeNewtonOconeeOglethorpePauldingPeachPickensPiercePikePolkPulaskiPutnamQuitmanRabunRandolphRichmondRockdaleSchleyScrevenSeminoleSpaldingStephensStewartSumterTalbotTattnallTaylorTelfairTerrellThomasTiftToombsTownsTreutlenTroupTurnerTwiggsUnionUpsonWalkerWaltonWareWarrenWashingtonWayneWebsterWheelerWhiteWhitfieldWilcoxWilkesWilkinsonWorthHawaiiHonoluluKauaiMauiAdaAdamsBannockBear_LakeBenewahBinghamBlaineBoiseBonnerBonnevilleBoundaryButteCanyonCaribouCassiaClearwaterCusterElmoreFranklinFremontGemGoodingIdahoJeffersonJeromeKootenaiLatahLemhiLewisLincolnMadisonMinidokaNez_PerceOneidaOwyheePayettePowerShoshoneTetonTwin_FallsValleyWashingtonAdamsAlexanderBondBooneBrownBureauCalhounCarrollCassChampaignChristianClarkClayClintonColesCookCrawfordCumberlandDeKalbDe_WittDouglasDuPageEdgarEdwardsEffinghamFayetteFordFranklinFultonGallatinGreeneGrundyHamiltonHancockHardinHendersonHenryIroquoisJacksonJasperJeffersonJerseyJo_DaviessJohnsonKaneKankakeeKendallKnoxLakeLaSalleLawrenceLeeLivingstonLoganMcDonoughMcHenryMcLeanMaconMacoupinMadisonMarionMarshallMasonMassacMenardMercerMonroeMontgomeryMorganMoultrieOglePeoriaPerryPiattPikePopePulaskiPutnamRandolphRichlandRock_IslandSt._ClairSalineSangamonSchuylerScottShelbyStarkStephensonTazewellUnionVermilionWabashWarrenWashingtonWayneWhiteWhitesideWillWilliamsonWinnebagoWoodfordAdamsAllenBartholomewBentonBlackfordBooneBrownCarrollCassClarkClayClintonCrawfordDaviessDearbornDecaturDeKalbDelawareDuboisElkhartFayetteFloydFountainFranklinFultonGibsonGrantGreeneHamiltonHancockHarrisonHendricksHenryHowardHuntingtonJacksonJasperJayJeffersonJenningsJohnsonKnoxKosciuskoLaGrangeLakeLaPorteLawrenceMadisonMarionMarshallMartinMiamiMonroeMontgomeryMorganNewtonNobleOhioOrangeOwenParkePerryPikePorterPoseyPulaskiPutnamRandolphRipleyRushSt._JosephScottShelbySpencerStarkeSteubenSullivanSwitzerlandTippecanoeTiptonUnionVanderburghVermillionVigoWabashWarrenWarrickWashingtonWayneWellsWhiteWhitleyAdairAdamsAllamakeeAppanooseAudubonBentonBlack_HawkBooneBremerBuchananBuena_VistaButlerCalhounCarrollCassCedarCerro_GordoCherokeeChickasawClarkeClayClaytonClintonCrawfordDallasDavisDecaturDelawareDes_MoinesDickinsonDubuqueEmmetFayetteFloydFranklinFremontGreeneGrundyGuthrieHamiltonHancockHardinHarrisonHenryHowardHumboldtIdaIowaJacksonJasperJeffersonJohnsonJonesKeokukKossuthLeeLinnLouisaLucasLyonMadisonMahaskaMarionMarshallMillsMitchellMononaMonroeMontgomeryMuscatineO'BrienOsceolaPagePalo_AltoPlymouthPocahontasPolkPottawattamiePoweshiekRinggoldSacScottShelbySiouxStoryTamaTaylorUnionVan_BurenWapelloWarrenWashingtonWayneWebsterWinnebagoWinneshiekWoodburyWorthWrightAllenAndersonAtchisonBarberBartonBourbonBrownButlerChaseChautauquaCherokeeCheyenneClarkClayCloudCoffeyComancheCowleyCrawfordDecaturDickinsonDoniphanDouglasEdwardsElkEllisEllsworthFinneyFordFranklinGearyGoveGrahamGrantGrayGreenwoodHamiltonHarperHarveyHaskellHodgemanJacksonJeffersonJewellJohnsonKearnyKingmanKiowaLabetteLeavenworthLincolnLinnLoganLyonMcPhersonMarionMarshallMeadeMiamiMitchellMontgomeryMorrisMortonNemahaNeoshoNessNortonOsageOsborneOttawaPawneePhillipsPottawatomiePrattRawlinsRenoRepublicRiceRileyRooksRushRussellSalineScottSedgwickSewardShawneeSheridanShermanSmithStaffordStantonStevensSumnerThomasTregoWabaunseeWashingtonWichitaWilsonWoodsonWyandotteAdairAllenAndersonBallardBarrenBathBellBooneBourbonBoydBoyleBrackenBreathittBreckinridgeBullittButlerCaldwellCallowayCampbellCarlisleCarrollCarterCaseyChristianClarkClayClintonCrittendenCumberlandDaviessEdmonsonElliottEstillFayetteFlemingFloydFranklinFultonGallatinGarrardGrantGravesGraysonGreenGreenupHancockHardinHarlanHarrisonHartHendersonHenryHickmanHopkinsJacksonJeffersonJessamineJohnsonKentonKnottKnoxLarueLaurelLawrenceLeeLeslieLetcherLewisLincolnLivingstonLoganLyonMcCrackenMcCrearyMcLeanMadisonMagoffinMarionMarshallMartinMasonMeadeMenifeeMercerMetcalfeMonroeMontgomeryMorganMuhlenbergNelsonNicholasOhioOldhamOwenOwsleyPendletonPerryPikePowellPulaskiRobertsonRockcastleRowanRussellScottShelbySimpsonSpencerTaylorToddTriggTrimbleUnionWarrenWashingtonWayneWebsterWhitleyWolfeWoodfordAcadiaAllenAscensionAssumptionAvoyellesBeauregardBienvilleBossierCaddoCalcasieuCaldwellCameronCatahoulaClaiborneConcordiaDe_SotoEast_Baton_RougeEast_CarrollEast_FelicianaEvangelineFranklinGrantIberiaIbervilleJacksonJeffersonJefferson_DavisLafayetteLafourcheLa_SalleLincolnLivingstonMadisonMorehouseNatchitochesOrleansOuachitaPlaqueminesPointe_CoupeeRapidesRed_RiverRichlandSabineSt._BernardSt._CharlesSt._HelenaSt._JamesSt._John_the_BaptistSt._LandrySt._MartinSt._MarySt._TammanyTangipahoaTensasTerrebonneUnionVermilionVernonWashingtonWebsterWest_Baton_RougeWest_CarrollWest_FelicianaWinnAndroscogginAroostookCumberlandFranklinHancockKennebecKnoxLincolnOxfordPenobscotPiscataquisSagadahocSomersetWaldoWashingtonYorkAlleganyAnne_ArundelBaltimoreCalvertCarolineCarrollCecilCharlesDorchesterFrederickGarrettHarfordHowardKentMontgomeryPrince_George'sQueen_Anne'sSt._Mary'sSomersetTalbotWashingtonWicomicoWorcesterBaltimore_CityBarnstableBerkshireBristolDukesEssexFranklinHampdenHampshireMiddlesexNantucketNorfolkPlymouthSuffolkWorcesterAlconaAlgerAlleganAlpenaAntrimArenacBaragaBarryBayBenzieBerrienBranchCalhounCassCharlevoixCheboyganChippewaClareClintonCrawfordDeltaDickinsonEatonEmmetGeneseeGladwinGogebicGrand_TraverseGratiotHillsdaleHoughtonHuronInghamIoniaIoscoIronIsabellaJacksonKalamazooKalkaskaKentKeweenawLakeLapeerLeelanauLenaweeLivingstonLuceMackinacMacombManisteeMarquetteMasonMecostaMenomineeMidlandMissaukeeMonroeMontcalmMontmorencyMuskegonNewaygoOaklandOceanaOgemawOntonagonOsceolaOscodaOtsegoOttawaPresque_IsleRoscommonSaginawSt._ClairSt._JosephSanilacSchoolcraftShiawasseeTuscolaVan_BurenWashtenawWayneWexfordAitkinAnokaBeckerBeltramiBentonBig_StoneBlue_EarthBrownCarltonCarverCassChippewaChisagoClayClearwaterCookCottonwoodCrow_WingDakotaDodgeDouglasFaribaultFillmoreFreebornGoodhueGrantHennepinHoustonHubbardIsantiItascaJacksonKanabecKandiyohiKittsonKoochichingLac_qui_ParleLakeLake_of_the_WoodsLe_SueurLincolnLyonMcLeodMahnomenMarshallMartinMeekerMille_LacsMorrisonMowerMurrayNicolletNoblesNormanOlmstedOtter_TailPenningtonPinePipestonePolkPopeRamseyRed_LakeRedwoodRenvilleRiceRockRoseauSt._LouisScottSherburneSibleyStearnsSteeleStevensSwiftToddTraverseWabashaWadenaWasecaWashingtonWatonwanWilkinWinonaWrightYellow_MedicineAdamsAlcornAmiteAttalaBentonBolivarCalhounCarrollChickasawChoctawClaiborneClarkeClayCoahomaCopiahCovingtonDeSotoForrestFranklinGeorgeGreeneGrenadaHancockHarrisonHindsHolmesHumphreysItawambaJacksonJasperJeffersonJefferson_DavisJonesKemperLafayetteLamarLauderdaleLawrenceLeakeLeeLefloreLincolnLowndesMadisonMarionMarshallMonroeMontgomeryNeshobaNewtonNoxubeeOktibbehaPanolaPearl_RiverPerryPikePontotocPrentissQuitmanRankinScottSharkeySimpsonSmithStoneSunflowerTallahatchieTateTippahTishomingoTunicaUnionWalthallWarrenWashingtonWayneWebsterWilkinsonWinstonYalobushaYazooAdairAndrewAtchisonAudrainBarryBartonBatesBentonBollingerBooneBuchananButlerCaldwellCallawayCamdenCape_GirardeauCarrollCarterCassCedarCharitonChristianClarkClayClintonColeCooperCrawfordDadeDallasDaviessDeKalbDentDouglasDunklinFranklinGasconadeGentryGreeneGrundyHarrisonHenryHickoryHoltHowardHowellIronJacksonJasperJeffersonJohnsonKnoxLacledeLafayetteLawrenceLewisLincolnLinnLivingstonMcDonaldMaconMadisonMariesMarionMercerMillerMississippiMoniteauMonroeMontgomeryMorganNew_MadridNewtonNodawayOregonOsageOzarkPemiscotPerryPettisPhelpsPikePlattePolkPulaskiPutnamRallsRandolphRayReynoldsRipleySt._CharlesSt._ClairSte._GenevieveSt._FrancoisSt._LouisSalineSchuylerScotlandScottShannonShelbyStoddardStoneSullivanTaneyTexasVernonWarrenWashingtonWayneWebsterWorthWrightSt._Louis_CityBeaverheadBig_HornBlaineBroadwaterCarbonCascadeChouteauCusterDanielsDawsonDeer_LodgeFallonFergusFlatheadGallatinGlacierGraniteHillJeffersonJudith_BasinLakeLewis_and_ClarkLibertyLincolnMcConeMadisonMeagherMineralMissoulaMusselshellParkPhillipsPonderaPowder_RiverPowellRavalliRichlandRooseveltRosebudSandersSheridanSilver_BowStillwaterSweet_GrassTetonTooleValleyWheatlandYellowstoneAdamsAntelopeBooneBox_ButteBoydBrownBuffaloBurtButlerCassCedarChaseCherryCheyenneClayColfaxCumingCusterDakotaDawesDawsonDeuelDixonDodgeDouglasDundyFillmoreFranklinFrontierFurnasGageGardenGarfieldGosperGreeleyHallHamiltonHarlanHitchcockHoltHowardJeffersonJohnsonKearneyKeithKimballKnoxLancasterLincolnMadisonMerrickMorrillNanceNemahaNuckollsOtoePawneePerkinsPhelpsPiercePlattePolkRed_WillowRichardsonSalineSarpySaundersScotts_BluffSewardSheridanShermanStantonThayerThurstonValleyWashingtonWayneWebsterYorkChurchillClarkDouglasElkoEurekaHumboldtLanderLincolnLyonMineralNyePershingStoreyWashoeWhite_PineCarson_CityBelknapCarrollCheshireCoosGraftonHillsboroughMerrimackRockinghamStraffordSullivanAtlanticBergenBurlingtonCamdenCape_MayCumberlandEssexGloucesterHudsonHunterdonMercerMiddlesexMonmouthMorrisOceanPassaicSalemSomersetSussexUnionWarrenBernalilloCatronChavesCibolaColfaxCurryDe_BacaDona_AnaEddyGrantGuadalupeHidalgoLeaLincolnLos_AlamosLunaMcKinleyMoraOteroQuayRio_ArribaRooseveltSandovalSan_JuanSan_MiguelSanta_FeSierraSocorroTaosTorranceUnionValenciaAlbanyAlleganyBronxBroomeCattaraugusCayugaChautauquaChemungChenangoClintonColumbiaCortlandDelawareDutchessErieEssexFranklinFultonGeneseeGreeneHamiltonHerkimerJeffersonKingsLewisLivingstonMadisonMonroeMontgomeryNassauNew_YorkNiagaraOneidaOnondagaOntarioOrangeOrleansOswegoOtsegoPutnamQueensRensselaerRichmondRocklandSt._LawrenceSaratogaSchenectadySchoharieSchuylerSenecaSteubenSuffolkSullivanTiogaTompkinsUlsterWarrenWashingtonWayneWestchesterWyomingYatesAlamanceAlexanderAlleghanyAnsonAsheAveryBeaufortBertieBladenBrunswickBuncombeBurkeCabarrusCaldwellCamdenCarteretCaswellCatawbaChathamCherokeeChowanClayClevelandColumbusCravenCumberlandCurrituckDareDavidsonDavieDuplinDurhamEdgecombeForsythFranklinGastonGatesGrahamGranvilleGreeneGuilfordHalifaxHarnettHaywoodHendersonHertfordHokeHydeIredellJacksonJohnstonJonesLeeLenoirLincolnMcDowellMaconMadisonMartinMecklenburgMitchellMontgomeryMooreNashNew_HanoverNorthamptonOnslowOrangePamlicoPasquotankPenderPerquimansPersonPittPolkRandolphRichmondRobesonRockinghamRowanRutherfordSampsonScotlandStanlyStokesSurrySwainTransylvaniaTyrrellUnionVanceWakeWarrenWashingtonWataugaWayneWilkesWilsonYadkinYanceyAdamsBarnesBensonBottineauBowmanBurkeBurleighCassCavalierDickeyDivideDunnEddyEmmonsFosterGolden_ValleyGrand_ForksGrantGriggsHettingerKidderLaMoureLoganMcHenryMcIntoshMcKenzieMcLeanMercerMortonMountrailNelsonOliverPembinaPierceRamseyRansomRenvilleRichlandRoletteSargentSiouxStarkSteeleStutsmanTownerTraillWalshWardWellsWilliamsAdamsAllenAshlandAshtabulaAthensAuglaizeBelmontBrownButlerCarrollChampaignClarkClermontClintonColumbianaCoshoctonCrawfordCuyahogaDarkeDefianceDelawareErieFairfieldFayetteFranklinFultonGalliaGeaugaGreeneGuernseyHamiltonHancockHardinHarrisonHenryHighlandHockingHolmesHuronJacksonJeffersonKnoxLakeLawrenceLickingLoganLorainLucasMadisonMahoningMarionMedinaMeigsMercerMiamiMonroeMontgomeryMorganMorrowMuskingumNobleOttawaPauldingPerryPickawayPikePortagePreblePutnamRichlandRossSanduskySciotoSenecaShelbyStarkSummitTrumbullTuscarawasUnionVan_WertVintonWarrenWashingtonWayneWilliamsWoodWyandotAdairAlfalfaAtokaBeaverBeckhamBlaineBryanCaddoCanadianCarterCherokeeChoctawCimarronClevelandCoalComancheCottonCraigCreekCusterDelawareDeweyEllisGarfieldGarvinGradyGrantGreerHarmonHarperHaskellHughesJacksonJeffersonJohnstonKayKingfisherKiowaLatimerLe_FloreLincolnLoganLoveMcClainMcCurtainMcIntoshMajorMarshallMayesMurrayMuskogeeNobleNowataOkfuskeeOklahomaOkmulgeeOsageOttawaPawneePaynePittsburgPontotocPottawatomiePushmatahaRoger_MillsRogersSeminoleSequoyahStephensTexasTillmanTulsaWagonerWashingtonWashitaWoodsWoodwardBakerBentonClackamasClatsopColumbiaCoosCrookCurryDeschutesDouglasGilliamGrantHarneyHood_RiverJacksonJeffersonJosephineKlamathLakeLaneLincolnLinnMalheurMarionMorrowMultnomahPolkShermanTillamookUmatillaUnionWallowaWascoWashingtonYamhillAdamsAlleghenyArmstrongBeaverBedfordBerksBlairBradfordBucksButlerCambriaCameronCarbonCentreChesterClarionClearfieldClintonColumbiaCrawfordCumberlandDauphinDelawareElkErieFayetteForestFranklinFultonGreeneHuntingdonIndianaJeffersonJuniataLackawannaLancasterLawrenceLebanonLehighLuzerneLycomingMcKeanMercerMifflinMonroeMontgomeryMontourNorthamptonNorthumberlandPerryPhiladelphiaPikePotterSchuylkillSnyderSomersetSullivanSusquehannaTiogaUnionVenangoWarrenWashingtonWayneWestmorelandWyomingYorkBristolKentNewportProvidenceWashingtonAbbevilleAikenAllendaleAndersonBambergBarnwellBeaufortBerkeleyCalhounCharlestonCherokeeChesterChesterfieldClarendonColletonDarlingtonDillonDorchesterEdgefieldFairfieldFlorenceGeorgetownGreenvilleGreenwoodHamptonHorryJasperKershawLancasterLaurensLeeLexingtonMcCormickMarionMarlboroNewberryOconeeOrangeburgPickensRichlandSaludaSpartanburgSumterUnionWilliamsburgYorkAuroraBeadleBennettBon_HommeBrookingsBrownBruleBuffaloButteCharles_MixClarkClayCodingtonCorsonCusterDavisonDayDeuelDeweyDouglasEdmundsFall_RiverFaulkGrantGregoryHaakonHamlinHandHansonHughesHutchinsonJacksonJerauldKingsburyLakeLawrenceLincolnLymanMcCookMcPhersonMarshallMeadeMelletteMinerMinnehahaMoodyOglala_LakotaPenningtonPerkinsPotterRobertsSanbornSpinkStanleyToddTrippTurnerUnionWalworthYanktonZiebachAndersonBedfordBentonBledsoeBlountBradleyCampbellCannonCarrollCarterCheathamChesterClaiborneClayCockeCoffeeCrockettCumberlandDavidsonDecaturDeKalbDicksonDyerFayetteFentressFranklinGibsonGilesGraingerGreeneGrundyHamblenHamiltonHancockHardemanHardinHawkinsHaywoodHendersonHenryHickmanHoustonHumphreysJacksonJeffersonJohnsonKnoxLakeLauderdaleLawrenceLewisLincolnLoudonMcMinnMcNairyMaconMadisonMarionMarshallMauryMeigsMonroeMontgomeryMooreMorganObionOvertonPerryPickettPolkPutnamRheaRoaneRobertsonRutherfordScottSequatchieSevierShelbySmithStewartSullivanSumnerTiptonTrousdaleUnicoiUnionVan_BurenWarrenWashingtonWayneWeakleyWhiteWilliamsonWilsonAndersonAndrewsAngelinaAransasArcherArmstrongAtascosaAustinBaileyBanderaBastropBaylorBeeBellBexarBlancoBosqueBowieBrazoriaBrazosBrewsterBrooksBrownBurlesonBurnetCaldwellCalhounCallahanCameronCampCarsonCassCastroChambersCherokeeChildressClayCochranCokeColemanCollinCollingsworthColoradoComalComancheConchoCookeCoryellCraneCrockettCrosbyCulbersonDallamDallasDawsonDeaf_SmithDeltaDentonDeWittDickensDimmitDonleyDuvalEastlandEctorEdwardsEllisEl_PasoErathFallsFanninFayetteFisherFloydFort_BendFranklinFreestoneFrioGainesGalvestonGarzaGillespieGoliadGonzalesGrayGraysonGreggGrimesGuadalupeHaleHallHamiltonHansfordHardemanHardinHarrisHarrisonHartleyHaskellHaysHemphillHendersonHidalgoHillHockleyHoodHopkinsHoustonHowardHudspethHuntHutchinsonJackJacksonJasperJeff_DavisJeffersonJim_HoggJim_WellsJohnsonJonesKarnesKaufmanKendallKerrKimbleKinneyKlebergKnoxLamarLambLampasasLa_SalleLavacaLeeLeonLibertyLimestoneLipscombLive_OakLlanoLubbockLynnMcCullochMcLennanMadisonMarionMartinMasonMatagordaMaverickMedinaMenardMidlandMilamMillsMitchellMontagueMontgomeryMooreMorrisNacogdochesNavarroNewtonNolanNuecesOchiltreeOldhamOrangePalo_PintoPanolaParkerParmerPecosPolkPotterPresidioRainsRandallReaganRealRed_RiverReevesRefugioRobertsonRockwallRunnelsRuskSabineSan_AugustineSan_JacintoSan_PatricioSan_SabaSchleicherScurryShackelfordShelbyShermanSmithSomervellStarrStephensSuttonSwisherTarrantTaylorTerryTitusTom_GreenTravisTrinityTylerUpshurUptonUvaldeVal_VerdeVan_ZandtVictoriaWalkerWallerWardWashingtonWebbWhartonWheelerWichitaWilbargerWillacyWilliamsonWilsonWinklerWiseWoodYoakumYoungZapataZavalaBeaverBox_ElderCacheCarbonDavisDuchesneEmeryGarfieldGrandIronJuabKaneMillardMorganRichSalt_LakeSan_JuanSanpeteSevierSummitTooeleUintahUtahWasatchWashingtonWayneWeberAddisonBenningtonCaledoniaChittendenEssexFranklinGrand_IsleLamoilleOrangeOrleansRutlandWashingtonWindhamWindsorAccomackAlbemarleAlleghanyAmeliaAmherstAppomattoxArlingtonAugustaBathBedfordBlandBotetourtBrunswickBuchananBuckinghamCampbellCarolineCarrollCharles_CityCharlotteChesterfieldClarkeCraigCulpeperCumberlandDickensonDinwiddieEssexFairfaxFauquierFloydFluvannaFranklinFrederickGilesGloucesterGoochlandGraysonGreeneGreensvilleHalifaxHanoverHenricoHenryHighlandIsle_of_WightJames_CityKing_and_QueenKing_GeorgeKing_WilliamLancasterLeeLoudounLouisaLunenburgMadisonMathewsMecklenburgMiddlesexMontgomeryNelsonNew_KentNorthamptonNorthumberlandNottowayOrangePagePatrickPittsylvaniaPowhatanPrince_EdwardPrince_GeorgePrince_WilliamPulaskiRappahannockRichmondRoanokeRockbridgeRockinghamRussellScottShenandoahSmythSouthamptonSpotsylvaniaStaffordSurrySussexTazewellWarrenWashingtonWestmorelandWiseWytheYorkAlexandria_CityBristol_CityBuena_Vista_CityCharlottesville_CityChesapeake_CityColonial_Heights_CityCovington_CityDanville_CityEmporia_CityFairfax_CityFalls_Church_CityFranklin_CityFredericksburg_CityGalax_CityHampton_CityHarrisonburg_CityHopewell_CityLexington_CityLynchburg_CityManassas_CityManassas_Park_CityMartinsville_CityNewport_News_CityNorfolk_CityNorton_CityPetersburg_CityPoquoson_CityPortsmouth_CityRadford_CityRichmond_CityRoanoke_CitySalem_CityStaunton_CitySuffolk_CityVirginia_Beach_CityWaynesboro_CityWilliamsburg_CityWinchester_CityAdamsAsotinBentonChelanClallamClarkColumbiaCowlitzDouglasFerryFranklinGarfieldGrantGrays_HarborIslandJeffersonKingKitsapKittitasKlickitatLewisLincolnMasonOkanoganPacificPend_OreillePierceSan_JuanSkagitSkamaniaSnohomishSpokaneStevensThurstonWahkiakumWalla_WallaWhatcomWhitmanYakimaBarbourBerkeleyBooneBraxtonBrookeCabellCalhounClayDoddridgeFayetteGilmerGrantGreenbrierHampshireHancockHardyHarrisonJacksonJeffersonKanawhaLewisLincolnLoganMcDowellMarionMarshallMasonMercerMineralMingoMonongaliaMonroeMorganNicholasOhioPendletonPleasantsPocahontasPrestonPutnamRaleighRandolphRitchieRoaneSummersTaylorTuckerTylerUpshurWayneWebsterWetzelWirtWoodWyomingAdamsAshlandBarronBayfieldBrownBuffaloBurnettCalumetChippewaClarkColumbiaCrawfordDaneDodgeDoorDouglasDunnEau_ClaireFlorenceFond_du_LacForestGrantGreenGreen_LakeIowaIronJacksonJeffersonJuneauKenoshaKewauneeLa_CrosseLafayetteLangladeLincolnManitowocMarathonMarinetteMarquetteMenomineeMilwaukeeMonroeOcontoOneidaOutagamieOzaukeePepinPiercePolkPortagePriceRacineRichlandRockRuskSt._CroixSaukSawyerShawanoSheboyganTaylorTrempealeauVernonVilasWalworthWashburnWashingtonWaukeshaWaupacaWausharaWinnebagoWoodAlbanyBig_HornCampbellCarbonConverseCrookFremontGoshenHot_SpringsJohnsonLaramieLincolnNatronaNiobraraParkPlatteSheridanSubletteSweetwaterTetonUintaWashakieWeston to numeric"
     ]
    },
    {
     "data": {
      "text/plain": [
       "<Figure size 432x288 with 0 Axes>"
      ]
     },
     "metadata": {},
     "output_type": "display_data"
    }
   ],
   "source": [
    "for i, column in enumerate(df.drop([\"State\"], axis=1).columns):\n",
    "    plt.figure(i)\n",
    "    min_x = (df[column].mean()-(2*df[column].std()))\n",
    "    max_x = (df[column].mean()+(2*df[column].std()))\n",
    "    sns.kdeplot(df[column], clip=(min_x, max_x))"
   ]
  },
  {
   "cell_type": "markdown",
   "metadata": {},
   "source": [
    "#### Transform numerical columns using log"
   ]
  },
  {
   "cell_type": "code",
   "execution_count": 4,
   "metadata": {},
   "outputs": [
    {
     "data": {
      "image/png": "[encoded data removed]",
      "text/plain": [
       "<Figure size 432x288 with 1 Axes>"
      ]
     },
     "metadata": {
      "needs_background": "light"
     },
     "output_type": "display_data"
    },
    {
     "data": {
      "image/png": "[encoded data removed]",
      "text/plain": [
       "<Figure size 432x288 with 1 Axes>"
      ]
     },
     "metadata": {
      "needs_background": "light"
     },
     "output_type": "display_data"
    },
    {
     "data": {
      "image/png": "[encoded data removed]",
      "text/plain": [
       "<Figure size 432x288 with 1 Axes>"
      ]
     },
     "metadata": {
      "needs_background": "light"
     },
     "output_type": "display_data"
    },
    {
     "data": {
      "image/png": "[encoded data removed]",
      "text/plain": [
       "<Figure size 432x288 with 1 Axes>"
      ]
     },
     "metadata": {
      "needs_background": "light"
     },
     "output_type": "display_data"
    },
    {
     "data": {
      "image/png": "[encoded data removed]",
      "text/plain": [
       "<Figure size 432x288 with 1 Axes>"
      ]
     },
     "metadata": {
      "needs_background": "light"
     },
     "output_type": "display_data"
    },
    {
     "data": {
      "image/png": "[encoded data removed]",
      "text/plain": [
       "<Figure size 432x288 with 1 Axes>"
      ]
     },
     "metadata": {
      "needs_background": "light"
     },
     "output_type": "display_data"
    }
   ],
   "source": [
    "to_log = [\"%_Not_Proficient_in_English\", \"Population\" ,\"Drug_Overdose_Mortality_Rate\", \"%_Uninsured_adults\",\"MV_Mortality_Rate\", \"%_Uninsured_adults\"]\n",
    "# to_categories = [\"Other_PCP_Rate\",\"Population\", \"%_Rural\"] #Maybe!\n",
    "# [\"%_Limited_Access_Healthy_Food\"]   <= to many std away from mean at the lower end of the tail\n",
    "for i, column in enumerate(to_log):\n",
    "    df[column]=df[column].replace(0,0.1)\n",
    "    df[column] = df[column].map(lambda x: np.log(np.sqrt(x)))\n",
    "    plt.figure(i)\n",
    "    sns.kdeplot(df[column])"
   ]
  },
  {
   "cell_type": "markdown",
   "metadata": {},
   "source": [
    "#### Check for normality"
   ]
  },
  {
   "cell_type": "code",
   "execution_count": 5,
   "metadata": {},
   "outputs": [],
   "source": [
    "#fig = sm.graphics.qqplot(model.resid, dist=stats.norm, line='45', fit=True)"
   ]
  },
  {
   "cell_type": "markdown",
   "metadata": {},
   "source": [
    "#### Normalize numerical columns"
   ]
  },
  {
   "cell_type": "code",
   "execution_count": 9,
   "metadata": {},
   "outputs": [],
   "source": [
    "for column in df.columns:\n",
    "    if column in [\"State\",\"County\"]:\n",
    "        continue\n",
    "    df[column] = scale(df[column])"
   ]
  },
  {
   "cell_type": "code",
   "execution_count": 10,
   "metadata": {},
   "outputs": [
    {
     "data": {
      "text/html": [
       "<div>\n",
       "<style scoped>\n",
       "    .dataframe tbody tr th:only-of-type {\n",
       "        vertical-align: middle;\n",
       "    }\n",
       "\n",
       "    .dataframe tbody tr th {\n",
       "        vertical-align: top;\n",
       "    }\n",
       "\n",
       "    .dataframe thead th {\n",
       "        text-align: right;\n",
       "    }\n",
       "</style>\n",
       "<table border=\"1\" class=\"dataframe\">\n",
       "  <thead>\n",
       "    <tr style=\"text-align: right;\">\n",
       "      <th></th>\n",
       "      <th>State</th>\n",
       "      <th>Life_Expectancy</th>\n",
       "      <th>Child_Mortality_Rate</th>\n",
       "      <th>Infant_Mortality_Rate</th>\n",
       "      <th>%_Frequent_Mental_Distress</th>\n",
       "      <th>%_Diabetic</th>\n",
       "      <th>%_Food_Insecure</th>\n",
       "      <th>%_Limited_Access_Healthy_Food</th>\n",
       "      <th>Drug_Overdose_Mortality_Rate</th>\n",
       "      <th>MV_Mortality_Rate</th>\n",
       "      <th>...</th>\n",
       "      <th>Homicide_Rate</th>\n",
       "      <th>Firearm_Fatalities_Rate</th>\n",
       "      <th>%_Homeowners</th>\n",
       "      <th>%_Severe_Housing_Cost_Burden</th>\n",
       "      <th>Population</th>\n",
       "      <th>%_&lt;_18</th>\n",
       "      <th>%_65_and_over</th>\n",
       "      <th>%_Not_Proficient_in_English</th>\n",
       "      <th>%_Female</th>\n",
       "      <th>%_Rural</th>\n",
       "    </tr>\n",
       "  </thead>\n",
       "  <tbody>\n",
       "    <tr>\n",
       "      <th>0</th>\n",
       "      <td>Alabama</td>\n",
       "      <td>-0.371324</td>\n",
       "      <td>-0.306073</td>\n",
       "      <td>0.718963</td>\n",
       "      <td>0.211897</td>\n",
       "      <td>0.977260</td>\n",
       "      <td>-0.075345</td>\n",
       "      <td>0.516505</td>\n",
       "      <td>-1.243045</td>\n",
       "      <td>0.472793</td>\n",
       "      <td>...</td>\n",
       "      <td>-0.211266</td>\n",
       "      <td>0.517840</td>\n",
       "      <td>0.238807</td>\n",
       "      <td>0.296842</td>\n",
       "      <td>0.406213</td>\n",
       "      <td>0.487033</td>\n",
       "      <td>-0.789993</td>\n",
       "      <td>0.101027</td>\n",
       "      <td>0.636198</td>\n",
       "      <td>-0.500545</td>\n",
       "    </tr>\n",
       "    <tr>\n",
       "      <th>1</th>\n",
       "      <td>Alabama</td>\n",
       "      <td>0.384829</td>\n",
       "      <td>-0.615404</td>\n",
       "      <td>-0.380349</td>\n",
       "      <td>0.309501</td>\n",
       "      <td>-0.136557</td>\n",
       "      <td>-0.338073</td>\n",
       "      <td>-0.366922</td>\n",
       "      <td>-0.092050</td>\n",
       "      <td>-0.146981</td>\n",
       "      <td>...</td>\n",
       "      <td>-0.857775</td>\n",
       "      <td>-0.010890</td>\n",
       "      <td>0.185683</td>\n",
       "      <td>0.338058</td>\n",
       "      <td>1.357614</td>\n",
       "      <td>-0.123367</td>\n",
       "      <td>0.276020</td>\n",
       "      <td>-0.333338</td>\n",
       "      <td>0.685643</td>\n",
       "      <td>-0.491667</td>\n",
       "    </tr>\n",
       "    <tr>\n",
       "      <th>2</th>\n",
       "      <td>Alabama</td>\n",
       "      <td>-0.554998</td>\n",
       "      <td>0.866368</td>\n",
       "      <td>1.162393</td>\n",
       "      <td>1.268450</td>\n",
       "      <td>2.436746</td>\n",
       "      <td>2.265321</td>\n",
       "      <td>0.348145</td>\n",
       "      <td>0.001419</td>\n",
       "      <td>0.531696</td>\n",
       "      <td>...</td>\n",
       "      <td>0.294698</td>\n",
       "      <td>0.117287</td>\n",
       "      <td>-1.098089</td>\n",
       "      <td>0.554329</td>\n",
       "      <td>-0.151158</td>\n",
       "      <td>-0.440395</td>\n",
       "      <td>0.028177</td>\n",
       "      <td>0.368536</td>\n",
       "      <td>-1.203501</td>\n",
       "      <td>0.326098</td>\n",
       "    </tr>\n",
       "    <tr>\n",
       "      <th>3</th>\n",
       "      <td>Alabama</td>\n",
       "      <td>-1.171938</td>\n",
       "      <td>2.574230</td>\n",
       "      <td>4.938856</td>\n",
       "      <td>0.326180</td>\n",
       "      <td>1.246113</td>\n",
       "      <td>0.497879</td>\n",
       "      <td>-0.746678</td>\n",
       "      <td>0.567374</td>\n",
       "      <td>0.917252</td>\n",
       "      <td>...</td>\n",
       "      <td>0.632007</td>\n",
       "      <td>1.094637</td>\n",
       "      <td>0.495963</td>\n",
       "      <td>-0.772784</td>\n",
       "      <td>-0.228131</td>\n",
       "      <td>-0.486459</td>\n",
       "      <td>-0.590598</td>\n",
       "      <td>-0.436054</td>\n",
       "      <td>-1.550998</td>\n",
       "      <td>0.344145</td>\n",
       "    </tr>\n",
       "    <tr>\n",
       "      <th>4</th>\n",
       "      <td>Alabama</td>\n",
       "      <td>-0.948817</td>\n",
       "      <td>0.814787</td>\n",
       "      <td>-0.182044</td>\n",
       "      <td>0.842233</td>\n",
       "      <td>1.015668</td>\n",
       "      <td>-0.648569</td>\n",
       "      <td>-0.709208</td>\n",
       "      <td>0.819087</td>\n",
       "      <td>0.952828</td>\n",
       "      <td>...</td>\n",
       "      <td>0.407134</td>\n",
       "      <td>0.838283</td>\n",
       "      <td>0.887764</td>\n",
       "      <td>-0.920292</td>\n",
       "      <td>0.437531</td>\n",
       "      <td>0.315453</td>\n",
       "      <td>-0.188704</td>\n",
       "      <td>0.689888</td>\n",
       "      <td>0.343799</td>\n",
       "      <td>1.036519</td>\n",
       "    </tr>\n",
       "  </tbody>\n",
       "</table>\n",
       "<p>5 rows × 26 columns</p>\n",
       "</div>"
      ],
      "text/plain": [
       "     State  Life_Expectancy  Child_Mortality_Rate  Infant_Mortality_Rate  \\\n",
       "0  Alabama        -0.371324             -0.306073               0.718963   \n",
       "1  Alabama         0.384829             -0.615404              -0.380349   \n",
       "2  Alabama        -0.554998              0.866368               1.162393   \n",
       "3  Alabama        -1.171938              2.574230               4.938856   \n",
       "4  Alabama        -0.948817              0.814787              -0.182044   \n",
       "\n",
       "   %_Frequent_Mental_Distress  %_Diabetic  %_Food_Insecure  \\\n",
       "0                    0.211897    0.977260        -0.075345   \n",
       "1                    0.309501   -0.136557        -0.338073   \n",
       "2                    1.268450    2.436746         2.265321   \n",
       "3                    0.326180    1.246113         0.497879   \n",
       "4                    0.842233    1.015668        -0.648569   \n",
       "\n",
       "   %_Limited_Access_Healthy_Food  Drug_Overdose_Mortality_Rate  \\\n",
       "0                       0.516505                     -1.243045   \n",
       "1                      -0.366922                     -0.092050   \n",
       "2                       0.348145                      0.001419   \n",
       "3                      -0.746678                      0.567374   \n",
       "4                      -0.709208                      0.819087   \n",
       "\n",
       "   MV_Mortality_Rate  ...  Homicide_Rate  Firearm_Fatalities_Rate  \\\n",
       "0           0.472793  ...      -0.211266                 0.517840   \n",
       "1          -0.146981  ...      -0.857775                -0.010890   \n",
       "2           0.531696  ...       0.294698                 0.117287   \n",
       "3           0.917252  ...       0.632007                 1.094637   \n",
       "4           0.952828  ...       0.407134                 0.838283   \n",
       "\n",
       "   %_Homeowners  %_Severe_Housing_Cost_Burden  Population    %_<_18  \\\n",
       "0      0.238807                      0.296842    0.406213  0.487033   \n",
       "1      0.185683                      0.338058    1.357614 -0.123367   \n",
       "2     -1.098089                      0.554329   -0.151158 -0.440395   \n",
       "3      0.495963                     -0.772784   -0.228131 -0.486459   \n",
       "4      0.887764                     -0.920292    0.437531  0.315453   \n",
       "\n",
       "   %_65_and_over  %_Not_Proficient_in_English  %_Female   %_Rural  \n",
       "0      -0.789993                     0.101027  0.636198 -0.500545  \n",
       "1       0.276020                    -0.333338  0.685643 -0.491667  \n",
       "2       0.028177                     0.368536 -1.203501  0.326098  \n",
       "3      -0.590598                    -0.436054 -1.550998  0.344145  \n",
       "4      -0.188704                     0.689888  0.343799  1.036519  \n",
       "\n",
       "[5 rows x 26 columns]"
      ]
     },
     "execution_count": 10,
     "metadata": {},
     "output_type": "execute_result"
    }
   ],
   "source": [
    "df.head()"
   ]
  },
  {
   "cell_type": "markdown",
   "metadata": {},
   "source": [
    "#### Turn State column into category"
   ]
  },
  {
   "cell_type": "code",
   "execution_count": 11,
   "metadata": {},
   "outputs": [],
   "source": [
    "df[\"State\"] = df[\"State\"].astype('category')"
   ]
  },
  {
   "cell_type": "markdown",
   "metadata": {},
   "source": [
    "#### Creating dummy variables"
   ]
  },
  {
   "cell_type": "code",
   "execution_count": 12,
   "metadata": {},
   "outputs": [],
   "source": [
    "df[\"State\"] = df[\"State\"].cat.codes"
   ]
  },
  {
   "cell_type": "code",
   "execution_count": 13,
   "metadata": {},
   "outputs": [
    {
     "name": "stdout",
     "output_type": "stream",
     "text": [
      "                            OLS Regression Results                            \n",
      "==============================================================================\n",
      "Dep. Variable:        Life_Expectancy   R-squared:                       0.698\n",
      "Model:                            OLS   Adj. R-squared:                  0.695\n",
      "Method:                 Least Squares   F-statistic:                     281.4\n",
      "Date:                Mon, 13 Jan 2020   Prob (F-statistic):               0.00\n",
      "Time:                        14:45:33   Log-Likelihood:                -2521.9\n",
      "No. Observations:                3073   AIC:                             5096.\n",
      "Df Residuals:                    3047   BIC:                             5253.\n",
      "Df Model:                          25                                         \n",
      "Covariance Type:            nonrobust                                         \n",
      "=================================================================================================\n",
      "                                    coef    std err          t      P>|t|      [0.025      0.975]\n",
      "-------------------------------------------------------------------------------------------------\n",
      "const                             0.0744      0.022      3.421      0.001       0.032       0.117\n",
      "State                            -0.0028      0.001     -3.848      0.000      -0.004      -0.001\n",
      "Child_Mortality_Rate             -0.1031      0.014     -7.253      0.000      -0.131      -0.075\n",
      "Infant_Mortality_Rate            -0.0196      0.015     -1.332      0.183      -0.048       0.009\n",
      "%_Frequent_Mental_Distress       -0.0733      0.022     -3.309      0.001      -0.117      -0.030\n",
      "%_Diabetic                       -0.1710      0.020     -8.669      0.000      -0.210      -0.132\n",
      "%_Food_Insecure                  -0.1194      0.019     -6.274      0.000      -0.157      -0.082\n",
      "%_Limited_Access_Healthy_Food     0.0317      0.011      2.802      0.005       0.010       0.054\n",
      "Drug_Overdose_Mortality_Rate     -0.1220      0.013     -9.405      0.000      -0.147      -0.097\n",
      "MV_Mortality_Rate                -0.1972      0.015    -12.921      0.000      -0.227      -0.167\n",
      "%_Insufficient_Sleep             -0.0897      0.019     -4.835      0.000      -0.126      -0.053\n",
      "%_Uninsured_adults                0.0025      0.019      0.129      0.897      -0.035       0.040\n",
      "%_Uninsured_children              0.0469      0.018      2.670      0.008       0.012       0.081\n",
      "Other_PCP_Rate                   -0.0577      0.011     -5.296      0.000      -0.079      -0.036\n",
      "%_Disconnected_Youth             -0.0061      0.012     -0.511      0.609      -0.029       0.017\n",
      "Household_Median_Income           0.2408      0.019     12.544      0.000       0.203       0.278\n",
      "Homicide_Rate                     0.0435      0.014      3.019      0.003       0.015       0.072\n",
      "Firearm_Fatalities_Rate          -0.0792      0.014     -5.713      0.000      -0.106      -0.052\n",
      "%_Homeowners                     -0.0265      0.017     -1.551      0.121      -0.060       0.007\n",
      "%_Severe_Housing_Cost_Burden      0.0244      0.016      1.555      0.120      -0.006       0.055\n",
      "Population                        0.0153      0.019      0.792      0.428      -0.023       0.053\n",
      "%_<_18                           -0.1721      0.017     -9.914      0.000      -0.206      -0.138\n",
      "%_65_and_over                     0.0744      0.020      3.629      0.000       0.034       0.115\n",
      "%_Not_Proficient_in_English       0.1068      0.014      7.504      0.000       0.079       0.135\n",
      "%_Female                         -0.0018      0.014     -0.134      0.893      -0.028       0.025\n",
      "%_Rural                           0.1058      0.019      5.692      0.000       0.069       0.142\n",
      "==============================================================================\n",
      "Omnibus:                      706.388   Durbin-Watson:                   1.908\n",
      "Prob(Omnibus):                  0.000   Jarque-Bera (JB):             9233.921\n",
      "Skew:                           0.715   Prob(JB):                         0.00\n",
      "Kurtosis:                      11.371   Cond. No.                         89.2\n",
      "==============================================================================\n",
      "\n",
      "Warnings:\n",
      "[1] Standard Errors assume that the covariance matrix of the errors is correctly specified.\n"
     ]
    },
    {
     "name": "stderr",
     "output_type": "stream",
     "text": [
      "/home/locsta/.local/lib/python3.7/site-packages/numpy/core/fromnumeric.py:2495: FutureWarning: Method .ptp is deprecated and will be removed in a future version. Use numpy.ptp instead.\n",
      "  return ptp(axis=axis, out=out, **kwargs)\n"
     ]
    }
   ],
   "source": [
    "from statsmodels.formula.api import ols\n",
    "# Fitting the actual model\n",
    "y = df[\"Life_Expectancy\"].astype('float')\n",
    "X = sm.add_constant(df.drop([\"Life_Expectancy\"], axis=1).astype('float'))\n",
    "model = sm.OLS(y, X)\n",
    "results = model.fit()\n",
    "print(results.summary())"
   ]
  },
  {
   "cell_type": "markdown",
   "metadata": {},
   "source": [
    "#### Dropping columns with high p-values"
   ]
  },
  {
   "cell_type": "code",
   "execution_count": 15,
   "metadata": {},
   "outputs": [],
   "source": [
    "to_drop = [\"Infant_Mortality_Rate\", \"%_Uninsured_adults\", \"%_Disconnected_Youth\", \"%_Homeowners\", \"%_Severe_Housing_Cost_Burden\", \"Population\", \"%_Female\"]\n",
    "for col in to_drop:\n",
    "    df = df.drop([col], axis=1)"
   ]
  },
  {
   "cell_type": "code",
   "execution_count": 17,
   "metadata": {},
   "outputs": [
    {
     "name": "stdout",
     "output_type": "stream",
     "text": [
      "                            OLS Regression Results                            \n",
      "==============================================================================\n",
      "Dep. Variable:        Life_Expectancy   R-squared:                       0.697\n",
      "Model:                            OLS   Adj. R-squared:                  0.695\n",
      "Method:                 Least Squares   F-statistic:                     389.6\n",
      "Date:                Mon, 13 Jan 2020   Prob (F-statistic):               0.00\n",
      "Time:                        14:49:17   Log-Likelihood:                -2527.5\n",
      "No. Observations:                3073   AIC:                             5093.\n",
      "Df Residuals:                    3054   BIC:                             5208.\n",
      "Df Model:                          18                                         \n",
      "Covariance Type:            nonrobust                                         \n",
      "=================================================================================================\n",
      "                                    coef    std err          t      P>|t|      [0.025      0.975]\n",
      "-------------------------------------------------------------------------------------------------\n",
      "const                             0.0778      0.022      3.596      0.000       0.035       0.120\n",
      "State                            -0.0030      0.001     -4.051      0.000      -0.004      -0.002\n",
      "Child_Mortality_Rate             -0.1110      0.013     -8.593      0.000      -0.136      -0.086\n",
      "%_Frequent_Mental_Distress       -0.0620      0.021     -2.915      0.004      -0.104      -0.020\n",
      "%_Diabetic                       -0.1885      0.018    -10.277      0.000      -0.224      -0.153\n",
      "%_Food_Insecure                  -0.1000      0.018     -5.621      0.000      -0.135      -0.065\n",
      "%_Limited_Access_Healthy_Food     0.0302      0.011      2.755      0.006       0.009       0.052\n",
      "Drug_Overdose_Mortality_Rate     -0.1250      0.013     -9.882      0.000      -0.150      -0.100\n",
      "MV_Mortality_Rate                -0.2049      0.015    -13.709      0.000      -0.234      -0.176\n",
      "%_Insufficient_Sleep             -0.0873      0.018     -4.816      0.000      -0.123      -0.052\n",
      "%_Uninsured_children              0.0446      0.013      3.411      0.001       0.019       0.070\n",
      "Other_PCP_Rate                   -0.0529      0.011     -5.036      0.000      -0.074      -0.032\n",
      "Household_Median_Income           0.2430      0.017     13.941      0.000       0.209       0.277\n",
      "Homicide_Rate                     0.0402      0.014      2.857      0.004       0.013       0.068\n",
      "Firearm_Fatalities_Rate          -0.0793      0.014     -5.870      0.000      -0.106      -0.053\n",
      "%_<_18                           -0.1836      0.015    -12.523      0.000      -0.212      -0.155\n",
      "%_65_and_over                     0.0663      0.017      3.830      0.000       0.032       0.100\n",
      "%_Not_Proficient_in_English       0.1186      0.013      8.997      0.000       0.093       0.144\n",
      "%_Rural                           0.0873      0.015      5.810      0.000       0.058       0.117\n",
      "==============================================================================\n",
      "Omnibus:                      705.697   Durbin-Watson:                   1.905\n",
      "Prob(Omnibus):                  0.000   Jarque-Bera (JB):             9298.991\n",
      "Skew:                           0.712   Prob(JB):                         0.00\n",
      "Kurtosis:                      11.402   Cond. No.                         78.3\n",
      "==============================================================================\n",
      "\n",
      "Warnings:\n",
      "[1] Standard Errors assume that the covariance matrix of the errors is correctly specified.\n"
     ]
    }
   ],
   "source": [
    "y = df[\"Life_Expectancy\"].astype('float')\n",
    "X = sm.add_constant(df.drop([\"Life_Expectancy\"], axis=1).astype('float'))\n",
    "model = sm.OLS(y, X)\n",
    "results = model.fit()\n",
    "print(results.summary())"
   ]
  },
  {
   "cell_type": "markdown",
   "metadata": {},
   "source": [
    "#### Verify non multicollinearity over 75%"
   ]
  },
  {
   "cell_type": "code",
   "execution_count": 22,
   "metadata": {},
   "outputs": [
    {
     "data": {
      "image/png": "[encoded data removed]",
      "text/plain": [
       "<Figure size 792x648 with 2 Axes>"
      ]
     },
     "metadata": {},
     "output_type": "display_data"
    }
   ],
   "source": [
    "print_corr(df, 0.75)"
   ]
  },
  {
   "cell_type": "markdown",
   "metadata": {},
   "source": [
    "### Cross-validation"
   ]
  },
  {
   "cell_type": "code",
   "execution_count": 23,
   "metadata": {},
   "outputs": [],
   "source": [
    "regression = LinearRegression()\n",
    "crossvalidation = KFold(n_splits=10, shuffle=True, random_state=10)\n",
    "\n",
    "y = df[\"Life_Expectancy\"].astype('float')\n",
    "X = df.drop([\"Life_Expectancy\"], axis=1).astype('float')\n",
    "\n",
    "baseline = np.mean(cross_val_score(regression, X, y, scoring='r2', cv=crossvalidation))"
   ]
  },
  {
   "cell_type": "markdown",
   "metadata": {},
   "source": [
    "#### Baseline R-Squared"
   ]
  },
  {
   "cell_type": "code",
   "execution_count": 24,
   "metadata": {},
   "outputs": [
    {
     "name": "stdout",
     "output_type": "stream",
     "text": [
      "The baseline R-Squared is 0.6901248692448776\n"
     ]
    }
   ],
   "source": [
    "print(f\"The baseline R-Squared is {baseline}\")"
   ]
  },
  {
   "cell_type": "markdown",
   "metadata": {},
   "source": [
    "### Feature Engineering"
   ]
  },
  {
   "cell_type": "markdown",
   "metadata": {},
   "source": [
    "#### Interactions"
   ]
  },
  {
   "cell_type": "code",
   "execution_count": 25,
   "metadata": {},
   "outputs": [],
   "source": [
    "from itertools import combinations\n",
    "combinations = list(combinations(X.columns, 2))"
   ]
  },
  {
   "cell_type": "code",
   "execution_count": 26,
   "metadata": {},
   "outputs": [
    {
     "name": "stdout",
     "output_type": "stream",
     "text": [
      "Top 7 interactions: [('%_Diabetic', '%_Insufficient_Sleep', 0.698), ('%_Food_Insecure', '%_Uninsured_children', 0.695), ('%_Limited_Access_Healthy_Food', '%_<_18', 0.695), ('%_Food_Insecure', '%_<_18', 0.694), ('State', '%_Food_Insecure', 0.693), ('%_Frequent_Mental_Distress', '%_Diabetic', 0.693), ('%_Frequent_Mental_Distress', '%_Limited_Access_Healthy_Food', 0.693)]\n"
     ]
    }
   ],
   "source": [
    "interactions = []\n",
    "data = X.copy()\n",
    "for comb in combinations:\n",
    "    data['interaction'] = data[comb[0]] * data[comb[1]]\n",
    "    score = np.mean(cross_val_score(regression, data, y, scoring='r2', cv=crossvalidation))\n",
    "    if score > baseline: interactions.append((comb[0], comb[1], round(score, 3)))\n",
    "            \n",
    "print('Top 7 interactions: %s' %sorted(interactions, key=lambda inter: inter[2], reverse=True)[:7])\n",
    "data = data.drop([\"interaction\"], axis=1)"
   ]
  },
  {
   "cell_type": "markdown",
   "metadata": {},
   "source": [
    "#### Polynomial"
   ]
  },
  {
   "cell_type": "code",
   "execution_count": 27,
   "metadata": {},
   "outputs": [
    {
     "name": "stdout",
     "output_type": "stream",
     "text": [
      "Top 10 polynomials: [('State', 2, 0.692), ('Child_Mortality_Rate', 2, 0.692), ('%_Frequent_Mental_Distress', 2, 0.692), ('%_Diabetic', 2, 0.692), ('%_Food_Insecure', 2, 0.692), ('%_Limited_Access_Healthy_Food', 2, 0.692), ('Drug_Overdose_Mortality_Rate', 2, 0.692), ('MV_Mortality_Rate', 2, 0.692), ('%_Insufficient_Sleep', 2, 0.692), ('%_Uninsured_children', 2, 0.692)]\n"
     ]
    }
   ],
   "source": [
    "polynomials = []\n",
    "X_train, X_test, y_train, y_test = train_test_split(X, y, test_size=0.25, random_state=42)\n",
    "colors = ['yellow', 'lightgreen', 'blue']\n",
    "for col in X_train.columns:\n",
    "    for index, degree in enumerate([2, 3, 4]):\n",
    "        #Instantiate PolynomialFeatures\n",
    "        poly = PolynomialFeatures(degree)\n",
    "\n",
    "        #Fit and transform X_train\n",
    "        X_poly_train = poly.fit_transform(X_train)\n",
    "\n",
    "        #Instantiate and fit a linear regression model to the polynomial transformed train features\n",
    "        lm = LinearRegression()\n",
    "        reg_poly = lm.fit(X_poly_train, y_train)\n",
    "\n",
    "        #Transform the test data into polynomial features\n",
    "        X_poly_test = poly.fit_transform(X_test)\n",
    "\n",
    "        #Get predicted values for transformed polynomial test data  \n",
    "        y_pred = reg_poly.predict(X_poly_test)\n",
    "\n",
    "        #Evaluate model performance on test data\n",
    "#         print(\"degree %d\" % degree, r2_score(y_test, y_pred))\n",
    "        \n",
    "        if r2_score(y_test, y_pred) > baseline: polynomials.append((col, degree, round(r2_score(y_test, y_pred), 3)))\n",
    "print('Top 10 polynomials: %s' %sorted(polynomials, key=lambda poly: poly[2], reverse=True)[:10])"
   ]
  },
  {
   "cell_type": "code",
   "execution_count": 28,
   "metadata": {},
   "outputs": [
    {
     "name": "stdout",
     "output_type": "stream",
     "text": [
      "(\"Top 10 polynomials: [('State', 2, 0.692), ('Child_Mortality_Rate', 2, \"\n",
      " \"0.692), ('%_Frequent_Mental_Distress', 2, 0.692), ('%_Diabetic', 2, 0.692), \"\n",
      " \"('%_Food_Insecure', 2, 0.692), ('%_Limited_Access_Healthy_Food', 2, 0.692), \"\n",
      " \"('Drug_Overdose_Mortality_Rate', 2, 0.692), ('MV_Mortality_Rate', 2, 0.692), \"\n",
      " \"('%_Insufficient_Sleep', 2, 0.692), ('%_Uninsured_children', 2, 0.692)]\")\n"
     ]
    }
   ],
   "source": [
    "pprint('Top 10 polynomials: %s' %sorted(polynomials, key=lambda poly: poly[2], reverse=True)[:10])"
   ]
  },
  {
   "cell_type": "markdown",
   "metadata": {},
   "source": [
    "#### Adding Polymial features to X"
   ]
  },
  {
   "cell_type": "code",
   "execution_count": 29,
   "metadata": {},
   "outputs": [],
   "source": [
    "for col in ['%_Frequent_Mental_Distress', '%_Diabetic']:\n",
    "    poly = PolynomialFeatures(2, include_bias=False)\n",
    "    X_transformed = poly.fit_transform(X_train[[col]])\n",
    "    colnames= [col, col + '_' + '2']\n",
    "    df = pd.concat([df.drop(col, axis=1), pd.DataFrame(X_transformed, columns=colnames)], axis=1)"
   ]
  },
  {
   "cell_type": "code",
   "execution_count": 30,
   "metadata": {},
   "outputs": [
    {
     "data": {
      "text/html": [
       "<div>\n",
       "<style scoped>\n",
       "    .dataframe tbody tr th:only-of-type {\n",
       "        vertical-align: middle;\n",
       "    }\n",
       "\n",
       "    .dataframe tbody tr th {\n",
       "        vertical-align: top;\n",
       "    }\n",
       "\n",
       "    .dataframe thead th {\n",
       "        text-align: right;\n",
       "    }\n",
       "</style>\n",
       "<table border=\"1\" class=\"dataframe\">\n",
       "  <thead>\n",
       "    <tr style=\"text-align: right;\">\n",
       "      <th></th>\n",
       "      <th>State</th>\n",
       "      <th>Life_Expectancy</th>\n",
       "      <th>Child_Mortality_Rate</th>\n",
       "      <th>%_Food_Insecure</th>\n",
       "      <th>%_Limited_Access_Healthy_Food</th>\n",
       "      <th>Drug_Overdose_Mortality_Rate</th>\n",
       "      <th>MV_Mortality_Rate</th>\n",
       "      <th>%_Insufficient_Sleep</th>\n",
       "      <th>%_Uninsured_children</th>\n",
       "      <th>Other_PCP_Rate</th>\n",
       "      <th>...</th>\n",
       "      <th>Homicide_Rate</th>\n",
       "      <th>Firearm_Fatalities_Rate</th>\n",
       "      <th>%_&lt;_18</th>\n",
       "      <th>%_65_and_over</th>\n",
       "      <th>%_Not_Proficient_in_English</th>\n",
       "      <th>%_Rural</th>\n",
       "      <th>%_Frequent_Mental_Distress</th>\n",
       "      <th>%_Frequent_Mental_Distress_2</th>\n",
       "      <th>%_Diabetic</th>\n",
       "      <th>%_Diabetic_2</th>\n",
       "    </tr>\n",
       "  </thead>\n",
       "  <tbody>\n",
       "    <tr>\n",
       "      <th>0</th>\n",
       "      <td>0</td>\n",
       "      <td>-0.371324</td>\n",
       "      <td>-0.306073</td>\n",
       "      <td>-0.075345</td>\n",
       "      <td>0.516505</td>\n",
       "      <td>-1.243045</td>\n",
       "      <td>0.472793</td>\n",
       "      <td>0.671477</td>\n",
       "      <td>-1.064571</td>\n",
       "      <td>-0.835218</td>\n",
       "      <td>...</td>\n",
       "      <td>-0.211266</td>\n",
       "      <td>0.517840</td>\n",
       "      <td>0.487033</td>\n",
       "      <td>-0.789993</td>\n",
       "      <td>0.101027</td>\n",
       "      <td>-0.500545</td>\n",
       "      <td>-1.591178</td>\n",
       "      <td>2.531848</td>\n",
       "      <td>-0.635855</td>\n",
       "      <td>0.404311</td>\n",
       "    </tr>\n",
       "    <tr>\n",
       "      <th>1</th>\n",
       "      <td>0</td>\n",
       "      <td>0.384829</td>\n",
       "      <td>-0.615404</td>\n",
       "      <td>-0.338073</td>\n",
       "      <td>-0.366922</td>\n",
       "      <td>-0.092050</td>\n",
       "      <td>-0.146981</td>\n",
       "      <td>0.041185</td>\n",
       "      <td>-0.816585</td>\n",
       "      <td>-0.449277</td>\n",
       "      <td>...</td>\n",
       "      <td>-0.857775</td>\n",
       "      <td>-0.010890</td>\n",
       "      <td>-0.123367</td>\n",
       "      <td>0.276020</td>\n",
       "      <td>-0.333338</td>\n",
       "      <td>-0.491667</td>\n",
       "      <td>-0.138004</td>\n",
       "      <td>0.019045</td>\n",
       "      <td>1.284521</td>\n",
       "      <td>1.649993</td>\n",
       "    </tr>\n",
       "    <tr>\n",
       "      <th>2</th>\n",
       "      <td>0</td>\n",
       "      <td>-0.554998</td>\n",
       "      <td>0.866368</td>\n",
       "      <td>2.265321</td>\n",
       "      <td>0.348145</td>\n",
       "      <td>0.001419</td>\n",
       "      <td>0.531696</td>\n",
       "      <td>1.315886</td>\n",
       "      <td>-0.926153</td>\n",
       "      <td>-0.958374</td>\n",
       "      <td>...</td>\n",
       "      <td>0.294698</td>\n",
       "      <td>0.117287</td>\n",
       "      <td>-0.440395</td>\n",
       "      <td>0.028177</td>\n",
       "      <td>0.368536</td>\n",
       "      <td>0.326098</td>\n",
       "      <td>0.555908</td>\n",
       "      <td>0.309033</td>\n",
       "      <td>1.169298</td>\n",
       "      <td>1.367258</td>\n",
       "    </tr>\n",
       "    <tr>\n",
       "      <th>3</th>\n",
       "      <td>0</td>\n",
       "      <td>-1.171938</td>\n",
       "      <td>2.574230</td>\n",
       "      <td>0.497879</td>\n",
       "      <td>-0.746678</td>\n",
       "      <td>0.567374</td>\n",
       "      <td>0.917252</td>\n",
       "      <td>1.215433</td>\n",
       "      <td>-1.017940</td>\n",
       "      <td>0.274072</td>\n",
       "      <td>...</td>\n",
       "      <td>0.632007</td>\n",
       "      <td>1.094637</td>\n",
       "      <td>-0.486459</td>\n",
       "      <td>-0.590598</td>\n",
       "      <td>-0.436054</td>\n",
       "      <td>0.344145</td>\n",
       "      <td>-0.388981</td>\n",
       "      <td>0.151306</td>\n",
       "      <td>-1.058337</td>\n",
       "      <td>1.120078</td>\n",
       "    </tr>\n",
       "    <tr>\n",
       "      <th>4</th>\n",
       "      <td>0</td>\n",
       "      <td>-0.948817</td>\n",
       "      <td>0.814787</td>\n",
       "      <td>-0.648569</td>\n",
       "      <td>-0.709208</td>\n",
       "      <td>0.819087</td>\n",
       "      <td>0.952828</td>\n",
       "      <td>0.681080</td>\n",
       "      <td>-0.754052</td>\n",
       "      <td>-1.043920</td>\n",
       "      <td>...</td>\n",
       "      <td>0.407134</td>\n",
       "      <td>0.838283</td>\n",
       "      <td>0.315453</td>\n",
       "      <td>-0.188704</td>\n",
       "      <td>0.689888</td>\n",
       "      <td>1.036519</td>\n",
       "      <td>-1.087268</td>\n",
       "      <td>1.182152</td>\n",
       "      <td>-0.674262</td>\n",
       "      <td>0.454630</td>\n",
       "    </tr>\n",
       "  </tbody>\n",
       "</table>\n",
       "<p>5 rows × 21 columns</p>\n",
       "</div>"
      ],
      "text/plain": [
       "   State  Life_Expectancy  Child_Mortality_Rate  %_Food_Insecure  \\\n",
       "0      0        -0.371324             -0.306073        -0.075345   \n",
       "1      0         0.384829             -0.615404        -0.338073   \n",
       "2      0        -0.554998              0.866368         2.265321   \n",
       "3      0        -1.171938              2.574230         0.497879   \n",
       "4      0        -0.948817              0.814787        -0.648569   \n",
       "\n",
       "   %_Limited_Access_Healthy_Food  Drug_Overdose_Mortality_Rate  \\\n",
       "0                       0.516505                     -1.243045   \n",
       "1                      -0.366922                     -0.092050   \n",
       "2                       0.348145                      0.001419   \n",
       "3                      -0.746678                      0.567374   \n",
       "4                      -0.709208                      0.819087   \n",
       "\n",
       "   MV_Mortality_Rate  %_Insufficient_Sleep  %_Uninsured_children  \\\n",
       "0           0.472793              0.671477             -1.064571   \n",
       "1          -0.146981              0.041185             -0.816585   \n",
       "2           0.531696              1.315886             -0.926153   \n",
       "3           0.917252              1.215433             -1.017940   \n",
       "4           0.952828              0.681080             -0.754052   \n",
       "\n",
       "   Other_PCP_Rate  ...  Homicide_Rate  Firearm_Fatalities_Rate    %_<_18  \\\n",
       "0       -0.835218  ...      -0.211266                 0.517840  0.487033   \n",
       "1       -0.449277  ...      -0.857775                -0.010890 -0.123367   \n",
       "2       -0.958374  ...       0.294698                 0.117287 -0.440395   \n",
       "3        0.274072  ...       0.632007                 1.094637 -0.486459   \n",
       "4       -1.043920  ...       0.407134                 0.838283  0.315453   \n",
       "\n",
       "   %_65_and_over  %_Not_Proficient_in_English   %_Rural  \\\n",
       "0      -0.789993                     0.101027 -0.500545   \n",
       "1       0.276020                    -0.333338 -0.491667   \n",
       "2       0.028177                     0.368536  0.326098   \n",
       "3      -0.590598                    -0.436054  0.344145   \n",
       "4      -0.188704                     0.689888  1.036519   \n",
       "\n",
       "   %_Frequent_Mental_Distress  %_Frequent_Mental_Distress_2  %_Diabetic  \\\n",
       "0                   -1.591178                      2.531848   -0.635855   \n",
       "1                   -0.138004                      0.019045    1.284521   \n",
       "2                    0.555908                      0.309033    1.169298   \n",
       "3                   -0.388981                      0.151306   -1.058337   \n",
       "4                   -1.087268                      1.182152   -0.674262   \n",
       "\n",
       "   %_Diabetic_2  \n",
       "0      0.404311  \n",
       "1      1.649993  \n",
       "2      1.367258  \n",
       "3      1.120078  \n",
       "4      0.454630  \n",
       "\n",
       "[5 rows x 21 columns]"
      ]
     },
     "execution_count": 30,
     "metadata": {},
     "output_type": "execute_result"
    }
   ],
   "source": [
    "df.head()"
   ]
  },
  {
   "cell_type": "code",
   "execution_count": 31,
   "metadata": {},
   "outputs": [
    {
     "data": {
      "text/plain": [
       "0.6901248692448776"
      ]
     },
     "execution_count": 31,
     "metadata": {},
     "output_type": "execute_result"
    }
   ],
   "source": [
    "full_model = np.mean(cross_val_score(regression, data, y, scoring='r2', cv=crossvalidation))\n",
    "full_model"
   ]
  },
  {
   "cell_type": "code",
   "execution_count": 32,
   "metadata": {},
   "outputs": [
    {
     "data": {
      "text/plain": [
       "['State',\n",
       " 'Child_Mortality_Rate',\n",
       " '%_Frequent_Mental_Distress',\n",
       " '%_Diabetic',\n",
       " '%_Food_Insecure',\n",
       " '%_Limited_Access_Healthy_Food',\n",
       " 'Drug_Overdose_Mortality_Rate',\n",
       " 'MV_Mortality_Rate',\n",
       " '%_Insufficient_Sleep',\n",
       " '%_Uninsured_children',\n",
       " 'Other_PCP_Rate',\n",
       " 'Household_Median_Income',\n",
       " 'Homicide_Rate',\n",
       " 'Firearm_Fatalities_Rate',\n",
       " '%_<_18',\n",
       " '%_65_and_over',\n",
       " '%_Not_Proficient_in_English',\n",
       " '%_Rural']"
      ]
     },
     "execution_count": 32,
     "metadata": {},
     "output_type": "execute_result"
    }
   ],
   "source": [
    "list(data.columns)"
   ]
  },
  {
   "cell_type": "code",
   "execution_count": null,
   "metadata": {},
   "outputs": [],
   "source": []
  },
  {
   "cell_type": "code",
   "execution_count": null,
   "metadata": {},
   "outputs": [],
   "source": []
  }
 ],
 "metadata": {
  "kernelspec": {
   "display_name": "Python 3",
   "language": "python",
   "name": "python3"
  },
  "language_info": {
   "codemirror_mode": {
    "name": "ipython",
    "version": 3
   },
   "file_extension": ".py",
   "mimetype": "text/x-python",
   "name": "python",
   "nbconvert_exporter": "python",
   "pygments_lexer": "ipython3",
   "version": "3.7.3"
  }
 },
 "nbformat": 4,
 "nbformat_minor": 2
}
