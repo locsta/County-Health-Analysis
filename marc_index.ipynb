{
 "cells": [
  {
   "cell_type": "markdown",
   "metadata": {},
   "source": [
    "### Importing libraries"
   ]
  },
  {
   "cell_type": "code",
   "execution_count": 237,
   "metadata": {},
   "outputs": [],
   "source": [
    "import pandas as pd\n",
    "import numpy as np\n",
    "import matplotlib.pyplot as plt\n",
    "import functions\n",
    "from pprint import pprint\n",
    "%matplotlib inline"
   ]
  },
  {
   "cell_type": "markdown",
   "metadata": {},
   "source": [
    "#### Importing Dataset"
   ]
  },
  {
   "cell_type": "code",
   "execution_count": 238,
   "metadata": {
    "scrolled": true
   },
   "outputs": [],
   "source": [
    "xls = pd.ExcelFile('2019 County Health Rankings Data - v2.xls')\n",
    "df = pd.read_excel(xls, 'Additional Measure Data',skiprows=1)"
   ]
  },
  {
   "cell_type": "code",
   "execution_count": 239,
   "metadata": {},
   "outputs": [
    {
     "data": {
      "text/html": [
       "<div>\n",
       "<style scoped>\n",
       "    .dataframe tbody tr th:only-of-type {\n",
       "        vertical-align: middle;\n",
       "    }\n",
       "\n",
       "    .dataframe tbody tr th {\n",
       "        vertical-align: top;\n",
       "    }\n",
       "\n",
       "    .dataframe thead th {\n",
       "        text-align: right;\n",
       "    }\n",
       "</style>\n",
       "<table border=\"1\" class=\"dataframe\">\n",
       "  <thead>\n",
       "    <tr style=\"text-align: right;\">\n",
       "      <th></th>\n",
       "      <th>FIPS</th>\n",
       "      <th>State</th>\n",
       "      <th>County</th>\n",
       "      <th>Life Expectancy</th>\n",
       "      <th>95% CI - Low</th>\n",
       "      <th>95% CI - High</th>\n",
       "      <th>Life Expectancy (Black)</th>\n",
       "      <th>Life Expectancy (Hispanic)</th>\n",
       "      <th>Life Expectancy (White)</th>\n",
       "      <th># Deaths</th>\n",
       "      <th>...</th>\n",
       "      <th>% Hispanic</th>\n",
       "      <th># Non-Hispanic White</th>\n",
       "      <th>% Non-Hispanic White</th>\n",
       "      <th># Not Proficient in English</th>\n",
       "      <th>% Not Proficient in English</th>\n",
       "      <th>95% CI - Low.16</th>\n",
       "      <th>95% CI - High.16</th>\n",
       "      <th>% Female</th>\n",
       "      <th># Rural</th>\n",
       "      <th>% Rural</th>\n",
       "    </tr>\n",
       "  </thead>\n",
       "  <tbody>\n",
       "    <tr>\n",
       "      <th>0</th>\n",
       "      <td>1001</td>\n",
       "      <td>Alabama</td>\n",
       "      <td>Autauga</td>\n",
       "      <td>76.330589</td>\n",
       "      <td>75.554117</td>\n",
       "      <td>77.107061</td>\n",
       "      <td>74.600628</td>\n",
       "      <td>NaN</td>\n",
       "      <td>76.337219</td>\n",
       "      <td>815.0</td>\n",
       "      <td>...</td>\n",
       "      <td>2.857452</td>\n",
       "      <td>41336</td>\n",
       "      <td>74.473912</td>\n",
       "      <td>430</td>\n",
       "      <td>0.828548</td>\n",
       "      <td>0.422472</td>\n",
       "      <td>1.234624</td>\n",
       "      <td>51.342246</td>\n",
       "      <td>22921.0</td>\n",
       "      <td>42.002162</td>\n",
       "    </tr>\n",
       "    <tr>\n",
       "      <th>1</th>\n",
       "      <td>1003</td>\n",
       "      <td>Alabama</td>\n",
       "      <td>Baldwin</td>\n",
       "      <td>78.599498</td>\n",
       "      <td>78.208357</td>\n",
       "      <td>78.990639</td>\n",
       "      <td>75.628919</td>\n",
       "      <td>98.039893</td>\n",
       "      <td>78.537003</td>\n",
       "      <td>2827.0</td>\n",
       "      <td>...</td>\n",
       "      <td>4.550200</td>\n",
       "      <td>176582</td>\n",
       "      <td>83.047388</td>\n",
       "      <td>872</td>\n",
       "      <td>0.454512</td>\n",
       "      <td>0.282144</td>\n",
       "      <td>0.626880</td>\n",
       "      <td>51.452772</td>\n",
       "      <td>77060.0</td>\n",
       "      <td>42.279099</td>\n",
       "    </tr>\n",
       "    <tr>\n",
       "      <th>2</th>\n",
       "      <td>1005</td>\n",
       "      <td>Alabama</td>\n",
       "      <td>Barbour</td>\n",
       "      <td>75.779457</td>\n",
       "      <td>74.639355</td>\n",
       "      <td>76.919559</td>\n",
       "      <td>74.240228</td>\n",
       "      <td>NaN</td>\n",
       "      <td>77.568384</td>\n",
       "      <td>451.0</td>\n",
       "      <td>...</td>\n",
       "      <td>4.206569</td>\n",
       "      <td>11613</td>\n",
       "      <td>45.955679</td>\n",
       "      <td>297</td>\n",
       "      <td>1.199273</td>\n",
       "      <td>0.580536</td>\n",
       "      <td>1.818011</td>\n",
       "      <td>47.229917</td>\n",
       "      <td>18613.0</td>\n",
       "      <td>67.789635</td>\n",
       "    </tr>\n",
       "    <tr>\n",
       "      <th>3</th>\n",
       "      <td>1007</td>\n",
       "      <td>Alabama</td>\n",
       "      <td>Bibb</td>\n",
       "      <td>73.928271</td>\n",
       "      <td>72.624611</td>\n",
       "      <td>75.231931</td>\n",
       "      <td>72.294686</td>\n",
       "      <td>NaN</td>\n",
       "      <td>74.109510</td>\n",
       "      <td>445.0</td>\n",
       "      <td>...</td>\n",
       "      <td>2.638080</td>\n",
       "      <td>16842</td>\n",
       "      <td>74.298571</td>\n",
       "      <td>84</td>\n",
       "      <td>0.394348</td>\n",
       "      <td>0.000000</td>\n",
       "      <td>0.933361</td>\n",
       "      <td>46.453150</td>\n",
       "      <td>15663.0</td>\n",
       "      <td>68.352607</td>\n",
       "    </tr>\n",
       "    <tr>\n",
       "      <th>4</th>\n",
       "      <td>1009</td>\n",
       "      <td>Alabama</td>\n",
       "      <td>Blount</td>\n",
       "      <td>74.597767</td>\n",
       "      <td>73.810999</td>\n",
       "      <td>75.384535</td>\n",
       "      <td>NaN</td>\n",
       "      <td>78.577094</td>\n",
       "      <td>74.098247</td>\n",
       "      <td>1050.0</td>\n",
       "      <td>...</td>\n",
       "      <td>9.565097</td>\n",
       "      <td>50439</td>\n",
       "      <td>86.944306</td>\n",
       "      <td>1013</td>\n",
       "      <td>1.870004</td>\n",
       "      <td>1.364180</td>\n",
       "      <td>2.375829</td>\n",
       "      <td>50.688639</td>\n",
       "      <td>51562.0</td>\n",
       "      <td>89.951502</td>\n",
       "    </tr>\n",
       "  </tbody>\n",
       "</table>\n",
       "<p>5 rows × 111 columns</p>\n",
       "</div>"
      ],
      "text/plain": [
       "   FIPS    State   County  Life Expectancy  95% CI - Low  95% CI - High  \\\n",
       "0  1001  Alabama  Autauga        76.330589     75.554117      77.107061   \n",
       "1  1003  Alabama  Baldwin        78.599498     78.208357      78.990639   \n",
       "2  1005  Alabama  Barbour        75.779457     74.639355      76.919559   \n",
       "3  1007  Alabama     Bibb        73.928271     72.624611      75.231931   \n",
       "4  1009  Alabama   Blount        74.597767     73.810999      75.384535   \n",
       "\n",
       "   Life Expectancy (Black)  Life Expectancy (Hispanic)  \\\n",
       "0                74.600628                         NaN   \n",
       "1                75.628919                   98.039893   \n",
       "2                74.240228                         NaN   \n",
       "3                72.294686                         NaN   \n",
       "4                      NaN                   78.577094   \n",
       "\n",
       "   Life Expectancy (White)  # Deaths  ...  % Hispanic  # Non-Hispanic White  \\\n",
       "0                76.337219     815.0  ...    2.857452                 41336   \n",
       "1                78.537003    2827.0  ...    4.550200                176582   \n",
       "2                77.568384     451.0  ...    4.206569                 11613   \n",
       "3                74.109510     445.0  ...    2.638080                 16842   \n",
       "4                74.098247    1050.0  ...    9.565097                 50439   \n",
       "\n",
       "   % Non-Hispanic White  # Not Proficient in English  \\\n",
       "0             74.473912                          430   \n",
       "1             83.047388                          872   \n",
       "2             45.955679                          297   \n",
       "3             74.298571                           84   \n",
       "4             86.944306                         1013   \n",
       "\n",
       "   % Not Proficient in English  95% CI - Low.16  95% CI - High.16   % Female  \\\n",
       "0                     0.828548         0.422472          1.234624  51.342246   \n",
       "1                     0.454512         0.282144          0.626880  51.452772   \n",
       "2                     1.199273         0.580536          1.818011  47.229917   \n",
       "3                     0.394348         0.000000          0.933361  46.453150   \n",
       "4                     1.870004         1.364180          2.375829  50.688639   \n",
       "\n",
       "   # Rural    % Rural  \n",
       "0  22921.0  42.002162  \n",
       "1  77060.0  42.279099  \n",
       "2  18613.0  67.789635  \n",
       "3  15663.0  68.352607  \n",
       "4  51562.0  89.951502  \n",
       "\n",
       "[5 rows x 111 columns]"
      ]
     },
     "execution_count": 239,
     "metadata": {},
     "output_type": "execute_result"
    }
   ],
   "source": [
    "df.head()"
   ]
  },
  {
   "cell_type": "code",
   "execution_count": 240,
   "metadata": {},
   "outputs": [
    {
     "data": {
      "text/html": [
       "<div>\n",
       "<style scoped>\n",
       "    .dataframe tbody tr th:only-of-type {\n",
       "        vertical-align: middle;\n",
       "    }\n",
       "\n",
       "    .dataframe tbody tr th {\n",
       "        vertical-align: top;\n",
       "    }\n",
       "\n",
       "    .dataframe thead th {\n",
       "        text-align: right;\n",
       "    }\n",
       "</style>\n",
       "<table border=\"1\" class=\"dataframe\">\n",
       "  <thead>\n",
       "    <tr style=\"text-align: right;\">\n",
       "      <th></th>\n",
       "      <th>State</th>\n",
       "      <th>County</th>\n",
       "      <th>Other PCP Ratio</th>\n",
       "    </tr>\n",
       "  </thead>\n",
       "  <tbody>\n",
       "    <tr>\n",
       "      <th>0</th>\n",
       "      <td>Alabama</td>\n",
       "      <td>Autauga</td>\n",
       "      <td>3265:1</td>\n",
       "    </tr>\n",
       "    <tr>\n",
       "      <th>1</th>\n",
       "      <td>Alabama</td>\n",
       "      <td>Baldwin</td>\n",
       "      <td>1916:1</td>\n",
       "    </tr>\n",
       "  </tbody>\n",
       "</table>\n",
       "</div>"
      ],
      "text/plain": [
       "     State   County Other PCP Ratio\n",
       "0  Alabama  Autauga          3265:1\n",
       "1  Alabama  Baldwin          1916:1"
      ]
     },
     "execution_count": 240,
     "metadata": {},
     "output_type": "execute_result"
    }
   ],
   "source": [
    "df.select_dtypes(include=['object'])[:2]"
   ]
  },
  {
   "cell_type": "markdown",
   "metadata": {},
   "source": [
    "### Exploratory Data Analysis"
   ]
  },
  {
   "cell_type": "markdown",
   "metadata": {},
   "source": [
    "#### Renaming columns"
   ]
  },
  {
   "cell_type": "code",
   "execution_count": 241,
   "metadata": {},
   "outputs": [
    {
     "name": "stdout",
     "output_type": "stream",
     "text": [
      "['FIPS', 'State', 'County', 'Life_Expectancy', '95%_CI_-_Low']\n"
     ]
    }
   ],
   "source": [
    "columns_name = df.columns\n",
    "new_column_names = []\n",
    "for column_name in columns_name:\n",
    "    new_column_names.append(column_name.replace(\" \", \"_\"))\n",
    "pprint(new_column_names[:5])\n",
    "df.columns = new_column_names"
   ]
  },
  {
   "cell_type": "markdown",
   "metadata": {},
   "source": [
    "#### Renaming counties"
   ]
  },
  {
   "cell_type": "code",
   "execution_count": 242,
   "metadata": {},
   "outputs": [],
   "source": [
    "county_names = df[\"County\"]\n",
    "new_county_names = []\n",
    "for county_name in county_names:\n",
    "    new_county_names.append(county_name.replace(\" \", \"_\"))\n",
    "df[\"County\"] = new_county_names"
   ]
  },
  {
   "cell_type": "markdown",
   "metadata": {},
   "source": [
    "#### Dropping ethnicies columns and columns with a lot of missing values"
   ]
  },
  {
   "cell_type": "code",
   "execution_count": 243,
   "metadata": {},
   "outputs": [],
   "source": [
    "to_drop = [\"Other_PCP_Ratio\", \"FIPS\", \"%_Free_or_Reduced_Lunch\", \"#_HIV_Cases\", \"HIV_Prevalence_Rate\"]\n",
    "#Data is missing for HIV only in South Dakota, replace it by country weighted average later or look at this column in depth\n",
    "containing = [\"CI_-_Low\", \"CI_-_High\", \"White\", \"Hispanic\", \"Black\", \"Asian\" ,\"Alaskan\", \"Indian\", \"Hawaiian\", \"African\"]\n",
    "for column in df.columns:\n",
    "    if (column in to_drop) or any(word in column for word in containing):\n",
    "        df = df.drop([column], axis=1)"
   ]
  },
  {
   "cell_type": "code",
   "execution_count": 244,
   "metadata": {},
   "outputs": [
    {
     "data": {
      "text/plain": [
       "Index(['State', 'County', 'Life_Expectancy', '#_Deaths',\n",
       "       'Age-Adjusted_Mortality', '#_Deaths.1', 'Child_Mortality_Rate',\n",
       "       '#_Deaths.2', 'Infant_Mortality_Rate', '%_Frequent_Physical_Distress',\n",
       "       '%_Frequent_Mental_Distress', '%_Diabetic', '#_Food_Insecure',\n",
       "       '%_Food_Insecure', '#_Limited_Access', '%_Limited_Access',\n",
       "       '#_Drug_Overdose_Deaths', 'Drug_Overdose_Mortality_Rate',\n",
       "       '#_Motor_Vehicle_Deaths', 'MV_Mortality_Rate', '%_Insufficient_Sleep',\n",
       "       '#_Uninsured', '%_Uninsured', '#_Uninsured.1', '%_Uninsured.1',\n",
       "       'Other_PCP_Rate', '%_Disconnected_Youth', 'Household_Income',\n",
       "       'Segregation_index', 'Segregation_Index', 'Homicide_Rate',\n",
       "       '#_Firearm_Fatalities', 'Firearm_Fatalities_Rate', '#_Homeowners',\n",
       "       '%_Homeowners', '#_Households_with_Severe_Cost_Burden',\n",
       "       '%_Severe_Housing_Cost_Burden', 'Population', '%_<_18', '%_65_and_over',\n",
       "       '#_Not_Proficient_in_English', '%_Not_Proficient_in_English',\n",
       "       '%_Female', '#_Rural', '%_Rural'],\n",
       "      dtype='object')"
      ]
     },
     "execution_count": 244,
     "metadata": {},
     "output_type": "execute_result"
    }
   ],
   "source": [
    "df.columns"
   ]
  },
  {
   "cell_type": "markdown",
   "metadata": {},
   "source": [
    "#### Delete rows missing Life Expectancy"
   ]
  },
  {
   "cell_type": "code",
   "execution_count": 245,
   "metadata": {},
   "outputs": [],
   "source": [
    "df = df.dropna(subset=[\"Life_Expectancy\"])"
   ]
  },
  {
   "cell_type": "markdown",
   "metadata": {},
   "source": [
    "### Fill counties missing values using states weighted averages"
   ]
  },
  {
   "cell_type": "code",
   "execution_count": 246,
   "metadata": {},
   "outputs": [
    {
     "data": {
      "text/html": [
       "<div>\n",
       "<style scoped>\n",
       "    .dataframe tbody tr th:only-of-type {\n",
       "        vertical-align: middle;\n",
       "    }\n",
       "\n",
       "    .dataframe tbody tr th {\n",
       "        vertical-align: top;\n",
       "    }\n",
       "\n",
       "    .dataframe thead th {\n",
       "        text-align: right;\n",
       "    }\n",
       "</style>\n",
       "<table border=\"1\" class=\"dataframe\">\n",
       "  <thead>\n",
       "    <tr style=\"text-align: right;\">\n",
       "      <th></th>\n",
       "      <th>State</th>\n",
       "      <th>County</th>\n",
       "      <th>Life_Expectancy</th>\n",
       "      <th>#_Deaths</th>\n",
       "      <th>Age-Adjusted_Mortality</th>\n",
       "      <th>#_Deaths.1</th>\n",
       "      <th>Child_Mortality_Rate</th>\n",
       "      <th>#_Deaths.2</th>\n",
       "      <th>Infant_Mortality_Rate</th>\n",
       "      <th>%_Frequent_Physical_Distress</th>\n",
       "      <th>...</th>\n",
       "      <th>#_Households_with_Severe_Cost_Burden</th>\n",
       "      <th>%_Severe_Housing_Cost_Burden</th>\n",
       "      <th>Population</th>\n",
       "      <th>%_&lt;_18</th>\n",
       "      <th>%_65_and_over</th>\n",
       "      <th>#_Not_Proficient_in_English</th>\n",
       "      <th>%_Not_Proficient_in_English</th>\n",
       "      <th>%_Female</th>\n",
       "      <th>#_Rural</th>\n",
       "      <th>%_Rural</th>\n",
       "    </tr>\n",
       "  </thead>\n",
       "  <tbody>\n",
       "    <tr>\n",
       "      <th>0</th>\n",
       "      <td>Alabama</td>\n",
       "      <td>Autauga</td>\n",
       "      <td>76.330589</td>\n",
       "      <td>815.0</td>\n",
       "      <td>438.7</td>\n",
       "      <td>29.0</td>\n",
       "      <td>53.279441</td>\n",
       "      <td>34.0</td>\n",
       "      <td>7.699275</td>\n",
       "      <td>12.824434</td>\n",
       "      <td>...</td>\n",
       "      <td>2569.0</td>\n",
       "      <td>12.645206</td>\n",
       "      <td>55504</td>\n",
       "      <td>23.937014</td>\n",
       "      <td>15.119631</td>\n",
       "      <td>430</td>\n",
       "      <td>0.828548</td>\n",
       "      <td>51.342246</td>\n",
       "      <td>22921.0</td>\n",
       "      <td>42.002162</td>\n",
       "    </tr>\n",
       "    <tr>\n",
       "      <th>1</th>\n",
       "      <td>Alabama</td>\n",
       "      <td>Baldwin</td>\n",
       "      <td>78.599498</td>\n",
       "      <td>2827.0</td>\n",
       "      <td>348.4</td>\n",
       "      <td>85.0</td>\n",
       "      <td>47.000017</td>\n",
       "      <td>91.0</td>\n",
       "      <td>5.851337</td>\n",
       "      <td>12.622002</td>\n",
       "      <td>...</td>\n",
       "      <td>9313.0</td>\n",
       "      <td>12.795922</td>\n",
       "      <td>212628</td>\n",
       "      <td>21.848487</td>\n",
       "      <td>19.947044</td>\n",
       "      <td>872</td>\n",
       "      <td>0.454512</td>\n",
       "      <td>51.452772</td>\n",
       "      <td>77060.0</td>\n",
       "      <td>42.279099</td>\n",
       "    </tr>\n",
       "  </tbody>\n",
       "</table>\n",
       "<p>2 rows × 45 columns</p>\n",
       "</div>"
      ],
      "text/plain": [
       "     State   County  Life_Expectancy  #_Deaths  Age-Adjusted_Mortality  \\\n",
       "0  Alabama  Autauga        76.330589     815.0                   438.7   \n",
       "1  Alabama  Baldwin        78.599498    2827.0                   348.4   \n",
       "\n",
       "   #_Deaths.1  Child_Mortality_Rate  #_Deaths.2  Infant_Mortality_Rate  \\\n",
       "0        29.0             53.279441        34.0               7.699275   \n",
       "1        85.0             47.000017        91.0               5.851337   \n",
       "\n",
       "   %_Frequent_Physical_Distress  ...  #_Households_with_Severe_Cost_Burden  \\\n",
       "0                     12.824434  ...                                2569.0   \n",
       "1                     12.622002  ...                                9313.0   \n",
       "\n",
       "   %_Severe_Housing_Cost_Burden  Population     %_<_18  %_65_and_over  \\\n",
       "0                     12.645206       55504  23.937014      15.119631   \n",
       "1                     12.795922      212628  21.848487      19.947044   \n",
       "\n",
       "   #_Not_Proficient_in_English  %_Not_Proficient_in_English   %_Female  \\\n",
       "0                          430                     0.828548  51.342246   \n",
       "1                          872                     0.454512  51.452772   \n",
       "\n",
       "   #_Rural    %_Rural  \n",
       "0  22921.0  42.002162  \n",
       "1  77060.0  42.279099  \n",
       "\n",
       "[2 rows x 45 columns]"
      ]
     },
     "execution_count": 246,
     "metadata": {},
     "output_type": "execute_result"
    }
   ],
   "source": [
    "df.head(2)"
   ]
  },
  {
   "cell_type": "markdown",
   "metadata": {},
   "source": [
    "#### Calculate the weighted averages for each columns in each states"
   ]
  },
  {
   "cell_type": "code",
   "execution_count": 247,
   "metadata": {},
   "outputs": [],
   "source": [
    "states = list(df.State.unique())\n",
    "columns = [x for x in list(df.columns) if x not in [\"State\", \"County\"]]"
   ]
  },
  {
   "cell_type": "code",
   "execution_count": 248,
   "metadata": {},
   "outputs": [],
   "source": [
    "state_wv = {}\n",
    "for state in states:\n",
    "    df_state = df.loc[df[\"State\"] == state]\n",
    "    for column in columns:\n",
    "        values = df_state.dropna(subset=[column])[column]\n",
    "        population_value = df_state.dropna(subset=[column])[\"Population\"].astype(np.float64)\n",
    "        population = np.sum(df_state.dropna(subset=[column])[\"Population\"])\n",
    "        if population != 0:\n",
    "            wv = (values * population_value).sum() / population\n",
    "            if not state_wv.get(state):\n",
    "                state_wv[state] = {}\n",
    "            state_wv[state][column] = float(wv)\n",
    "        else:\n",
    "            print(f\"No data for {column} in {state}\")"
   ]
  },
  {
   "cell_type": "markdown",
   "metadata": {},
   "source": [
    "#### Fill each missing values by states weighted averages"
   ]
  },
  {
   "cell_type": "code",
   "execution_count": 253,
   "metadata": {},
   "outputs": [
    {
     "name": "stderr",
     "output_type": "stream",
     "text": [
      "/home/locsta/anaconda3/lib/python3.7/site-packages/ipykernel_launcher.py:8: SettingWithCopyWarning: \n",
      "A value is trying to be set on a copy of a slice from a DataFrame\n",
      "\n",
      "See the caveats in the documentation: http://pandas.pydata.org/pandas-docs/stable/indexing.html#indexing-view-versus-copy\n",
      "  \n"
     ]
    }
   ],
   "source": [
    "indexes = list(df.index)\n",
    "columns = list(df.columns)\n",
    "df_filled = df.copy()\n",
    "for index in indexes:\n",
    "    for column in columns:\n",
    "        if column not in [\"State\",\"County\"]:\n",
    "            if np.isnan(df[column][index]):\n",
    "                df_filled[column][index] = state_wv[df[\"State\"][index]][column]"
   ]
  },
  {
   "cell_type": "code",
   "execution_count": 254,
   "metadata": {},
   "outputs": [
    {
     "data": {
      "text/html": [
       "<div>\n",
       "<style scoped>\n",
       "    .dataframe tbody tr th:only-of-type {\n",
       "        vertical-align: middle;\n",
       "    }\n",
       "\n",
       "    .dataframe tbody tr th {\n",
       "        vertical-align: top;\n",
       "    }\n",
       "\n",
       "    .dataframe thead th {\n",
       "        text-align: right;\n",
       "    }\n",
       "</style>\n",
       "<table border=\"1\" class=\"dataframe\">\n",
       "  <thead>\n",
       "    <tr style=\"text-align: right;\">\n",
       "      <th></th>\n",
       "      <th>State</th>\n",
       "      <th>County</th>\n",
       "      <th>Life_Expectancy</th>\n",
       "      <th>#_Deaths</th>\n",
       "      <th>Age-Adjusted_Mortality</th>\n",
       "      <th>#_Deaths.1</th>\n",
       "      <th>Child_Mortality_Rate</th>\n",
       "      <th>#_Deaths.2</th>\n",
       "      <th>Infant_Mortality_Rate</th>\n",
       "      <th>%_Frequent_Physical_Distress</th>\n",
       "      <th>...</th>\n",
       "      <th>#_Households_with_Severe_Cost_Burden</th>\n",
       "      <th>%_Severe_Housing_Cost_Burden</th>\n",
       "      <th>Population</th>\n",
       "      <th>%_&lt;_18</th>\n",
       "      <th>%_65_and_over</th>\n",
       "      <th>#_Not_Proficient_in_English</th>\n",
       "      <th>%_Not_Proficient_in_English</th>\n",
       "      <th>%_Female</th>\n",
       "      <th>#_Rural</th>\n",
       "      <th>%_Rural</th>\n",
       "    </tr>\n",
       "  </thead>\n",
       "  <tbody>\n",
       "    <tr>\n",
       "      <th>0</th>\n",
       "      <td>Alabama</td>\n",
       "      <td>Autauga</td>\n",
       "      <td>76.330589</td>\n",
       "      <td>815.0</td>\n",
       "      <td>438.7</td>\n",
       "      <td>29.0</td>\n",
       "      <td>53.279441</td>\n",
       "      <td>34.0000</td>\n",
       "      <td>7.699275</td>\n",
       "      <td>12.824434</td>\n",
       "      <td>...</td>\n",
       "      <td>2569.0</td>\n",
       "      <td>12.645206</td>\n",
       "      <td>55504</td>\n",
       "      <td>23.937014</td>\n",
       "      <td>15.119631</td>\n",
       "      <td>430</td>\n",
       "      <td>0.828548</td>\n",
       "      <td>51.342246</td>\n",
       "      <td>22921.0</td>\n",
       "      <td>42.002162</td>\n",
       "    </tr>\n",
       "    <tr>\n",
       "      <th>1</th>\n",
       "      <td>Alabama</td>\n",
       "      <td>Baldwin</td>\n",
       "      <td>78.599498</td>\n",
       "      <td>2827.0</td>\n",
       "      <td>348.4</td>\n",
       "      <td>85.0</td>\n",
       "      <td>47.000017</td>\n",
       "      <td>91.0000</td>\n",
       "      <td>5.851337</td>\n",
       "      <td>12.622002</td>\n",
       "      <td>...</td>\n",
       "      <td>9313.0</td>\n",
       "      <td>12.795922</td>\n",
       "      <td>212628</td>\n",
       "      <td>21.848487</td>\n",
       "      <td>19.947044</td>\n",
       "      <td>872</td>\n",
       "      <td>0.454512</td>\n",
       "      <td>51.452772</td>\n",
       "      <td>77060.0</td>\n",
       "      <td>42.279099</td>\n",
       "    </tr>\n",
       "    <tr>\n",
       "      <th>2</th>\n",
       "      <td>Alabama</td>\n",
       "      <td>Barbour</td>\n",
       "      <td>75.779457</td>\n",
       "      <td>451.0</td>\n",
       "      <td>469.8</td>\n",
       "      <td>17.0</td>\n",
       "      <td>77.080027</td>\n",
       "      <td>204.8478</td>\n",
       "      <td>8.444680</td>\n",
       "      <td>16.216160</td>\n",
       "      <td>...</td>\n",
       "      <td>1158.0</td>\n",
       "      <td>13.586765</td>\n",
       "      <td>25270</td>\n",
       "      <td>20.763751</td>\n",
       "      <td>18.824693</td>\n",
       "      <td>297</td>\n",
       "      <td>1.199273</td>\n",
       "      <td>47.229917</td>\n",
       "      <td>18613.0</td>\n",
       "      <td>67.789635</td>\n",
       "    </tr>\n",
       "    <tr>\n",
       "      <th>3</th>\n",
       "      <td>Alabama</td>\n",
       "      <td>Bibb</td>\n",
       "      <td>73.928271</td>\n",
       "      <td>445.0</td>\n",
       "      <td>563.7</td>\n",
       "      <td>21.0</td>\n",
       "      <td>111.749681</td>\n",
       "      <td>25.0000</td>\n",
       "      <td>14.792899</td>\n",
       "      <td>13.162968</td>\n",
       "      <td>...</td>\n",
       "      <td>576.0</td>\n",
       "      <td>8.733889</td>\n",
       "      <td>22668</td>\n",
       "      <td>20.606141</td>\n",
       "      <td>16.022587</td>\n",
       "      <td>84</td>\n",
       "      <td>0.394348</td>\n",
       "      <td>46.453150</td>\n",
       "      <td>15663.0</td>\n",
       "      <td>68.352607</td>\n",
       "    </tr>\n",
       "    <tr>\n",
       "      <th>4</th>\n",
       "      <td>Alabama</td>\n",
       "      <td>Blount</td>\n",
       "      <td>74.597767</td>\n",
       "      <td>1050.0</td>\n",
       "      <td>501.8</td>\n",
       "      <td>41.0</td>\n",
       "      <td>76.032935</td>\n",
       "      <td>29.0000</td>\n",
       "      <td>6.184688</td>\n",
       "      <td>13.720057</td>\n",
       "      <td>...</td>\n",
       "      <td>1569.0</td>\n",
       "      <td>8.194495</td>\n",
       "      <td>58013</td>\n",
       "      <td>23.349939</td>\n",
       "      <td>17.842553</td>\n",
       "      <td>1013</td>\n",
       "      <td>1.870004</td>\n",
       "      <td>50.688639</td>\n",
       "      <td>51562.0</td>\n",
       "      <td>89.951502</td>\n",
       "    </tr>\n",
       "  </tbody>\n",
       "</table>\n",
       "<p>5 rows × 45 columns</p>\n",
       "</div>"
      ],
      "text/plain": [
       "     State   County  Life_Expectancy  #_Deaths  Age-Adjusted_Mortality  \\\n",
       "0  Alabama  Autauga        76.330589     815.0                   438.7   \n",
       "1  Alabama  Baldwin        78.599498    2827.0                   348.4   \n",
       "2  Alabama  Barbour        75.779457     451.0                   469.8   \n",
       "3  Alabama     Bibb        73.928271     445.0                   563.7   \n",
       "4  Alabama   Blount        74.597767    1050.0                   501.8   \n",
       "\n",
       "   #_Deaths.1  Child_Mortality_Rate  #_Deaths.2  Infant_Mortality_Rate  \\\n",
       "0        29.0             53.279441     34.0000               7.699275   \n",
       "1        85.0             47.000017     91.0000               5.851337   \n",
       "2        17.0             77.080027    204.8478               8.444680   \n",
       "3        21.0            111.749681     25.0000              14.792899   \n",
       "4        41.0             76.032935     29.0000               6.184688   \n",
       "\n",
       "   %_Frequent_Physical_Distress  ...  #_Households_with_Severe_Cost_Burden  \\\n",
       "0                     12.824434  ...                                2569.0   \n",
       "1                     12.622002  ...                                9313.0   \n",
       "2                     16.216160  ...                                1158.0   \n",
       "3                     13.162968  ...                                 576.0   \n",
       "4                     13.720057  ...                                1569.0   \n",
       "\n",
       "   %_Severe_Housing_Cost_Burden  Population     %_<_18  %_65_and_over  \\\n",
       "0                     12.645206       55504  23.937014      15.119631   \n",
       "1                     12.795922      212628  21.848487      19.947044   \n",
       "2                     13.586765       25270  20.763751      18.824693   \n",
       "3                      8.733889       22668  20.606141      16.022587   \n",
       "4                      8.194495       58013  23.349939      17.842553   \n",
       "\n",
       "   #_Not_Proficient_in_English  %_Not_Proficient_in_English   %_Female  \\\n",
       "0                          430                     0.828548  51.342246   \n",
       "1                          872                     0.454512  51.452772   \n",
       "2                          297                     1.199273  47.229917   \n",
       "3                           84                     0.394348  46.453150   \n",
       "4                         1013                     1.870004  50.688639   \n",
       "\n",
       "   #_Rural    %_Rural  \n",
       "0  22921.0  42.002162  \n",
       "1  77060.0  42.279099  \n",
       "2  18613.0  67.789635  \n",
       "3  15663.0  68.352607  \n",
       "4  51562.0  89.951502  \n",
       "\n",
       "[5 rows x 45 columns]"
      ]
     },
     "execution_count": 254,
     "metadata": {},
     "output_type": "execute_result"
    }
   ],
   "source": [
    "df_filled.head()"
   ]
  },
  {
   "cell_type": "code",
   "execution_count": 255,
   "metadata": {},
   "outputs": [],
   "source": [
    "df_filled.to_csv(r\"/home/locsta/Documents/FlatIron/County-Health-Analysis/clean.csv\")"
   ]
  },
  {
   "cell_type": "markdown",
   "metadata": {},
   "source": [
    "#### Drop County and turn State column into category"
   ]
  },
  {
   "cell_type": "code",
   "execution_count": null,
   "metadata": {},
   "outputs": [],
   "source": [
    "df_filled[\"State\"] = df_filled[\"State\"].astype('category')\n",
    "df_filled = df_filled.drop([\"County\"], axis=1)"
   ]
  },
  {
   "cell_type": "markdown",
   "metadata": {},
   "source": [
    "TODO: Transform every # into percentages"
   ]
  },
  {
   "cell_type": "markdown",
   "metadata": {},
   "source": [
    "TODO: Rename Deaths"
   ]
  },
  {
   "cell_type": "markdown",
   "metadata": {},
   "source": [
    "TODO: limited access = limited access to healthy foods"
   ]
  },
  {
   "cell_type": "code",
   "execution_count": null,
   "metadata": {},
   "outputs": [],
   "source": [
    "\"#_Deaths\" = \"Premature age-adjusted mortality\"\n",
    "\"#_Deaths.1\" = \"Child mortality\"\n",
    "\"#_Deaths.2\" = \"Infant mortality\""
   ]
  }
 ],
 "metadata": {
  "kernelspec": {
   "display_name": "Python 3",
   "language": "python",
   "name": "python3"
  },
  "language_info": {
   "codemirror_mode": {
    "name": "ipython",
    "version": 3
   },
   "file_extension": ".py",
   "mimetype": "text/x-python",
   "name": "python",
   "nbconvert_exporter": "python",
   "pygments_lexer": "ipython3",
   "version": "3.7.3"
  }
 },
 "nbformat": 4,
 "nbformat_minor": 2
}
