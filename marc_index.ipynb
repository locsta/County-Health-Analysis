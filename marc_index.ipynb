{
 "cells": [
  {
   "cell_type": "markdown",
   "metadata": {},
   "source": [
    "### Importing libraries"
   ]
  },
  {
   "cell_type": "code",
   "execution_count": 268,
   "metadata": {},
   "outputs": [],
   "source": [
    "import pandas as pd\n",
    "import numpy as np\n",
    "import matplotlib.pyplot as plt\n",
    "import functions\n",
    "from pprint import pprint\n",
    "%matplotlib inline"
   ]
  },
  {
   "cell_type": "code",
   "execution_count": 269,
   "metadata": {
    "scrolled": true
   },
   "outputs": [],
   "source": [
    "#df_csv = pd.read_csv(\"analytic_data2019.csv\",skiprows=[1])\n",
    "xls = pd.ExcelFile('2019 County Health Rankings Data - v2.xls')\n",
    "df1 = pd.read_excel(xls, 'Additional Measure Data',skiprows=1)"
   ]
  },
  {
   "cell_type": "code",
   "execution_count": 270,
   "metadata": {},
   "outputs": [
    {
     "name": "stdout",
     "output_type": "stream",
     "text": [
      "<class 'pandas.core.frame.DataFrame'>\n",
      "Int64Index: 3073 entries, 0 to 3141\n",
      "Data columns (total 78 columns):\n",
      "FIPS                                        3073 non-null int64\n",
      "State                                       3073 non-null object\n",
      "County                                      3073 non-null object\n",
      "Life_Expectancy                             3073 non-null float64\n",
      "Life_Expectancy_(Black)                     1339 non-null float64\n",
      "Life_Expectancy_(Hispanic)                  1247 non-null float64\n",
      "Life_Expectancy_(White)                     1726 non-null float64\n",
      "#_Deaths                                    3061 non-null float64\n",
      "Age-Adjusted_Mortality                      3061 non-null float64\n",
      "Age-Adjusted_Mortality_(Black)              1353 non-null float64\n",
      "Age-Adjusted_Mortality_(Hispanic)           838 non-null float64\n",
      "Age-Adjusted_Mortality_(White)              1581 non-null float64\n",
      "#_Deaths.1                                  1920 non-null float64\n",
      "Child_Mortality_Rate                        1920 non-null float64\n",
      "Child_Mortality_Rate_(Black)                508 non-null float64\n",
      "Child_Mortality_Rate_(Hispanic)             374 non-null float64\n",
      "Child_Mortality_Rate_(White)                621 non-null float64\n",
      "#_Deaths.2                                  1260 non-null float64\n",
      "Infant_Mortality_Rate                       1260 non-null float64\n",
      "Infant_Mortality_Rate_(Black)               350 non-null float64\n",
      "Infant_Mortality_Rate_(Hispanic)            232 non-null float64\n",
      "Infant_Mortality_Rate_(White)               406 non-null float64\n",
      "%_Frequent_Physical_Distress                3073 non-null float64\n",
      "%_Frequent_Mental_Distress                  3073 non-null float64\n",
      "%_Diabetic                                  3073 non-null float64\n",
      "#_HIV_Cases                                 2422 non-null float64\n",
      "HIV_Prevalence_Rate                         2422 non-null float64\n",
      "#_Food_Insecure                             3073 non-null int64\n",
      "%_Food_Insecure                             3073 non-null float64\n",
      "#_Limited_Access                            3054 non-null float64\n",
      "%_Limited_Access                            3054 non-null float64\n",
      "#_Drug_Overdose_Deaths                      1720 non-null float64\n",
      "Drug_Overdose_Mortality_Rate                1720 non-null float64\n",
      "#_Motor_Vehicle_Deaths                      2700 non-null float64\n",
      "MV_Mortality_Rate                           2700 non-null float64\n",
      "%_Insufficient_Sleep                        3073 non-null float64\n",
      "#_Uninsured                                 3073 non-null float64\n",
      "%_Uninsured                                 3073 non-null float64\n",
      "#_Uninsured.1                               3073 non-null float64\n",
      "%_Uninsured.1                               3073 non-null float64\n",
      "Other_PCP_Rate                              3047 non-null float64\n",
      "Other_PCP_Ratio                             3047 non-null object\n",
      "%_Disconnected_Youth                        1412 non-null float64\n",
      "Household_Income                            3073 non-null float64\n",
      "Household_income_(Black)                    1930 non-null float64\n",
      "Household_income_(Hispanic)                 2426 non-null float64\n",
      "Household_income_(White)                    2710 non-null float64\n",
      "%_Free_or_Reduced_Lunch                     2956 non-null float64\n",
      "Segregation_index                           2059 non-null float64\n",
      "Segregation_Index                           2795 non-null float64\n",
      "Homicide_Rate                               1272 non-null float64\n",
      "#_Firearm_Fatalities                        2209 non-null float64\n",
      "Firearm_Fatalities_Rate                     2209 non-null float64\n",
      "#_Homeowners                                3073 non-null int64\n",
      "%_Homeowners                                3073 non-null float64\n",
      "#_Households_with_Severe_Cost_Burden        3073 non-null float64\n",
      "%_Severe_Housing_Cost_Burden                3073 non-null float64\n",
      "Population                                  3073 non-null int64\n",
      "%_<_18                                      3073 non-null float64\n",
      "%_65_and_over                               3073 non-null float64\n",
      "#_African_American                          3073 non-null int64\n",
      "%_African_American                          3073 non-null float64\n",
      "#_American_Indian/Alaskan_Native            3073 non-null int64\n",
      "%_American_Indian/Alaskan_Native            3073 non-null float64\n",
      "#_Asian                                     3073 non-null int64\n",
      "%_Asian                                     3073 non-null float64\n",
      "#_Native_Hawaiian/Other_Pacific_Islander    3073 non-null int64\n",
      "%_Native_Hawaiian/Other_Pacific_Islander    3073 non-null float64\n",
      "#_Hispanic                                  3073 non-null int64\n",
      "%_Hispanic                                  3073 non-null float64\n",
      "#_Non-Hispanic_White                        3073 non-null int64\n",
      "%_Non-Hispanic_White                        3073 non-null float64\n",
      "#_Not_Proficient_in_English                 3073 non-null int64\n",
      "%_Not_Proficient_in_English                 3073 non-null float64\n",
      "%_Female                                    3073 non-null float64\n",
      "#_Rural                                     3067 non-null float64\n",
      "%_Rural                                     3067 non-null float64\n",
      "LEB                                         1339 non-null float64\n",
      "dtypes: float64(64), int64(11), object(3)\n",
      "memory usage: 1.9+ MB\n"
     ]
    }
   ],
   "source": [
    "df.info()"
   ]
  },
  {
   "cell_type": "code",
   "execution_count": 271,
   "metadata": {},
   "outputs": [
    {
     "data": {
      "text/html": [
       "<div>\n",
       "<style scoped>\n",
       "    .dataframe tbody tr th:only-of-type {\n",
       "        vertical-align: middle;\n",
       "    }\n",
       "\n",
       "    .dataframe tbody tr th {\n",
       "        vertical-align: top;\n",
       "    }\n",
       "\n",
       "    .dataframe thead th {\n",
       "        text-align: right;\n",
       "    }\n",
       "</style>\n",
       "<table border=\"1\" class=\"dataframe\">\n",
       "  <thead>\n",
       "    <tr style=\"text-align: right;\">\n",
       "      <th></th>\n",
       "      <th>FIPS</th>\n",
       "      <th>State</th>\n",
       "      <th>County</th>\n",
       "      <th>Life_Expectancy</th>\n",
       "      <th>Life_Expectancy_(Black)</th>\n",
       "      <th>Life_Expectancy_(Hispanic)</th>\n",
       "      <th>Life_Expectancy_(White)</th>\n",
       "      <th>#_Deaths</th>\n",
       "      <th>Age-Adjusted_Mortality</th>\n",
       "      <th>Age-Adjusted_Mortality_(Black)</th>\n",
       "      <th>...</th>\n",
       "      <th>#_Hispanic</th>\n",
       "      <th>%_Hispanic</th>\n",
       "      <th>#_Non-Hispanic_White</th>\n",
       "      <th>%_Non-Hispanic_White</th>\n",
       "      <th>#_Not_Proficient_in_English</th>\n",
       "      <th>%_Not_Proficient_in_English</th>\n",
       "      <th>%_Female</th>\n",
       "      <th>#_Rural</th>\n",
       "      <th>%_Rural</th>\n",
       "      <th>LEB</th>\n",
       "    </tr>\n",
       "  </thead>\n",
       "  <tbody>\n",
       "    <tr>\n",
       "      <th>0</th>\n",
       "      <td>1001</td>\n",
       "      <td>Alabama</td>\n",
       "      <td>Autauga</td>\n",
       "      <td>76.330589</td>\n",
       "      <td>74.600628</td>\n",
       "      <td>NaN</td>\n",
       "      <td>76.337219</td>\n",
       "      <td>815.0</td>\n",
       "      <td>438.7</td>\n",
       "      <td>532.977595</td>\n",
       "      <td>...</td>\n",
       "      <td>1586</td>\n",
       "      <td>2.857452</td>\n",
       "      <td>41336</td>\n",
       "      <td>74.473912</td>\n",
       "      <td>430</td>\n",
       "      <td>0.828548</td>\n",
       "      <td>51.342246</td>\n",
       "      <td>22921.0</td>\n",
       "      <td>42.002162</td>\n",
       "      <td>4.140633e+06</td>\n",
       "    </tr>\n",
       "    <tr>\n",
       "      <th>1</th>\n",
       "      <td>1003</td>\n",
       "      <td>Alabama</td>\n",
       "      <td>Baldwin</td>\n",
       "      <td>78.599498</td>\n",
       "      <td>75.628919</td>\n",
       "      <td>98.039893</td>\n",
       "      <td>78.537003</td>\n",
       "      <td>2827.0</td>\n",
       "      <td>348.4</td>\n",
       "      <td>511.027189</td>\n",
       "      <td>...</td>\n",
       "      <td>9675</td>\n",
       "      <td>4.550200</td>\n",
       "      <td>176582</td>\n",
       "      <td>83.047388</td>\n",
       "      <td>872</td>\n",
       "      <td>0.454512</td>\n",
       "      <td>51.452772</td>\n",
       "      <td>77060.0</td>\n",
       "      <td>42.279099</td>\n",
       "      <td>1.608083e+07</td>\n",
       "    </tr>\n",
       "    <tr>\n",
       "      <th>2</th>\n",
       "      <td>1005</td>\n",
       "      <td>Alabama</td>\n",
       "      <td>Barbour</td>\n",
       "      <td>75.779457</td>\n",
       "      <td>74.240228</td>\n",
       "      <td>NaN</td>\n",
       "      <td>77.568384</td>\n",
       "      <td>451.0</td>\n",
       "      <td>469.8</td>\n",
       "      <td>541.700115</td>\n",
       "      <td>...</td>\n",
       "      <td>1063</td>\n",
       "      <td>4.206569</td>\n",
       "      <td>11613</td>\n",
       "      <td>45.955679</td>\n",
       "      <td>297</td>\n",
       "      <td>1.199273</td>\n",
       "      <td>47.229917</td>\n",
       "      <td>18613.0</td>\n",
       "      <td>67.789635</td>\n",
       "      <td>1.876051e+06</td>\n",
       "    </tr>\n",
       "    <tr>\n",
       "      <th>3</th>\n",
       "      <td>1007</td>\n",
       "      <td>Alabama</td>\n",
       "      <td>Bibb</td>\n",
       "      <td>73.928271</td>\n",
       "      <td>72.294686</td>\n",
       "      <td>NaN</td>\n",
       "      <td>74.109510</td>\n",
       "      <td>445.0</td>\n",
       "      <td>563.7</td>\n",
       "      <td>700.414208</td>\n",
       "      <td>...</td>\n",
       "      <td>598</td>\n",
       "      <td>2.638080</td>\n",
       "      <td>16842</td>\n",
       "      <td>74.298571</td>\n",
       "      <td>84</td>\n",
       "      <td>0.394348</td>\n",
       "      <td>46.453150</td>\n",
       "      <td>15663.0</td>\n",
       "      <td>68.352607</td>\n",
       "      <td>1.638776e+06</td>\n",
       "    </tr>\n",
       "    <tr>\n",
       "      <th>4</th>\n",
       "      <td>1009</td>\n",
       "      <td>Alabama</td>\n",
       "      <td>Blount</td>\n",
       "      <td>74.597767</td>\n",
       "      <td>NaN</td>\n",
       "      <td>78.577094</td>\n",
       "      <td>74.098247</td>\n",
       "      <td>1050.0</td>\n",
       "      <td>501.8</td>\n",
       "      <td>NaN</td>\n",
       "      <td>...</td>\n",
       "      <td>5549</td>\n",
       "      <td>9.565097</td>\n",
       "      <td>50439</td>\n",
       "      <td>86.944306</td>\n",
       "      <td>1013</td>\n",
       "      <td>1.870004</td>\n",
       "      <td>50.688639</td>\n",
       "      <td>51562.0</td>\n",
       "      <td>89.951502</td>\n",
       "      <td>NaN</td>\n",
       "    </tr>\n",
       "  </tbody>\n",
       "</table>\n",
       "<p>5 rows × 78 columns</p>\n",
       "</div>"
      ],
      "text/plain": [
       "   FIPS    State   County  Life_Expectancy  Life_Expectancy_(Black)  \\\n",
       "0  1001  Alabama  Autauga        76.330589                74.600628   \n",
       "1  1003  Alabama  Baldwin        78.599498                75.628919   \n",
       "2  1005  Alabama  Barbour        75.779457                74.240228   \n",
       "3  1007  Alabama     Bibb        73.928271                72.294686   \n",
       "4  1009  Alabama   Blount        74.597767                      NaN   \n",
       "\n",
       "   Life_Expectancy_(Hispanic)  Life_Expectancy_(White)  #_Deaths  \\\n",
       "0                         NaN                76.337219     815.0   \n",
       "1                   98.039893                78.537003    2827.0   \n",
       "2                         NaN                77.568384     451.0   \n",
       "3                         NaN                74.109510     445.0   \n",
       "4                   78.577094                74.098247    1050.0   \n",
       "\n",
       "   Age-Adjusted_Mortality  Age-Adjusted_Mortality_(Black)  ...  #_Hispanic  \\\n",
       "0                   438.7                      532.977595  ...        1586   \n",
       "1                   348.4                      511.027189  ...        9675   \n",
       "2                   469.8                      541.700115  ...        1063   \n",
       "3                   563.7                      700.414208  ...         598   \n",
       "4                   501.8                             NaN  ...        5549   \n",
       "\n",
       "   %_Hispanic  #_Non-Hispanic_White  %_Non-Hispanic_White  \\\n",
       "0    2.857452                 41336             74.473912   \n",
       "1    4.550200                176582             83.047388   \n",
       "2    4.206569                 11613             45.955679   \n",
       "3    2.638080                 16842             74.298571   \n",
       "4    9.565097                 50439             86.944306   \n",
       "\n",
       "   #_Not_Proficient_in_English  %_Not_Proficient_in_English   %_Female  \\\n",
       "0                          430                     0.828548  51.342246   \n",
       "1                          872                     0.454512  51.452772   \n",
       "2                          297                     1.199273  47.229917   \n",
       "3                           84                     0.394348  46.453150   \n",
       "4                         1013                     1.870004  50.688639   \n",
       "\n",
       "   #_Rural    %_Rural           LEB  \n",
       "0  22921.0  42.002162  4.140633e+06  \n",
       "1  77060.0  42.279099  1.608083e+07  \n",
       "2  18613.0  67.789635  1.876051e+06  \n",
       "3  15663.0  68.352607  1.638776e+06  \n",
       "4  51562.0  89.951502           NaN  \n",
       "\n",
       "[5 rows x 78 columns]"
      ]
     },
     "execution_count": 271,
     "metadata": {},
     "output_type": "execute_result"
    }
   ],
   "source": [
    "df.head()"
   ]
  },
  {
   "cell_type": "markdown",
   "metadata": {},
   "source": [
    "### Exploratory Data Analysis"
   ]
  },
  {
   "cell_type": "markdown",
   "metadata": {},
   "source": [
    "#### Renaming columns"
   ]
  },
  {
   "cell_type": "code",
   "execution_count": 272,
   "metadata": {},
   "outputs": [
    {
     "name": "stdout",
     "output_type": "stream",
     "text": [
      "['FIPS', 'State', 'County', 'Life_Expectancy', 'Life_Expectancy_(Black)']\n"
     ]
    }
   ],
   "source": [
    "columns_name = df.columns\n",
    "new_column_names = []\n",
    "for column_name in columns_name:\n",
    "    new_column_names.append(column_name.replace(\" \", \"_\"))\n",
    "pprint(new_column_names[:5])\n",
    "df.columns = new_column_names"
   ]
  },
  {
   "cell_type": "markdown",
   "metadata": {},
   "source": [
    "#### Checking number of missing values by columns and dropping useless columns"
   ]
  },
  {
   "cell_type": "code",
   "execution_count": 273,
   "metadata": {},
   "outputs": [],
   "source": [
    "for column in new_column_names:\n",
    "    if df[column].isna().sum() == 3194:\n",
    "        df.drop(column, axis=1, inplace=True)\n",
    "    elif (\"CI_-_Low\" in column or \"CI_-_High\" in column):\n",
    "        df.drop(column, axis=1, inplace=True)\n",
    "    elif df[column].isna().sum() < 100:\n",
    "        pass\n",
    "#         print(column,df[column].isna().sum(),\"\\n\")\n",
    "    else:\n",
    "        continue\n",
    "        print(column,df[column].isna().sum(),\"\\n\")"
   ]
  },
  {
   "cell_type": "markdown",
   "metadata": {},
   "source": [
    "#### Delete rows missing Life Expectancy"
   ]
  },
  {
   "cell_type": "code",
   "execution_count": 257,
   "metadata": {},
   "outputs": [],
   "source": [
    "df = df.dropna(subset=[\"Life_Expectancy\"])"
   ]
  },
  {
   "cell_type": "markdown",
   "metadata": {},
   "source": [
    "### Group by States"
   ]
  },
  {
   "cell_type": "code",
   "execution_count": 279,
   "metadata": {},
   "outputs": [],
   "source": [
    "states_df = df.groupby(['State']).mean()"
   ]
  },
  {
   "cell_type": "code",
   "execution_count": 259,
   "metadata": {},
   "outputs": [],
   "source": [
    "#df.dropna(subset=[\"Life_Expectancy_(Black)\"])[\"Life_Expectancy_(Black)\"]"
   ]
  },
  {
   "cell_type": "code",
   "execution_count": 282,
   "metadata": {},
   "outputs": [
    {
     "data": {
      "text/plain": [
       "Index(['FIPS', 'Life_Expectancy', 'Life_Expectancy_(Black)',\n",
       "       'Life_Expectancy_(Hispanic)', 'Life_Expectancy_(White)', '#_Deaths',\n",
       "       'Age-Adjusted_Mortality', 'Age-Adjusted_Mortality_(Black)',\n",
       "       'Age-Adjusted_Mortality_(Hispanic)', 'Age-Adjusted_Mortality_(White)',\n",
       "       '#_Deaths.1', 'Child_Mortality_Rate', 'Child_Mortality_Rate_(Black)',\n",
       "       'Child_Mortality_Rate_(Hispanic)', 'Child_Mortality_Rate_(White)',\n",
       "       '#_Deaths.2', 'Infant_Mortality_Rate', 'Infant_Mortality_Rate_(Black)',\n",
       "       'Infant_Mortality_Rate_(Hispanic)', 'Infant_Mortality_Rate_(White)',\n",
       "       '%_Frequent_Physical_Distress', '%_Frequent_Mental_Distress',\n",
       "       '%_Diabetic', '#_HIV_Cases', 'HIV_Prevalence_Rate', '#_Food_Insecure',\n",
       "       '%_Food_Insecure', '#_Limited_Access', '%_Limited_Access',\n",
       "       '#_Drug_Overdose_Deaths', 'Drug_Overdose_Mortality_Rate',\n",
       "       '#_Motor_Vehicle_Deaths', 'MV_Mortality_Rate', '%_Insufficient_Sleep',\n",
       "       '#_Uninsured', '%_Uninsured', '#_Uninsured.1', '%_Uninsured.1',\n",
       "       'Other_PCP_Rate', '%_Disconnected_Youth', 'Household_Income',\n",
       "       'Household_income_(Black)', 'Household_income_(Hispanic)',\n",
       "       'Household_income_(White)', '%_Free_or_Reduced_Lunch',\n",
       "       'Segregation_index', 'Segregation_Index', 'Homicide_Rate',\n",
       "       '#_Firearm_Fatalities', 'Firearm_Fatalities_Rate', '#_Homeowners',\n",
       "       '%_Homeowners', '#_Households_with_Severe_Cost_Burden',\n",
       "       '%_Severe_Housing_Cost_Burden', 'Population', '%_<_18', '%_65_and_over',\n",
       "       '#_African_American', '%_African_American',\n",
       "       '#_American_Indian/Alaskan_Native', '%_American_Indian/Alaskan_Native',\n",
       "       '#_Asian', '%_Asian', '#_Native_Hawaiian/Other_Pacific_Islander',\n",
       "       '%_Native_Hawaiian/Other_Pacific_Islander', '#_Hispanic', '%_Hispanic',\n",
       "       '#_Non-Hispanic_White', '%_Non-Hispanic_White',\n",
       "       '#_Not_Proficient_in_English', '%_Not_Proficient_in_English',\n",
       "       '%_Female', '#_Rural', '%_Rural', 'LEB'],\n",
       "      dtype='object')"
      ]
     },
     "execution_count": 282,
     "metadata": {},
     "output_type": "execute_result"
    }
   ],
   "source": [
    "states_df.columns"
   ]
  },
  {
   "cell_type": "code",
   "execution_count": 307,
   "metadata": {},
   "outputs": [],
   "source": [
    "# Define a lambda function to compute the weighted mean:\n",
    "wm = lambda x: np.average(x, weights=df.loc[x.index, \"Population\"])\n",
    "\n",
    "# Define a dictionary with the functions to apply for a given column:\n",
    "f = {\"Population\":\"sum\",\n",
    "     \"Life_Expectancy\": wm, \n",
    "#      \"Life_Expectancy_(Black)\": \"median\",\n",
    "#      \"Life_Expectancy_(Hispanic)\": \"median\",\n",
    "#      \"Life_Expectancy_(White)\": \"median\",\n",
    "     \"%_Diabetic\": wm,\n",
    "     \"#_HIV_Cases\": \"sum\",\n",
    "     \"#_Food_Insecure\":\"sum\",\n",
    "     \"#_Limited_Access\":\"sum\",\n",
    "     \"#_Drug_Overdose_Deaths\":\"sum\",\n",
    "     \"#_Motor_Vehicle_Deaths\":\"sum\",\n",
    "     \"%_Insufficient_Sleep\":wm,\n",
    "     \"Household_Income\":wm,\n",
    "     \"%_Female\":wm\n",
    "     }\n",
    "\n",
    "# Groupby and aggregate with your dictionary:\n",
    "states_df = df.groupby([\"State\"]).agg(f)"
   ]
  },
  {
   "cell_type": "code",
   "execution_count": 308,
   "metadata": {},
   "outputs": [
    {
     "name": "stdout",
     "output_type": "stream",
     "text": [
      "<class 'pandas.core.frame.DataFrame'>\n",
      "RangeIndex: 51 entries, 0 to 50\n",
      "Data columns (total 12 columns):\n",
      "State                     51 non-null object\n",
      "Population                51 non-null int64\n",
      "Life_Expectancy           51 non-null float64\n",
      "%_Diabetic                51 non-null float64\n",
      "#_HIV_Cases               51 non-null float64\n",
      "#_Food_Insecure           51 non-null int64\n",
      "#_Limited_Access          51 non-null float64\n",
      "#_Drug_Overdose_Deaths    51 non-null float64\n",
      "#_Motor_Vehicle_Deaths    51 non-null float64\n",
      "%_Insufficient_Sleep      51 non-null float64\n",
      "Household_Income          51 non-null float64\n",
      "%_Female                  51 non-null float64\n",
      "dtypes: float64(9), int64(2), object(1)\n",
      "memory usage: 4.9+ KB\n"
     ]
    }
   ],
   "source": [
    "states_df = states_df.reset_index()\n",
    "states_df.info()"
   ]
  },
  {
   "cell_type": "code",
   "execution_count": 306,
   "metadata": {},
   "outputs": [
    {
     "name": "stdout",
     "output_type": "stream",
     "text": [
      "<class 'pandas.core.frame.DataFrame'>\n",
      "RangeIndex: 51 entries, 0 to 50\n",
      "Data columns (total 14 columns):\n",
      "State                         51 non-null category\n",
      "Population                    51 non-null int64\n",
      "Life_Expectancy               51 non-null float64\n",
      "Life_Expectancy_(Black)       51 non-null float64\n",
      "Life_Expectancy_(Hispanic)    51 non-null float64\n",
      "Life_Expectancy_(White)       51 non-null float64\n",
      "%_Diabetic                    51 non-null float64\n",
      "#_HIV_Cases                   51 non-null float64\n",
      "#_Food_Insecure               51 non-null int64\n",
      "#_Limited_Access              51 non-null float64\n",
      "#_Drug_Overdose_Deaths        51 non-null float64\n",
      "#_Motor_Vehicle_Deaths        51 non-null float64\n",
      "%_Insufficient_Sleep          51 non-null float64\n",
      "Household_Income              51 non-null float64\n",
      "dtypes: category(1), float64(11), int64(2)\n",
      "memory usage: 8.2 KB\n"
     ]
    }
   ],
   "source": [
    "states_df[\"State\"] = states_df[\"State\"].astype('category')\n",
    "states_df.info()"
   ]
  },
  {
   "cell_type": "markdown",
   "metadata": {},
   "source": [
    "TODO: Transform every # into percentages"
   ]
  },
  {
   "cell_type": "markdown",
   "metadata": {},
   "source": [
    "#### Rename Deaths columns"
   ]
  },
  {
   "cell_type": "markdown",
   "metadata": {},
   "source": [
    "limited access = limited access to healthy foods"
   ]
  },
  {
   "cell_type": "code",
   "execution_count": 222,
   "metadata": {},
   "outputs": [],
   "source": [
    "states = df.State.unique()"
   ]
  },
  {
   "cell_type": "code",
   "execution_count": null,
   "metadata": {},
   "outputs": [],
   "source": []
  }
 ],
 "metadata": {
  "kernelspec": {
   "display_name": "Python 3",
   "language": "python",
   "name": "python3"
  },
  "language_info": {
   "codemirror_mode": {
    "name": "ipython",
    "version": 3
   },
   "file_extension": ".py",
   "mimetype": "text/x-python",
   "name": "python",
   "nbconvert_exporter": "python",
   "pygments_lexer": "ipython3",
   "version": "3.7.3"
  }
 },
 "nbformat": 4,
 "nbformat_minor": 2
}
